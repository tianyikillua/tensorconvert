{
 "cells": [
  {
   "cell_type": "code",
   "execution_count": 1,
   "metadata": {},
   "outputs": [],
   "source": [
    "import sympy\n",
    "from tensorconvertor import SecondOrderTensor, FourthOrderTensor\n",
    "\n",
    "sympy.init_printing(use_latex=True)"
   ]
  },
  {
   "cell_type": "markdown",
   "metadata": {},
   "source": [
    "## Second-order"
   ]
  },
  {
   "cell_type": "code",
   "execution_count": 3,
   "metadata": {},
   "outputs": [
    {
     "data": {
      "image/png": "[encoded data removed]",
      "text/latex": [
       "$\\displaystyle \\left[\\begin{array}{ccc}a_{0, 0} & a_{0, 1} & a_{0, 2}\\\\a_{1, 0} & a_{1, 1} & a_{1, 2}\\\\a_{2, 0} & a_{2, 1} & a_{2, 2}\\end{array}\\right]$"
      ],
      "text/plain": [
       "⎡a₀₀  a₀₁  a₀₂⎤\n",
       "⎢             ⎥\n",
       "⎢a₁₀  a₁₁  a₁₂⎥\n",
       "⎢             ⎥\n",
       "⎣a₂₀  a₂₁  a₂₂⎦"
      ]
     },
     "execution_count": 3,
     "metadata": {},
     "output_type": "execute_result"
    }
   ],
   "source": [
    "SecondOrderTensor().as_array()"
   ]
  },
  {
   "cell_type": "code",
   "execution_count": 4,
   "metadata": {},
   "outputs": [
    {
     "data": {
      "image/png": "[encoded data removed]",
      "text/latex": [
       "$\\displaystyle \\left[\\begin{matrix}a_{0, 0}\\\\a_{1, 1}\\\\a_{2, 2}\\\\2 a_{0, 1}\\\\2 a_{0, 2}\\\\2 a_{1, 2}\\end{matrix}\\right]$"
      ],
      "text/plain": [
       "⎡ a₀₀ ⎤\n",
       "⎢     ⎥\n",
       "⎢ a₁₁ ⎥\n",
       "⎢     ⎥\n",
       "⎢ a₂₂ ⎥\n",
       "⎢     ⎥\n",
       "⎢2⋅a₀₁⎥\n",
       "⎢     ⎥\n",
       "⎢2⋅a₀₂⎥\n",
       "⎢     ⎥\n",
       "⎣2⋅a₁₂⎦"
      ]
     },
     "execution_count": 4,
     "metadata": {},
     "output_type": "execute_result"
    }
   ],
   "source": [
    "SecondOrderTensor().as_voigt_strain()"
   ]
  },
  {
   "cell_type": "code",
   "execution_count": 5,
   "metadata": {},
   "outputs": [
    {
     "data": {
      "image/png": "[encoded data removed]",
      "text/latex": [
       "$\\displaystyle \\left[\\begin{matrix}a_{0, 0}\\\\a_{1, 1}\\\\a_{2, 2}\\\\a_{0, 1}\\\\a_{0, 2}\\\\a_{1, 2}\\end{matrix}\\right]$"
      ],
      "text/plain": [
       "⎡a₀₀⎤\n",
       "⎢   ⎥\n",
       "⎢a₁₁⎥\n",
       "⎢   ⎥\n",
       "⎢a₂₂⎥\n",
       "⎢   ⎥\n",
       "⎢a₀₁⎥\n",
       "⎢   ⎥\n",
       "⎢a₀₂⎥\n",
       "⎢   ⎥\n",
       "⎣a₁₂⎦"
      ]
     },
     "execution_count": 5,
     "metadata": {},
     "output_type": "execute_result"
    }
   ],
   "source": [
    "SecondOrderTensor().as_voigt_stress()"
   ]
  },
  {
   "cell_type": "code",
   "execution_count": 6,
   "metadata": {},
   "outputs": [
    {
     "data": {
      "image/png": "[encoded data removed]",
      "text/latex": [
       "$\\displaystyle \\left[\\begin{matrix}a_{0, 0}\\\\a_{1, 1}\\\\a_{2, 2}\\\\\\sqrt{2} a_{0, 1}\\\\\\sqrt{2} a_{0, 2}\\\\\\sqrt{2} a_{1, 2}\\end{matrix}\\right]$"
      ],
      "text/plain": [
       "⎡ a₀₀  ⎤\n",
       "⎢      ⎥\n",
       "⎢ a₁₁  ⎥\n",
       "⎢      ⎥\n",
       "⎢ a₂₂  ⎥\n",
       "⎢      ⎥\n",
       "⎢√2⋅a₀₁⎥\n",
       "⎢      ⎥\n",
       "⎢√2⋅a₀₂⎥\n",
       "⎢      ⎥\n",
       "⎣√2⋅a₁₂⎦"
      ]
     },
     "execution_count": 6,
     "metadata": {},
     "output_type": "execute_result"
    }
   ],
   "source": [
    "SecondOrderTensor().as_mandel()"
   ]
  },
  {
   "cell_type": "code",
   "execution_count": 10,
   "metadata": {},
   "outputs": [
    {
     "data": {
      "image/png": "[encoded data removed]",
      "text/latex": [
       "$\\displaystyle \\left[\\begin{matrix}a_{0, 0}\\\\a_{1, 1}\\\\a_{2, 2}\\\\a_{0, 1}\\\\a_{1, 0}\\\\a_{0, 2}\\\\a_{2, 0}\\\\a_{1, 2}\\\\a_{2, 1}\\end{matrix}\\right]$"
      ],
      "text/plain": [
       "⎡a₀₀⎤\n",
       "⎢   ⎥\n",
       "⎢a₁₁⎥\n",
       "⎢   ⎥\n",
       "⎢a₂₂⎥\n",
       "⎢   ⎥\n",
       "⎢a₀₁⎥\n",
       "⎢   ⎥\n",
       "⎢a₁₀⎥\n",
       "⎢   ⎥\n",
       "⎢a₀₂⎥\n",
       "⎢   ⎥\n",
       "⎢a₂₀⎥\n",
       "⎢   ⎥\n",
       "⎢a₁₂⎥\n",
       "⎢   ⎥\n",
       "⎣a₂₁⎦"
      ]
     },
     "execution_count": 10,
     "metadata": {},
     "output_type": "execute_result"
    }
   ],
   "source": [
    "SecondOrderTensor().as_unsym()"
   ]
  },
  {
   "cell_type": "code",
   "execution_count": 7,
   "metadata": {},
   "outputs": [
    {
     "data": {
      "image/png": "[encoded data removed]",
      "text/latex": [
       "$\\displaystyle \\left[ \\left[\\begin{matrix}1 & 0 & 0\\\\0 & 0 & 0\\\\0 & 0 & 0\\end{matrix}\\right], \\  \\left[\\begin{matrix}0 & 0 & 0\\\\0 & 1 & 0\\\\0 & 0 & 0\\end{matrix}\\right], \\  \\left[\\begin{matrix}0 & 0 & 0\\\\0 & 0 & 0\\\\0 & 0 & 1\\end{matrix}\\right], \\  \\left[\\begin{matrix}0 & \\frac{\\sqrt{2}}{2} & 0\\\\\\frac{\\sqrt{2}}{2} & 0 & 0\\\\0 & 0 & 0\\end{matrix}\\right], \\  \\left[\\begin{matrix}0 & 0 & \\frac{\\sqrt{2}}{2}\\\\0 & 0 & 0\\\\\\frac{\\sqrt{2}}{2} & 0 & 0\\end{matrix}\\right], \\  \\left[\\begin{matrix}0 & 0 & 0\\\\0 & 0 & \\frac{\\sqrt{2}}{2}\\\\0 & \\frac{\\sqrt{2}}{2} & 0\\end{matrix}\\right]\\right]$"
      ],
      "text/plain": [
       "⎡                                 ⎡    √2   ⎤  ⎡       √2⎤  ⎡0  0   0 ⎤⎤\n",
       "⎢                                 ⎢0   ──  0⎥  ⎢0   0  ──⎥  ⎢         ⎥⎥\n",
       "⎢⎡1  0  0⎤  ⎡0  0  0⎤  ⎡0  0  0⎤  ⎢    2    ⎥  ⎢       2 ⎥  ⎢       √2⎥⎥\n",
       "⎢⎢       ⎥  ⎢       ⎥  ⎢       ⎥  ⎢         ⎥  ⎢         ⎥  ⎢0  0   ──⎥⎥\n",
       "⎢⎢0  0  0⎥, ⎢0  1  0⎥, ⎢0  0  0⎥, ⎢√2       ⎥, ⎢0   0  0 ⎥, ⎢       2 ⎥⎥\n",
       "⎢⎢       ⎥  ⎢       ⎥  ⎢       ⎥  ⎢──  0   0⎥  ⎢         ⎥  ⎢         ⎥⎥\n",
       "⎢⎣0  0  0⎦  ⎣0  0  0⎦  ⎣0  0  1⎦  ⎢2        ⎥  ⎢√2       ⎥  ⎢   √2    ⎥⎥\n",
       "⎢                                 ⎢         ⎥  ⎢──  0  0 ⎥  ⎢0  ──  0 ⎥⎥\n",
       "⎣                                 ⎣0   0   0⎦  ⎣2        ⎦  ⎣   2     ⎦⎦"
      ]
     },
     "execution_count": 7,
     "metadata": {},
     "output_type": "execute_result"
    }
   ],
   "source": [
    "SecondOrderTensor().basis_mandel()"
   ]
  },
  {
   "cell_type": "code",
   "execution_count": 3,
   "metadata": {},
   "outputs": [
    {
     "data": {
      "image/png": "[encoded data removed]",
      "text/latex": [
       "$\\displaystyle \\left[ \\left[\\begin{matrix}1 & 0 & 0\\\\0 & 0 & 0\\\\0 & 0 & 0\\end{matrix}\\right], \\  \\left[\\begin{matrix}0 & 0 & 0\\\\0 & 1 & 0\\\\0 & 0 & 0\\end{matrix}\\right], \\  \\left[\\begin{matrix}0 & 0 & 0\\\\0 & 0 & 0\\\\0 & 0 & 1\\end{matrix}\\right], \\  \\left[\\begin{matrix}0 & \\frac{1}{2} & 0\\\\\\frac{1}{2} & 0 & 0\\\\0 & 0 & 0\\end{matrix}\\right], \\  \\left[\\begin{matrix}0 & 0 & \\frac{1}{2}\\\\0 & 0 & 0\\\\\\frac{1}{2} & 0 & 0\\end{matrix}\\right], \\  \\left[\\begin{matrix}0 & 0 & 0\\\\0 & 0 & \\frac{1}{2}\\\\0 & \\frac{1}{2} & 0\\end{matrix}\\right]\\right]$"
      ],
      "text/plain": [
       "⎡⎡1  0  0⎤  ⎡0  0  0⎤  ⎡0  0  0⎤  ⎡ 0   1/2  0⎤  ⎡ 0   0  1/2⎤  ⎡0   0    0 ⎤⎤\n",
       "⎢⎢       ⎥  ⎢       ⎥  ⎢       ⎥  ⎢           ⎥  ⎢           ⎥  ⎢           ⎥⎥\n",
       "⎢⎢0  0  0⎥, ⎢0  1  0⎥, ⎢0  0  0⎥, ⎢1/2   0   0⎥, ⎢ 0   0   0 ⎥, ⎢0   0   1/2⎥⎥\n",
       "⎢⎢       ⎥  ⎢       ⎥  ⎢       ⎥  ⎢           ⎥  ⎢           ⎥  ⎢           ⎥⎥\n",
       "⎣⎣0  0  0⎦  ⎣0  0  0⎦  ⎣0  0  1⎦  ⎣ 0    0   0⎦  ⎣1/2  0   0 ⎦  ⎣0  1/2   0 ⎦⎦"
      ]
     },
     "execution_count": 3,
     "metadata": {},
     "output_type": "execute_result"
    }
   ],
   "source": [
    "SecondOrderTensor().basis_voigt_strain()"
   ]
  },
  {
   "cell_type": "code",
   "execution_count": 4,
   "metadata": {},
   "outputs": [
    {
     "data": {
      "image/png": "[encoded data removed]",
      "text/latex": [
       "$\\displaystyle \\left[ \\left[\\begin{matrix}1 & 0 & 0\\\\0 & 0 & 0\\\\0 & 0 & 0\\end{matrix}\\right], \\  \\left[\\begin{matrix}0 & 0 & 0\\\\0 & 1 & 0\\\\0 & 0 & 0\\end{matrix}\\right], \\  \\left[\\begin{matrix}0 & 0 & 0\\\\0 & 0 & 0\\\\0 & 0 & 1\\end{matrix}\\right], \\  \\left[\\begin{matrix}0 & 1 & 0\\\\1 & 0 & 0\\\\0 & 0 & 0\\end{matrix}\\right], \\  \\left[\\begin{matrix}0 & 0 & 1\\\\0 & 0 & 0\\\\1 & 0 & 0\\end{matrix}\\right], \\  \\left[\\begin{matrix}0 & 0 & 0\\\\0 & 0 & 1\\\\0 & 1 & 0\\end{matrix}\\right]\\right]$"
      ],
      "text/plain": [
       "⎡⎡1  0  0⎤  ⎡0  0  0⎤  ⎡0  0  0⎤  ⎡0  1  0⎤  ⎡0  0  1⎤  ⎡0  0  0⎤⎤\n",
       "⎢⎢       ⎥  ⎢       ⎥  ⎢       ⎥  ⎢       ⎥  ⎢       ⎥  ⎢       ⎥⎥\n",
       "⎢⎢0  0  0⎥, ⎢0  1  0⎥, ⎢0  0  0⎥, ⎢1  0  0⎥, ⎢0  0  0⎥, ⎢0  0  1⎥⎥\n",
       "⎢⎢       ⎥  ⎢       ⎥  ⎢       ⎥  ⎢       ⎥  ⎢       ⎥  ⎢       ⎥⎥\n",
       "⎣⎣0  0  0⎦  ⎣0  0  0⎦  ⎣0  0  1⎦  ⎣0  0  0⎦  ⎣1  0  0⎦  ⎣0  1  0⎦⎦"
      ]
     },
     "execution_count": 4,
     "metadata": {},
     "output_type": "execute_result"
    }
   ],
   "source": [
    "SecondOrderTensor().basis_voigt_stress()"
   ]
  },
  {
   "cell_type": "code",
   "execution_count": 9,
   "metadata": {},
   "outputs": [
    {
     "data": {
      "image/png": "[encoded data removed]",
      "text/latex": [
       "$\\displaystyle \\left[ \\left[\\begin{matrix}1 & 0 & 0\\\\0 & 0 & 0\\\\0 & 0 & 0\\end{matrix}\\right], \\  \\left[\\begin{matrix}0 & 0 & 0\\\\0 & 1 & 0\\\\0 & 0 & 0\\end{matrix}\\right], \\  \\left[\\begin{matrix}0 & 0 & 0\\\\0 & 0 & 0\\\\0 & 0 & 1\\end{matrix}\\right], \\  \\left[\\begin{matrix}0 & 1 & 0\\\\0 & 0 & 0\\\\0 & 0 & 0\\end{matrix}\\right], \\  \\left[\\begin{matrix}0 & 0 & 0\\\\1 & 0 & 0\\\\0 & 0 & 0\\end{matrix}\\right], \\  \\left[\\begin{matrix}0 & 0 & 1\\\\0 & 0 & 0\\\\0 & 0 & 0\\end{matrix}\\right], \\  \\left[\\begin{matrix}0 & 0 & 0\\\\0 & 0 & 0\\\\1 & 0 & 0\\end{matrix}\\right], \\  \\left[\\begin{matrix}0 & 0 & 0\\\\0 & 0 & 1\\\\0 & 0 & 0\\end{matrix}\\right], \\  \\left[\\begin{matrix}0 & 0 & 0\\\\0 & 0 & 0\\\\0 & 1 & 0\\end{matrix}\\right]\\right]$"
      ],
      "text/plain": [
       "⎡⎡1  0  0⎤  ⎡0  0  0⎤  ⎡0  0  0⎤  ⎡0  1  0⎤  ⎡0  0  0⎤  ⎡0  0  1⎤  ⎡0  0  0⎤  \n",
       "⎢⎢       ⎥  ⎢       ⎥  ⎢       ⎥  ⎢       ⎥  ⎢       ⎥  ⎢       ⎥  ⎢       ⎥  \n",
       "⎢⎢0  0  0⎥, ⎢0  1  0⎥, ⎢0  0  0⎥, ⎢0  0  0⎥, ⎢1  0  0⎥, ⎢0  0  0⎥, ⎢0  0  0⎥, \n",
       "⎢⎢       ⎥  ⎢       ⎥  ⎢       ⎥  ⎢       ⎥  ⎢       ⎥  ⎢       ⎥  ⎢       ⎥  \n",
       "⎣⎣0  0  0⎦  ⎣0  0  0⎦  ⎣0  0  1⎦  ⎣0  0  0⎦  ⎣0  0  0⎦  ⎣0  0  0⎦  ⎣1  0  0⎦  \n",
       "\n",
       "⎡0  0  0⎤  ⎡0  0  0⎤⎤\n",
       "⎢       ⎥  ⎢       ⎥⎥\n",
       "⎢0  0  1⎥, ⎢0  0  0⎥⎥\n",
       "⎢       ⎥  ⎢       ⎥⎥\n",
       "⎣0  0  0⎦  ⎣0  1  0⎦⎦"
      ]
     },
     "execution_count": 9,
     "metadata": {},
     "output_type": "execute_result"
    }
   ],
   "source": [
    "SecondOrderTensor().basis_unsym()"
   ]
  },
  {
   "cell_type": "code",
   "execution_count": 8,
   "metadata": {},
   "outputs": [
    {
     "data": {
      "image/png": "[encoded data removed]",
      "text/latex": [
       "$\\displaystyle \\left[ \\left[\\begin{matrix}1 & 0\\\\0 & 0\\end{matrix}\\right], \\  \\left[\\begin{matrix}0 & 0\\\\0 & 1\\end{matrix}\\right], \\  \\left[\\begin{matrix}0 & \\frac{\\sqrt{2}}{2}\\\\\\frac{\\sqrt{2}}{2} & 0\\end{matrix}\\right]\\right]$"
      ],
      "text/plain": [
       "⎡                ⎡    √2⎤⎤\n",
       "⎢                ⎢0   ──⎥⎥\n",
       "⎢⎡1  0⎤  ⎡0  0⎤  ⎢    2 ⎥⎥\n",
       "⎢⎢    ⎥, ⎢    ⎥, ⎢      ⎥⎥\n",
       "⎢⎣0  0⎦  ⎣0  1⎦  ⎢√2    ⎥⎥\n",
       "⎢                ⎢──  0 ⎥⎥\n",
       "⎣                ⎣2     ⎦⎦"
      ]
     },
     "execution_count": 8,
     "metadata": {},
     "output_type": "execute_result"
    }
   ],
   "source": [
    "SecondOrderTensor(dim=2).basis_mandel()"
   ]
  },
  {
   "cell_type": "code",
   "execution_count": 11,
   "metadata": {},
   "outputs": [
    {
     "data": {
      "image/png": "[encoded data removed]",
      "text/latex": [
       "$\\displaystyle \\left[ \\left[\\begin{matrix}1 & 0\\\\0 & 0\\end{matrix}\\right], \\  \\left[\\begin{matrix}0 & 0\\\\0 & 1\\end{matrix}\\right], \\  \\left[\\begin{matrix}0 & 1\\\\0 & 0\\end{matrix}\\right], \\  \\left[\\begin{matrix}0 & 0\\\\1 & 0\\end{matrix}\\right]\\right]$"
      ],
      "text/plain": [
       "⎡⎡1  0⎤  ⎡0  0⎤  ⎡0  1⎤  ⎡0  0⎤⎤\n",
       "⎢⎢    ⎥, ⎢    ⎥, ⎢    ⎥, ⎢    ⎥⎥\n",
       "⎣⎣0  0⎦  ⎣0  1⎦  ⎣0  0⎦  ⎣1  0⎦⎦"
      ]
     },
     "execution_count": 11,
     "metadata": {},
     "output_type": "execute_result"
    }
   ],
   "source": [
    "SecondOrderTensor(dim=2).basis_unsym()"
   ]
  },
  {
   "cell_type": "markdown",
   "metadata": {},
   "source": [
    "## Fourth-order"
   ]
  },
  {
   "cell_type": "code",
   "execution_count": 8,
   "metadata": {},
   "outputs": [
    {
     "data": {
      "image/png": "[encoded data removed]",
      "text/latex": [
       "$\\displaystyle \\left[\\begin{matrix}{{a}_{0, 0, 0, 0}} & {{a}_{0, 0, 1, 1}} & {{a}_{0, 0, 2, 2}} & {{a}_{0, 0, 0, 1}} & {{a}_{0, 0, 0, 2}} & {{a}_{0, 0, 1, 2}}\\\\{{a}_{0, 0, 1, 1}} & {{a}_{1, 1, 1, 1}} & {{a}_{1, 1, 2, 2}} & {{a}_{1, 1, 0, 1}} & {{a}_{1, 1, 0, 2}} & {{a}_{1, 1, 1, 2}}\\\\{{a}_{0, 0, 2, 2}} & {{a}_{1, 1, 2, 2}} & {{a}_{2, 2, 2, 2}} & {{a}_{2, 2, 0, 1}} & {{a}_{2, 2, 0, 2}} & {{a}_{2, 2, 1, 2}}\\\\{{a}_{0, 0, 0, 1}} & {{a}_{1, 1, 0, 1}} & {{a}_{2, 2, 0, 1}} & {{a}_{0, 1, 0, 1}} & {{a}_{0, 1, 0, 2}} & {{a}_{0, 1, 1, 2}}\\\\{{a}_{0, 0, 0, 2}} & {{a}_{1, 1, 0, 2}} & {{a}_{2, 2, 0, 2}} & {{a}_{0, 1, 0, 2}} & {{a}_{0, 2, 0, 2}} & {{a}_{0, 2, 1, 2}}\\\\{{a}_{0, 0, 1, 2}} & {{a}_{1, 1, 1, 2}} & {{a}_{2, 2, 1, 2}} & {{a}_{0, 1, 1, 2}} & {{a}_{0, 2, 1, 2}} & {{a}_{1, 2, 1, 2}}\\end{matrix}\\right]$"
      ],
      "text/plain": [
       "⎡a[0, 0, 0, 0]  a[0, 0, 1, 1]  a[0, 0, 2, 2]  a[0, 0, 0, 1]  a[0, 0, 0, 2]  a[\n",
       "⎢                                                                             \n",
       "⎢a[0, 0, 1, 1]  a[1, 1, 1, 1]  a[1, 1, 2, 2]  a[1, 1, 0, 1]  a[1, 1, 0, 2]  a[\n",
       "⎢                                                                             \n",
       "⎢a[0, 0, 2, 2]  a[1, 1, 2, 2]  a[2, 2, 2, 2]  a[2, 2, 0, 1]  a[2, 2, 0, 2]  a[\n",
       "⎢                                                                             \n",
       "⎢a[0, 0, 0, 1]  a[1, 1, 0, 1]  a[2, 2, 0, 1]  a[0, 1, 0, 1]  a[0, 1, 0, 2]  a[\n",
       "⎢                                                                             \n",
       "⎢a[0, 0, 0, 2]  a[1, 1, 0, 2]  a[2, 2, 0, 2]  a[0, 1, 0, 2]  a[0, 2, 0, 2]  a[\n",
       "⎢                                                                             \n",
       "⎣a[0, 0, 1, 2]  a[1, 1, 1, 2]  a[2, 2, 1, 2]  a[0, 1, 1, 2]  a[0, 2, 1, 2]  a[\n",
       "\n",
       "0, 0, 1, 2]⎤\n",
       "           ⎥\n",
       "1, 1, 1, 2]⎥\n",
       "           ⎥\n",
       "2, 2, 1, 2]⎥\n",
       "           ⎥\n",
       "0, 1, 1, 2]⎥\n",
       "           ⎥\n",
       "0, 2, 1, 2]⎥\n",
       "           ⎥\n",
       "1, 2, 1, 2]⎦"
      ]
     },
     "execution_count": 8,
     "metadata": {},
     "output_type": "execute_result"
    }
   ],
   "source": [
    "FourthOrderTensor(symmetry=\"major\").as_voigt()"
   ]
  },
  {
   "cell_type": "code",
   "execution_count": 5,
   "metadata": {},
   "outputs": [
    {
     "data": {
      "image/png": "[encoded data removed]",
      "text/latex": [
       "$\\displaystyle \\left[\\begin{matrix}{{a}_{0, 0, 0, 0}} & {{a}_{0, 0, 1, 1}} & {{a}_{0, 0, 2, 2}} & {{a}_{0, 0, 0, 1}} & {{a}_{0, 0, 0, 2}} & {{a}_{0, 0, 1, 2}}\\\\{{a}_{1, 1, 0, 0}} & {{a}_{1, 1, 1, 1}} & {{a}_{1, 1, 2, 2}} & {{a}_{1, 1, 0, 1}} & {{a}_{1, 1, 0, 2}} & {{a}_{1, 1, 1, 2}}\\\\{{a}_{2, 2, 0, 0}} & {{a}_{2, 2, 1, 1}} & {{a}_{2, 2, 2, 2}} & {{a}_{2, 2, 0, 1}} & {{a}_{2, 2, 0, 2}} & {{a}_{2, 2, 1, 2}}\\\\{{a}_{0, 1, 0, 0}} & {{a}_{0, 1, 1, 1}} & {{a}_{0, 1, 2, 2}} & {{a}_{0, 1, 0, 1}} & {{a}_{0, 1, 0, 2}} & {{a}_{0, 1, 1, 2}}\\\\{{a}_{0, 2, 0, 0}} & {{a}_{0, 2, 1, 1}} & {{a}_{0, 2, 2, 2}} & {{a}_{0, 2, 0, 1}} & {{a}_{0, 2, 0, 2}} & {{a}_{0, 2, 1, 2}}\\\\{{a}_{1, 2, 0, 0}} & {{a}_{1, 2, 1, 1}} & {{a}_{1, 2, 2, 2}} & {{a}_{1, 2, 0, 1}} & {{a}_{1, 2, 0, 2}} & {{a}_{1, 2, 1, 2}}\\end{matrix}\\right]$"
      ],
      "text/plain": [
       "⎡a[0, 0, 0, 0]  a[0, 0, 1, 1]  a[0, 0, 2, 2]  a[0, 0, 0, 1]  a[0, 0, 0, 2]  a[\n",
       "⎢                                                                             \n",
       "⎢a[1, 1, 0, 0]  a[1, 1, 1, 1]  a[1, 1, 2, 2]  a[1, 1, 0, 1]  a[1, 1, 0, 2]  a[\n",
       "⎢                                                                             \n",
       "⎢a[2, 2, 0, 0]  a[2, 2, 1, 1]  a[2, 2, 2, 2]  a[2, 2, 0, 1]  a[2, 2, 0, 2]  a[\n",
       "⎢                                                                             \n",
       "⎢a[0, 1, 0, 0]  a[0, 1, 1, 1]  a[0, 1, 2, 2]  a[0, 1, 0, 1]  a[0, 1, 0, 2]  a[\n",
       "⎢                                                                             \n",
       "⎢a[0, 2, 0, 0]  a[0, 2, 1, 1]  a[0, 2, 2, 2]  a[0, 2, 0, 1]  a[0, 2, 0, 2]  a[\n",
       "⎢                                                                             \n",
       "⎣a[1, 2, 0, 0]  a[1, 2, 1, 1]  a[1, 2, 2, 2]  a[1, 2, 0, 1]  a[1, 2, 0, 2]  a[\n",
       "\n",
       "0, 0, 1, 2]⎤\n",
       "           ⎥\n",
       "1, 1, 1, 2]⎥\n",
       "           ⎥\n",
       "2, 2, 1, 2]⎥\n",
       "           ⎥\n",
       "0, 1, 1, 2]⎥\n",
       "           ⎥\n",
       "0, 2, 1, 2]⎥\n",
       "           ⎥\n",
       "1, 2, 1, 2]⎦"
      ]
     },
     "execution_count": 5,
     "metadata": {},
     "output_type": "execute_result"
    }
   ],
   "source": [
    "FourthOrderTensor(symmetry=\"minor\").as_voigt()"
   ]
  },
  {
   "cell_type": "code",
   "execution_count": 9,
   "metadata": {},
   "outputs": [
    {
     "data": {
      "image/png": "[encoded data removed]",
      "text/latex": [
       "$\\displaystyle \\left[\\begin{matrix}{{a}_{0, 0, 0, 0}} & {{a}_{0, 0, 1, 1}} & {{a}_{0, 0, 2, 2}} & \\sqrt{2} {{a}_{0, 0, 0, 1}} & \\sqrt{2} {{a}_{0, 0, 0, 2}} & \\sqrt{2} {{a}_{0, 0, 1, 2}}\\\\{{a}_{0, 0, 1, 1}} & {{a}_{1, 1, 1, 1}} & {{a}_{1, 1, 2, 2}} & \\sqrt{2} {{a}_{1, 1, 0, 1}} & \\sqrt{2} {{a}_{1, 1, 0, 2}} & \\sqrt{2} {{a}_{1, 1, 1, 2}}\\\\{{a}_{0, 0, 2, 2}} & {{a}_{1, 1, 2, 2}} & {{a}_{2, 2, 2, 2}} & \\sqrt{2} {{a}_{2, 2, 0, 1}} & \\sqrt{2} {{a}_{2, 2, 0, 2}} & \\sqrt{2} {{a}_{2, 2, 1, 2}}\\\\\\sqrt{2} {{a}_{0, 0, 0, 1}} & \\sqrt{2} {{a}_{1, 1, 0, 1}} & \\sqrt{2} {{a}_{2, 2, 0, 1}} & 2 {{a}_{0, 1, 0, 1}} & 2 {{a}_{0, 1, 0, 2}} & 2 {{a}_{0, 1, 1, 2}}\\\\\\sqrt{2} {{a}_{0, 0, 0, 2}} & \\sqrt{2} {{a}_{1, 1, 0, 2}} & \\sqrt{2} {{a}_{2, 2, 0, 2}} & 2 {{a}_{0, 1, 0, 2}} & 2 {{a}_{0, 2, 0, 2}} & 2 {{a}_{0, 2, 1, 2}}\\\\\\sqrt{2} {{a}_{0, 0, 1, 2}} & \\sqrt{2} {{a}_{1, 1, 1, 2}} & \\sqrt{2} {{a}_{2, 2, 1, 2}} & 2 {{a}_{0, 1, 1, 2}} & 2 {{a}_{0, 2, 1, 2}} & 2 {{a}_{1, 2, 1, 2}}\\end{matrix}\\right]$"
      ],
      "text/plain": [
       "⎡ a[0, 0, 0, 0]     a[0, 0, 1, 1]     a[0, 0, 2, 2]    √2⋅a[0, 0, 0, 1]  √2⋅a[\n",
       "⎢                                                                             \n",
       "⎢ a[0, 0, 1, 1]     a[1, 1, 1, 1]     a[1, 1, 2, 2]    √2⋅a[1, 1, 0, 1]  √2⋅a[\n",
       "⎢                                                                             \n",
       "⎢ a[0, 0, 2, 2]     a[1, 1, 2, 2]     a[2, 2, 2, 2]    √2⋅a[2, 2, 0, 1]  √2⋅a[\n",
       "⎢                                                                             \n",
       "⎢√2⋅a[0, 0, 0, 1]  √2⋅a[1, 1, 0, 1]  √2⋅a[2, 2, 0, 1]  2⋅a[0, 1, 0, 1]   2⋅a[0\n",
       "⎢                                                                             \n",
       "⎢√2⋅a[0, 0, 0, 2]  √2⋅a[1, 1, 0, 2]  √2⋅a[2, 2, 0, 2]  2⋅a[0, 1, 0, 2]   2⋅a[0\n",
       "⎢                                                                             \n",
       "⎣√2⋅a[0, 0, 1, 2]  √2⋅a[1, 1, 1, 2]  √2⋅a[2, 2, 1, 2]  2⋅a[0, 1, 1, 2]   2⋅a[0\n",
       "\n",
       "0, 0, 0, 2]  √2⋅a[0, 0, 1, 2]⎤\n",
       "                             ⎥\n",
       "1, 1, 0, 2]  √2⋅a[1, 1, 1, 2]⎥\n",
       "                             ⎥\n",
       "2, 2, 0, 2]  √2⋅a[2, 2, 1, 2]⎥\n",
       "                             ⎥\n",
       ", 1, 0, 2]   2⋅a[0, 1, 1, 2] ⎥\n",
       "                             ⎥\n",
       ", 2, 0, 2]   2⋅a[0, 2, 1, 2] ⎥\n",
       "                             ⎥\n",
       ", 2, 1, 2]   2⋅a[1, 2, 1, 2] ⎦"
      ]
     },
     "execution_count": 9,
     "metadata": {},
     "output_type": "execute_result"
    }
   ],
   "source": [
    "FourthOrderTensor(symmetry=\"major\").as_mandel()"
   ]
  },
  {
   "cell_type": "code",
   "execution_count": 3,
   "metadata": {},
   "outputs": [
    {
     "data": {
      "image/png": "[encoded data removed]",
      "text/latex": [
       "$\\displaystyle \\left[\\begin{matrix}{{a}_{0, 0, 0, 0}} & {{a}_{0, 0, 1, 1}} & {{a}_{0, 0, 2, 2}} & {{a}_{0, 0, 0, 1}} & {{a}_{0, 0, 1, 0}} & {{a}_{0, 0, 0, 2}} & {{a}_{0, 0, 2, 0}} & {{a}_{0, 0, 1, 2}} & {{a}_{0, 0, 2, 1}}\\\\{{a}_{1, 1, 0, 0}} & {{a}_{1, 1, 1, 1}} & {{a}_{1, 1, 2, 2}} & {{a}_{1, 1, 0, 1}} & {{a}_{1, 1, 1, 0}} & {{a}_{1, 1, 0, 2}} & {{a}_{1, 1, 2, 0}} & {{a}_{1, 1, 1, 2}} & {{a}_{1, 1, 2, 1}}\\\\{{a}_{2, 2, 0, 0}} & {{a}_{2, 2, 1, 1}} & {{a}_{2, 2, 2, 2}} & {{a}_{2, 2, 0, 1}} & {{a}_{2, 2, 1, 0}} & {{a}_{2, 2, 0, 2}} & {{a}_{2, 2, 2, 0}} & {{a}_{2, 2, 1, 2}} & {{a}_{2, 2, 2, 1}}\\\\{{a}_{0, 1, 0, 0}} & {{a}_{0, 1, 1, 1}} & {{a}_{0, 1, 2, 2}} & {{a}_{0, 1, 0, 1}} & {{a}_{0, 1, 1, 0}} & {{a}_{0, 1, 0, 2}} & {{a}_{0, 1, 2, 0}} & {{a}_{0, 1, 1, 2}} & {{a}_{0, 1, 2, 1}}\\\\{{a}_{1, 0, 0, 0}} & {{a}_{1, 0, 1, 1}} & {{a}_{1, 0, 2, 2}} & {{a}_{1, 0, 0, 1}} & {{a}_{1, 0, 1, 0}} & {{a}_{1, 0, 0, 2}} & {{a}_{1, 0, 2, 0}} & {{a}_{1, 0, 1, 2}} & {{a}_{1, 0, 2, 1}}\\\\{{a}_{0, 2, 0, 0}} & {{a}_{0, 2, 1, 1}} & {{a}_{0, 2, 2, 2}} & {{a}_{0, 2, 0, 1}} & {{a}_{0, 2, 1, 0}} & {{a}_{0, 2, 0, 2}} & {{a}_{0, 2, 2, 0}} & {{a}_{0, 2, 1, 2}} & {{a}_{0, 2, 2, 1}}\\\\{{a}_{2, 0, 0, 0}} & {{a}_{2, 0, 1, 1}} & {{a}_{2, 0, 2, 2}} & {{a}_{2, 0, 0, 1}} & {{a}_{2, 0, 1, 0}} & {{a}_{2, 0, 0, 2}} & {{a}_{2, 0, 2, 0}} & {{a}_{2, 0, 1, 2}} & {{a}_{2, 0, 2, 1}}\\\\{{a}_{1, 2, 0, 0}} & {{a}_{1, 2, 1, 1}} & {{a}_{1, 2, 2, 2}} & {{a}_{1, 2, 0, 1}} & {{a}_{1, 2, 1, 0}} & {{a}_{1, 2, 0, 2}} & {{a}_{1, 2, 2, 0}} & {{a}_{1, 2, 1, 2}} & {{a}_{1, 2, 2, 1}}\\\\{{a}_{2, 1, 0, 0}} & {{a}_{2, 1, 1, 1}} & {{a}_{2, 1, 2, 2}} & {{a}_{2, 1, 0, 1}} & {{a}_{2, 1, 1, 0}} & {{a}_{2, 1, 0, 2}} & {{a}_{2, 1, 2, 0}} & {{a}_{2, 1, 1, 2}} & {{a}_{2, 1, 2, 1}}\\end{matrix}\\right]$"
      ],
      "text/plain": [
       "⎡a[0, 0, 0, 0]  a[0, 0, 1, 1]  a[0, 0, 2, 2]  a[0, 0, 0, 1]  a[0, 0, 1, 0]  a[\n",
       "⎢                                                                             \n",
       "⎢a[1, 1, 0, 0]  a[1, 1, 1, 1]  a[1, 1, 2, 2]  a[1, 1, 0, 1]  a[1, 1, 1, 0]  a[\n",
       "⎢                                                                             \n",
       "⎢a[2, 2, 0, 0]  a[2, 2, 1, 1]  a[2, 2, 2, 2]  a[2, 2, 0, 1]  a[2, 2, 1, 0]  a[\n",
       "⎢                                                                             \n",
       "⎢a[0, 1, 0, 0]  a[0, 1, 1, 1]  a[0, 1, 2, 2]  a[0, 1, 0, 1]  a[0, 1, 1, 0]  a[\n",
       "⎢                                                                             \n",
       "⎢a[1, 0, 0, 0]  a[1, 0, 1, 1]  a[1, 0, 2, 2]  a[1, 0, 0, 1]  a[1, 0, 1, 0]  a[\n",
       "⎢                                                                             \n",
       "⎢a[0, 2, 0, 0]  a[0, 2, 1, 1]  a[0, 2, 2, 2]  a[0, 2, 0, 1]  a[0, 2, 1, 0]  a[\n",
       "⎢                                                                             \n",
       "⎢a[2, 0, 0, 0]  a[2, 0, 1, 1]  a[2, 0, 2, 2]  a[2, 0, 0, 1]  a[2, 0, 1, 0]  a[\n",
       "⎢                                                                             \n",
       "⎢a[1, 2, 0, 0]  a[1, 2, 1, 1]  a[1, 2, 2, 2]  a[1, 2, 0, 1]  a[1, 2, 1, 0]  a[\n",
       "⎢                                                                             \n",
       "⎣a[2, 1, 0, 0]  a[2, 1, 1, 1]  a[2, 1, 2, 2]  a[2, 1, 0, 1]  a[2, 1, 1, 0]  a[\n",
       "\n",
       "0, 0, 0, 2]  a[0, 0, 2, 0]  a[0, 0, 1, 2]  a[0, 0, 2, 1]⎤\n",
       "                                                        ⎥\n",
       "1, 1, 0, 2]  a[1, 1, 2, 0]  a[1, 1, 1, 2]  a[1, 1, 2, 1]⎥\n",
       "                                                        ⎥\n",
       "2, 2, 0, 2]  a[2, 2, 2, 0]  a[2, 2, 1, 2]  a[2, 2, 2, 1]⎥\n",
       "                                                        ⎥\n",
       "0, 1, 0, 2]  a[0, 1, 2, 0]  a[0, 1, 1, 2]  a[0, 1, 2, 1]⎥\n",
       "                                                        ⎥\n",
       "1, 0, 0, 2]  a[1, 0, 2, 0]  a[1, 0, 1, 2]  a[1, 0, 2, 1]⎥\n",
       "                                                        ⎥\n",
       "0, 2, 0, 2]  a[0, 2, 2, 0]  a[0, 2, 1, 2]  a[0, 2, 2, 1]⎥\n",
       "                                                        ⎥\n",
       "2, 0, 0, 2]  a[2, 0, 2, 0]  a[2, 0, 1, 2]  a[2, 0, 2, 1]⎥\n",
       "                                                        ⎥\n",
       "1, 2, 0, 2]  a[1, 2, 2, 0]  a[1, 2, 1, 2]  a[1, 2, 2, 1]⎥\n",
       "                                                        ⎥\n",
       "2, 1, 0, 2]  a[2, 1, 2, 0]  a[2, 1, 1, 2]  a[2, 1, 2, 1]⎦"
      ]
     },
     "execution_count": 3,
     "metadata": {},
     "output_type": "execute_result"
    }
   ],
   "source": [
    "FourthOrderTensor(symmetry=None).as_unsym()"
   ]
  },
  {
   "cell_type": "code",
   "execution_count": 3,
   "metadata": {},
   "outputs": [
    {
     "data": {
      "image/png": "[encoded data removed]",
      "text/latex": [
       "$\\displaystyle \\left[\\begin{matrix}{{a}_{0, 0, 0, 0}} & {{a}_{0, 0, 1, 1}} & \\sqrt{2} {{a}_{0, 0, 0, 1}}\\\\{{a}_{0, 0, 1, 1}} & {{a}_{1, 1, 1, 1}} & \\sqrt{2} {{a}_{1, 1, 0, 1}}\\\\\\sqrt{2} {{a}_{0, 0, 0, 1}} & \\sqrt{2} {{a}_{1, 1, 0, 1}} & 2 {{a}_{0, 1, 0, 1}}\\end{matrix}\\right]$"
      ],
      "text/plain": [
       "⎡ a[0, 0, 0, 0]     a[0, 0, 1, 1]    √2⋅a[0, 0, 0, 1]⎤\n",
       "⎢                                                    ⎥\n",
       "⎢ a[0, 0, 1, 1]     a[1, 1, 1, 1]    √2⋅a[1, 1, 0, 1]⎥\n",
       "⎢                                                    ⎥\n",
       "⎣√2⋅a[0, 0, 0, 1]  √2⋅a[1, 1, 0, 1]  2⋅a[0, 1, 0, 1] ⎦"
      ]
     },
     "execution_count": 3,
     "metadata": {},
     "output_type": "execute_result"
    }
   ],
   "source": [
    "FourthOrderTensor(dim=2, symmetry=\"major\").as_mandel()"
   ]
  },
  {
   "cell_type": "code",
   "execution_count": 4,
   "metadata": {},
   "outputs": [
    {
     "data": {
      "image/png": "[encoded data removed]",
      "text/latex": [
       "$\\displaystyle \\left[\\begin{matrix}{{a}_{0, 0, 0, 0}} & {{a}_{0, 0, 1, 1}} & {{a}_{0, 0, 0, 1}} & {{a}_{0, 0, 1, 0}}\\\\{{a}_{1, 1, 0, 0}} & {{a}_{1, 1, 1, 1}} & {{a}_{1, 1, 0, 1}} & {{a}_{1, 1, 1, 0}}\\\\{{a}_{0, 1, 0, 0}} & {{a}_{0, 1, 1, 1}} & {{a}_{0, 1, 0, 1}} & {{a}_{0, 1, 1, 0}}\\\\{{a}_{1, 0, 0, 0}} & {{a}_{1, 0, 1, 1}} & {{a}_{1, 0, 0, 1}} & {{a}_{1, 0, 1, 0}}\\end{matrix}\\right]$"
      ],
      "text/plain": [
       "⎡a[0, 0, 0, 0]  a[0, 0, 1, 1]  a[0, 0, 0, 1]  a[0, 0, 1, 0]⎤\n",
       "⎢                                                          ⎥\n",
       "⎢a[1, 1, 0, 0]  a[1, 1, 1, 1]  a[1, 1, 0, 1]  a[1, 1, 1, 0]⎥\n",
       "⎢                                                          ⎥\n",
       "⎢a[0, 1, 0, 0]  a[0, 1, 1, 1]  a[0, 1, 0, 1]  a[0, 1, 1, 0]⎥\n",
       "⎢                                                          ⎥\n",
       "⎣a[1, 0, 0, 0]  a[1, 0, 1, 1]  a[1, 0, 0, 1]  a[1, 0, 1, 0]⎦"
      ]
     },
     "execution_count": 4,
     "metadata": {},
     "output_type": "execute_result"
    }
   ],
   "source": [
    "FourthOrderTensor(dim=2, symmetry=None).as_unsym()"
   ]
  },
  {
   "cell_type": "code",
   "execution_count": 4,
   "metadata": {},
   "outputs": [
    {
     "data": {
      "image/png": "[encoded data removed]",
      "text/latex": [
       "$\\displaystyle \\left[\\begin{matrix}1 & 0 & 0 & 0 & 0 & 0\\\\0 & 1 & 0 & 0 & 0 & 0\\\\0 & 0 & 1 & 0 & 0 & 0\\\\0 & 0 & 0 & \\frac{1}{2} & 0 & 0\\\\0 & 0 & 0 & 0 & \\frac{1}{2} & 0\\\\0 & 0 & 0 & 0 & 0 & \\frac{1}{2}\\end{matrix}\\right]$"
      ],
      "text/plain": [
       "⎡1  0  0   0    0    0 ⎤\n",
       "⎢                      ⎥\n",
       "⎢0  1  0   0    0    0 ⎥\n",
       "⎢                      ⎥\n",
       "⎢0  0  1   0    0    0 ⎥\n",
       "⎢                      ⎥\n",
       "⎢0  0  0  1/2   0    0 ⎥\n",
       "⎢                      ⎥\n",
       "⎢0  0  0   0   1/2   0 ⎥\n",
       "⎢                      ⎥\n",
       "⎣0  0  0   0    0   1/2⎦"
      ]
     },
     "execution_count": 4,
     "metadata": {},
     "output_type": "execute_result"
    }
   ],
   "source": [
    "def identity(x):\n",
    "    return x\n",
    "\n",
    "\n",
    "FourthOrderTensor().from_operator(identity).as_voigt()"
   ]
  },
  {
   "cell_type": "code",
   "execution_count": 5,
   "metadata": {},
   "outputs": [
    {
     "data": {
      "image/png": "[encoded data removed]",
      "text/latex": [
       "$\\displaystyle \\left[\\begin{matrix}1 & 0 & 0 & 0 & 0 & 0\\\\0 & 1 & 0 & 0 & 0 & 0\\\\0 & 0 & 1 & 0 & 0 & 0\\\\0 & 0 & 0 & 1 & 0 & 0\\\\0 & 0 & 0 & 0 & 1 & 0\\\\0 & 0 & 0 & 0 & 0 & 1\\end{matrix}\\right]$"
      ],
      "text/plain": [
       "⎡1  0  0  0  0  0⎤\n",
       "⎢                ⎥\n",
       "⎢0  1  0  0  0  0⎥\n",
       "⎢                ⎥\n",
       "⎢0  0  1  0  0  0⎥\n",
       "⎢                ⎥\n",
       "⎢0  0  0  1  0  0⎥\n",
       "⎢                ⎥\n",
       "⎢0  0  0  0  1  0⎥\n",
       "⎢                ⎥\n",
       "⎣0  0  0  0  0  1⎦"
      ]
     },
     "execution_count": 5,
     "metadata": {},
     "output_type": "execute_result"
    }
   ],
   "source": [
    "FourthOrderTensor().from_operator(identity).as_mandel()"
   ]
  },
  {
   "cell_type": "code",
   "execution_count": 5,
   "metadata": {},
   "outputs": [
    {
     "data": {
      "image/png": "[encoded data removed]",
      "text/latex": [
       "$\\displaystyle \\left[\\begin{matrix}1 & 0 & 0\\\\0 & 1 & 0\\\\0 & 0 & 1\\end{matrix}\\right]$"
      ],
      "text/plain": [
       "⎡1  0  0⎤\n",
       "⎢       ⎥\n",
       "⎢0  1  0⎥\n",
       "⎢       ⎥\n",
       "⎣0  0  1⎦"
      ]
     },
     "execution_count": 5,
     "metadata": {},
     "output_type": "execute_result"
    }
   ],
   "source": [
    "FourthOrderTensor(dim=2).from_operator(identity).as_mandel()"
   ]
  },
  {
   "cell_type": "code",
   "execution_count": 6,
   "metadata": {},
   "outputs": [
    {
     "data": {
      "image/png": "[encoded data removed]",
      "text/latex": [
       "$\\displaystyle \\left[\\begin{matrix}\\frac{2}{3} & - \\frac{1}{3} & - \\frac{1}{3} & 0 & 0 & 0\\\\- \\frac{1}{3} & \\frac{2}{3} & - \\frac{1}{3} & 0 & 0 & 0\\\\- \\frac{1}{3} & - \\frac{1}{3} & \\frac{2}{3} & 0 & 0 & 0\\\\0 & 0 & 0 & 1 & 0 & 0\\\\0 & 0 & 0 & 0 & 1 & 0\\\\0 & 0 & 0 & 0 & 0 & 1\\end{matrix}\\right]$"
      ],
      "text/plain": [
       "⎡2/3   -1/3  -1/3  0  0  0⎤\n",
       "⎢                         ⎥\n",
       "⎢-1/3  2/3   -1/3  0  0  0⎥\n",
       "⎢                         ⎥\n",
       "⎢-1/3  -1/3  2/3   0  0  0⎥\n",
       "⎢                         ⎥\n",
       "⎢ 0     0     0    1  0  0⎥\n",
       "⎢                         ⎥\n",
       "⎢ 0     0     0    0  1  0⎥\n",
       "⎢                         ⎥\n",
       "⎣ 0     0     0    0  0  1⎦"
      ]
     },
     "execution_count": 6,
     "metadata": {},
     "output_type": "execute_result"
    }
   ],
   "source": [
    "def dev(eps):\n",
    "    dim = eps.shape[0]\n",
    "    tr = sympy.trace(eps)\n",
    "    return eps - tr / dim * sympy.eye(dim)\n",
    "\n",
    "\n",
    "FourthOrderTensor().from_operator(dev).as_mandel()"
   ]
  },
  {
   "cell_type": "code",
   "execution_count": 10,
   "metadata": {},
   "outputs": [
    {
     "data": {
      "image/png": "[encoded data removed]",
      "text/latex": [
       "$\\displaystyle \\left[\\begin{matrix}\\frac{1}{2} & - \\frac{1}{2} & 0\\\\- \\frac{1}{2} & \\frac{1}{2} & 0\\\\0 & 0 & 1\\end{matrix}\\right]$"
      ],
      "text/plain": [
       "⎡1/2   -1/2  0⎤\n",
       "⎢             ⎥\n",
       "⎢-1/2  1/2   0⎥\n",
       "⎢             ⎥\n",
       "⎣ 0     0    1⎦"
      ]
     },
     "execution_count": 10,
     "metadata": {},
     "output_type": "execute_result"
    }
   ],
   "source": [
    "FourthOrderTensor(dim=2).from_operator(dev).as_mandel()"
   ]
  },
  {
   "cell_type": "code",
   "execution_count": 2,
   "metadata": {},
   "outputs": [
    {
     "data": {
      "image/png": "[encoded data removed]",
      "text/latex": [
       "$\\displaystyle \\left[\\begin{matrix}\\lambda + 2 \\mu & \\lambda & \\lambda & 0 & 0 & 0\\\\\\lambda & \\lambda + 2 \\mu & \\lambda & 0 & 0 & 0\\\\\\lambda & \\lambda & \\lambda + 2 \\mu & 0 & 0 & 0\\\\0 & 0 & 0 & 2 \\mu & 0 & 0\\\\0 & 0 & 0 & 0 & 2 \\mu & 0\\\\0 & 0 & 0 & 0 & 0 & 2 \\mu\\end{matrix}\\right]$"
      ],
      "text/plain": [
       "⎡λ + 2⋅μ     λ        λ      0    0    0 ⎤\n",
       "⎢                                        ⎥\n",
       "⎢   λ     λ + 2⋅μ     λ      0    0    0 ⎥\n",
       "⎢                                        ⎥\n",
       "⎢   λ        λ     λ + 2⋅μ   0    0    0 ⎥\n",
       "⎢                                        ⎥\n",
       "⎢   0        0        0     2⋅μ   0    0 ⎥\n",
       "⎢                                        ⎥\n",
       "⎢   0        0        0      0   2⋅μ   0 ⎥\n",
       "⎢                                        ⎥\n",
       "⎣   0        0        0      0    0   2⋅μ⎦"
      ]
     },
     "execution_count": 2,
     "metadata": {},
     "output_type": "execute_result"
    }
   ],
   "source": [
    "def linear_elastic(eps, dim=3):\n",
    "    lmbda, mu = sympy.symbols(\"lambda, mu\", positive=True)\n",
    "    return lmbda * sympy.trace(eps) * sympy.eye(dim) + 2 * mu * eps\n",
    "\n",
    "\n",
    "FourthOrderTensor().from_operator(linear_elastic).as_mandel()"
   ]
  },
  {
   "cell_type": "code",
   "execution_count": 3,
   "metadata": {},
   "outputs": [
    {
     "data": {
      "text/plain": [
       "True"
      ]
     },
     "execution_count": 3,
     "metadata": {},
     "output_type": "execute_result"
    }
   ],
   "source": [
    "FourthOrderTensor().from_mandel(\n",
    "    FourthOrderTensor().from_operator(linear_elastic).as_mandel()\n",
    ").as_voigt() == FourthOrderTensor().from_operator(linear_elastic).as_voigt()"
   ]
  },
  {
   "cell_type": "code",
   "execution_count": 4,
   "metadata": {},
   "outputs": [
    {
     "data": {
      "image/png": "[encoded data removed]",
      "text/latex": [
       "$\\displaystyle \\left[\\begin{matrix}\\lambda + 2 \\mu & \\lambda & \\lambda & 0 & 0 & 0\\\\\\lambda & \\lambda + 2 \\mu & \\lambda & 0 & 0 & 0\\\\\\lambda & \\lambda & \\lambda + 2 \\mu & 0 & 0 & 0\\\\0 & 0 & 0 & \\mu & 0 & 0\\\\0 & 0 & 0 & 0 & \\mu & 0\\\\0 & 0 & 0 & 0 & 0 & \\mu\\end{matrix}\\right]$"
      ],
      "text/plain": [
       "⎡λ + 2⋅μ     λ        λ     0  0  0⎤\n",
       "⎢                                  ⎥\n",
       "⎢   λ     λ + 2⋅μ     λ     0  0  0⎥\n",
       "⎢                                  ⎥\n",
       "⎢   λ        λ     λ + 2⋅μ  0  0  0⎥\n",
       "⎢                                  ⎥\n",
       "⎢   0        0        0     μ  0  0⎥\n",
       "⎢                                  ⎥\n",
       "⎢   0        0        0     0  μ  0⎥\n",
       "⎢                                  ⎥\n",
       "⎣   0        0        0     0  0  μ⎦"
      ]
     },
     "execution_count": 4,
     "metadata": {},
     "output_type": "execute_result"
    }
   ],
   "source": [
    "FourthOrderTensor().from_operator(linear_elastic).as_voigt()"
   ]
  },
  {
   "cell_type": "code",
   "execution_count": 5,
   "metadata": {},
   "outputs": [
    {
     "data": {
      "image/png": "[encoded data removed]",
      "text/latex": [
       "$\\displaystyle \\left[\\begin{matrix}\\left[\\begin{matrix}\\lambda + 2 \\mu & 0 & 0\\\\0 & \\lambda & 0\\\\0 & 0 & \\lambda\\end{matrix}\\right] & \\left[\\begin{matrix}0 & \\mu & 0\\\\\\mu & 0 & 0\\\\0 & 0 & 0\\end{matrix}\\right] & \\left[\\begin{matrix}0 & 0 & \\mu\\\\0 & 0 & 0\\\\\\mu & 0 & 0\\end{matrix}\\right]\\\\\\left[\\begin{matrix}0 & \\mu & 0\\\\\\mu & 0 & 0\\\\0 & 0 & 0\\end{matrix}\\right] & \\left[\\begin{matrix}\\lambda & 0 & 0\\\\0 & \\lambda + 2 \\mu & 0\\\\0 & 0 & \\lambda\\end{matrix}\\right] & \\left[\\begin{matrix}0 & 0 & 0\\\\0 & 0 & \\mu\\\\0 & \\mu & 0\\end{matrix}\\right]\\\\\\left[\\begin{matrix}0 & 0 & \\mu\\\\0 & 0 & 0\\\\\\mu & 0 & 0\\end{matrix}\\right] & \\left[\\begin{matrix}0 & 0 & 0\\\\0 & 0 & \\mu\\\\0 & \\mu & 0\\end{matrix}\\right] & \\left[\\begin{matrix}\\lambda & 0 & 0\\\\0 & \\lambda & 0\\\\0 & 0 & \\lambda + 2 \\mu\\end{matrix}\\right]\\end{matrix}\\right]$"
      ],
      "text/plain": [
       "⎡⎡λ + 2⋅μ  0  0⎤     ⎡0  μ  0⎤        ⎡0  0  μ⎤   ⎤\n",
       "⎢⎢             ⎥     ⎢       ⎥        ⎢       ⎥   ⎥\n",
       "⎢⎢   0     λ  0⎥     ⎢μ  0  0⎥        ⎢0  0  0⎥   ⎥\n",
       "⎢⎢             ⎥     ⎢       ⎥        ⎢       ⎥   ⎥\n",
       "⎢⎣   0     0  λ⎦     ⎣0  0  0⎦        ⎣μ  0  0⎦   ⎥\n",
       "⎢                                                 ⎥\n",
       "⎢   ⎡0  μ  0⎤     ⎡λ     0     0⎤     ⎡0  0  0⎤   ⎥\n",
       "⎢   ⎢       ⎥     ⎢             ⎥     ⎢       ⎥   ⎥\n",
       "⎢   ⎢μ  0  0⎥     ⎢0  λ + 2⋅μ  0⎥     ⎢0  0  μ⎥   ⎥\n",
       "⎢   ⎢       ⎥     ⎢             ⎥     ⎢       ⎥   ⎥\n",
       "⎢   ⎣0  0  0⎦     ⎣0     0     λ⎦     ⎣0  μ  0⎦   ⎥\n",
       "⎢                                                 ⎥\n",
       "⎢   ⎡0  0  μ⎤        ⎡0  0  0⎤     ⎡λ  0     0   ⎤⎥\n",
       "⎢   ⎢       ⎥        ⎢       ⎥     ⎢             ⎥⎥\n",
       "⎢   ⎢0  0  0⎥        ⎢0  0  μ⎥     ⎢0  λ     0   ⎥⎥\n",
       "⎢   ⎢       ⎥        ⎢       ⎥     ⎢             ⎥⎥\n",
       "⎣   ⎣μ  0  0⎦        ⎣0  μ  0⎦     ⎣0  0  λ + 2⋅μ⎦⎦"
      ]
     },
     "execution_count": 5,
     "metadata": {},
     "output_type": "execute_result"
    }
   ],
   "source": [
    "FourthOrderTensor().from_operator(linear_elastic).as_array()"
   ]
  },
  {
   "cell_type": "code",
   "execution_count": 6,
   "metadata": {},
   "outputs": [
    {
     "data": {
      "text/plain": [
       "True"
      ]
     },
     "execution_count": 6,
     "metadata": {},
     "output_type": "execute_result"
    }
   ],
   "source": [
    "FourthOrderTensor().from_voigt(\n",
    "    FourthOrderTensor().from_operator(linear_elastic).as_voigt()\n",
    ").as_mandel() == FourthOrderTensor().from_operator(linear_elastic).as_mandel()"
   ]
  },
  {
   "cell_type": "code",
   "execution_count": 18,
   "metadata": {},
   "outputs": [
    {
     "data": {
      "text/plain": [
       "True"
      ]
     },
     "execution_count": 18,
     "metadata": {},
     "output_type": "execute_result"
    }
   ],
   "source": [
    "a_voigt = sympy.randMatrix(6)\n",
    "a_voigt = a_voigt + a_voigt.T\n",
    "a = FourthOrderTensor().from_voigt(a_voigt).as_array()\n",
    "FourthOrderTensor().from_array(a).as_voigt() == a_voigt"
   ]
  },
  {
   "cell_type": "code",
   "execution_count": 5,
   "metadata": {},
   "outputs": [
    {
     "data": {
      "text/plain": [
       "True"
      ]
     },
     "execution_count": 5,
     "metadata": {},
     "output_type": "execute_result"
    }
   ],
   "source": [
    "a_mandel = sympy.randMatrix(6)\n",
    "a_mandel = a_mandel + a_mandel.T\n",
    "a = FourthOrderTensor().from_mandel(a_mandel).as_array()\n",
    "FourthOrderTensor().from_array(a).as_mandel() == a_mandel"
   ]
  },
  {
   "cell_type": "code",
   "execution_count": 12,
   "metadata": {},
   "outputs": [
    {
     "data": {
      "text/plain": [
       "True"
      ]
     },
     "execution_count": 12,
     "metadata": {},
     "output_type": "execute_result"
    }
   ],
   "source": [
    "a_unsym = sympy.randMatrix(9)\n",
    "a = FourthOrderTensor(symmetry=None).from_unsym(a_unsym).as_array()\n",
    "FourthOrderTensor(symmetry=None).from_array(a).as_unsym() == a_unsym"
   ]
  },
  {
   "cell_type": "markdown",
   "metadata": {},
   "source": [
    "### Acoustic tensor"
   ]
  },
  {
   "cell_type": "code",
   "execution_count": 14,
   "metadata": {},
   "outputs": [],
   "source": [
    "C = sympy.Matrix(sympy.MatrixSymbol(\"C\", 6, 6))\n",
    "for i in range(C.shape[0]):\n",
    "    for j in range(i):\n",
    "        C[i, j] = C[j, i]\n",
    "C = FourthOrderTensor().from_mandel(C)\n",
    "\n",
    "def acoustic_tensor(n_n):\n",
    "    C_array = C.as_array()\n",
    "    dim = 3\n",
    "    A = sympy.zeros(dim)\n",
    "    for i in range(dim):\n",
    "        for k in range(dim):\n",
    "            for j in range(dim):\n",
    "                for l in range(dim):\n",
    "                        A[i, k] += C_array[i, j, k, l] * n_n[j, l]\n",
    "    return A\n"
   ]
  },
  {
   "cell_type": "code",
   "execution_count": 28,
   "metadata": {},
   "outputs": [
    {
     "data": {
      "text/latex": [
       "$\\displaystyle \\left[\\begin{matrix}C_{0, 0} & \\frac{C_{3, 3}}{2} & \\frac{C_{4, 4}}{2} & C_{0, 3} & C_{0, 4} & \\frac{\\sqrt{2} C_{3, 4}}{2}\\\\\\frac{C_{3, 3}}{2} & C_{1, 1} & \\frac{C_{5, 5}}{2} & C_{1, 3} & \\frac{\\sqrt{2} C_{3, 5}}{2} & C_{1, 5}\\\\\\frac{C_{4, 4}}{2} & \\frac{C_{5, 5}}{2} & C_{2, 2} & \\frac{\\sqrt{2} C_{4, 5}}{2} & C_{2, 4} & C_{2, 5}\\\\C_{0, 3} & C_{1, 3} & \\frac{\\sqrt{2} C_{4, 5}}{2} & C_{0, 1} + \\frac{C_{3, 3}}{2} & \\frac{\\sqrt{2} C_{0, 5}}{2} + \\frac{C_{3, 4}}{2} & \\frac{\\sqrt{2} C_{1, 4}}{2} + \\frac{C_{3, 5}}{2}\\\\C_{0, 4} & \\frac{\\sqrt{2} C_{3, 5}}{2} & C_{2, 4} & \\frac{\\sqrt{2} C_{0, 5}}{2} + \\frac{C_{3, 4}}{2} & C_{0, 2} + \\frac{C_{4, 4}}{2} & \\frac{\\sqrt{2} C_{2, 3}}{2} + \\frac{C_{4, 5}}{2}\\\\\\frac{\\sqrt{2} C_{3, 4}}{2} & C_{1, 5} & C_{2, 5} & \\frac{\\sqrt{2} C_{1, 4}}{2} + \\frac{C_{3, 5}}{2} & \\frac{\\sqrt{2} C_{2, 3}}{2} + \\frac{C_{4, 5}}{2} & C_{1, 2} + \\frac{C_{5, 5}}{2}\\end{matrix}\\right]$"
      ],
      "text/plain": [
       "⎡         C₃₃     C₄₄                                   √2⋅C₃₄   ⎤\n",
       "⎢ C₀₀     ───     ───        C₀₃           C₀₄          ──────   ⎥\n",
       "⎢          2       2                                      2      ⎥\n",
       "⎢                                                                ⎥\n",
       "⎢ C₃₃             C₅₅                     √2⋅C₃₅                 ⎥\n",
       "⎢ ───     C₁₁     ───        C₁₃          ──────         C₁₅     ⎥\n",
       "⎢  2               2                        2                    ⎥\n",
       "⎢                                                                ⎥\n",
       "⎢ C₄₄     C₅₅               √2⋅C₄₅                               ⎥\n",
       "⎢ ───     ───     C₂₂       ──────         C₂₄           C₂₅     ⎥\n",
       "⎢  2       2                  2                                  ⎥\n",
       "⎢                                                                ⎥\n",
       "⎢                √2⋅C₄₅         C₃₃    √2⋅C₀₅   C₃₄  √2⋅C₁₄   C₃₅⎥\n",
       "⎢ C₀₃     C₁₃    ──────   C₀₁ + ───    ────── + ───  ────── + ───⎥\n",
       "⎢                  2             2       2       2     2       2 ⎥\n",
       "⎢                                                                ⎥\n",
       "⎢        √2⋅C₃₅          √2⋅C₀₅   C₃₄         C₄₄    √2⋅C₂₃   C₄₅⎥\n",
       "⎢ C₀₄    ──────   C₂₄    ────── + ───   C₀₂ + ───    ────── + ───⎥\n",
       "⎢          2               2       2           2       2       2 ⎥\n",
       "⎢                                                                ⎥\n",
       "⎢√2⋅C₃₄                  √2⋅C₁₄   C₃₅  √2⋅C₂₃   C₄₅         C₅₅  ⎥\n",
       "⎢──────   C₁₅     C₂₅    ────── + ───  ────── + ───   C₁₂ + ───  ⎥\n",
       "⎣  2                       2       2     2       2           2   ⎦"
      ]
     },
     "execution_count": 28,
     "metadata": {},
     "output_type": "execute_result"
    }
   ],
   "source": [
    "A = FourthOrderTensor().from_operator(acoustic_tensor)\n",
    "A.as_mandel()"
   ]
  },
  {
   "cell_type": "code",
   "execution_count": 27,
   "metadata": {},
   "outputs": [
    {
     "data": {
      "text/latex": [
       "$\\displaystyle \\left[\\begin{matrix}{n}_{0}^{2}\\\\{n}_{1}^{2}\\\\{n}_{2}^{2}\\\\\\sqrt{2} {n}_{0} {n}_{1}\\\\\\sqrt{2} {n}_{0} {n}_{2}\\\\\\sqrt{2} {n}_{1} {n}_{2}\\end{matrix}\\right]$"
      ],
      "text/plain": [
       "⎡       2    ⎤\n",
       "⎢   n[0]     ⎥\n",
       "⎢            ⎥\n",
       "⎢       2    ⎥\n",
       "⎢   n[1]     ⎥\n",
       "⎢            ⎥\n",
       "⎢       2    ⎥\n",
       "⎢   n[2]     ⎥\n",
       "⎢            ⎥\n",
       "⎢√2⋅n[0]⋅n[1]⎥\n",
       "⎢            ⎥\n",
       "⎢√2⋅n[0]⋅n[2]⎥\n",
       "⎢            ⎥\n",
       "⎣√2⋅n[1]⋅n[2]⎦"
      ]
     },
     "execution_count": 27,
     "metadata": {},
     "output_type": "execute_result"
    }
   ],
   "source": [
    "n = sympy.IndexedBase(\"n\")\n",
    "n = sympy.Matrix([n[i] for i in range(3)])\n",
    "n_n = n * n.T\n",
    "n_n = SecondOrderTensor().from_array(n_n)\n",
    "n_n.as_mandel()"
   ]
  },
  {
   "cell_type": "code",
   "execution_count": 30,
   "metadata": {},
   "outputs": [
    {
     "data": {
      "text/latex": [
       "$\\displaystyle \\left[\\begin{matrix}{n}_{0}^{2} C_{0, 0} + \\sqrt{2} {n}_{0} {n}_{1} C_{0, 3} + \\sqrt{2} {n}_{0} {n}_{2} C_{0, 4} + \\frac{{n}_{1}^{2} C_{3, 3}}{2} + {n}_{1} {n}_{2} C_{3, 4} + \\frac{{n}_{2}^{2} C_{4, 4}}{2}\\\\\\frac{{n}_{0}^{2} C_{3, 3}}{2} + \\sqrt{2} {n}_{0} {n}_{1} C_{1, 3} + {n}_{0} {n}_{2} C_{3, 5} + {n}_{1}^{2} C_{1, 1} + \\sqrt{2} {n}_{1} {n}_{2} C_{1, 5} + \\frac{{n}_{2}^{2} C_{5, 5}}{2}\\\\\\frac{{n}_{0}^{2} C_{4, 4}}{2} + {n}_{0} {n}_{1} C_{4, 5} + \\sqrt{2} {n}_{0} {n}_{2} C_{2, 4} + \\frac{{n}_{1}^{2} C_{5, 5}}{2} + \\sqrt{2} {n}_{1} {n}_{2} C_{2, 5} + {n}_{2}^{2} C_{2, 2}\\\\\\frac{\\sqrt{2} \\left(\\sqrt{2} C_{0, 5} + C_{3, 4}\\right) {n}_{0} {n}_{2}}{2} + \\frac{\\sqrt{2} \\left(\\sqrt{2} C_{1, 4} + C_{3, 5}\\right) {n}_{1} {n}_{2}}{2} + \\frac{\\sqrt{2} \\cdot \\left(2 C_{0, 1} + C_{3, 3}\\right) {n}_{0} {n}_{1}}{2} + {n}_{0}^{2} C_{0, 3} + {n}_{1}^{2} C_{1, 3} + \\frac{\\sqrt{2} {n}_{2}^{2} C_{4, 5}}{2}\\\\\\frac{\\sqrt{2} \\left(\\sqrt{2} C_{0, 5} + C_{3, 4}\\right) {n}_{0} {n}_{1}}{2} + \\frac{\\sqrt{2} \\left(\\sqrt{2} C_{2, 3} + C_{4, 5}\\right) {n}_{1} {n}_{2}}{2} + \\frac{\\sqrt{2} \\cdot \\left(2 C_{0, 2} + C_{4, 4}\\right) {n}_{0} {n}_{2}}{2} + {n}_{0}^{2} C_{0, 4} + \\frac{\\sqrt{2} {n}_{1}^{2} C_{3, 5}}{2} + {n}_{2}^{2} C_{2, 4}\\\\\\frac{\\sqrt{2} \\left(\\sqrt{2} C_{1, 4} + C_{3, 5}\\right) {n}_{0} {n}_{1}}{2} + \\frac{\\sqrt{2} \\left(\\sqrt{2} C_{2, 3} + C_{4, 5}\\right) {n}_{0} {n}_{2}}{2} + \\frac{\\sqrt{2} \\cdot \\left(2 C_{1, 2} + C_{5, 5}\\right) {n}_{1} {n}_{2}}{2} + \\frac{\\sqrt{2} {n}_{0}^{2} C_{3, 4}}{2} + {n}_{1}^{2} C_{1, 5} + {n}_{2}^{2} C_{2, 5}\\end{matrix}\\right]$"
      ],
      "text/plain": [
       "⎡                                                                         2   \n",
       "⎢                       2                                             n[1] ⋅C₃\n",
       "⎢                   n[0] ⋅C₀₀ + √2⋅n[0]⋅n[1]⋅C₀₃ + √2⋅n[0]⋅n[2]⋅C₀₄ + ────────\n",
       "⎢                                                                         2   \n",
       "⎢                                                                             \n",
       "⎢                       2                                                     \n",
       "⎢                   n[0] ⋅C₃₃                                          2      \n",
       "⎢                   ───────── + √2⋅n[0]⋅n[1]⋅C₁₃ + n[0]⋅n[2]⋅C₃₅ + n[1] ⋅C₁₁ +\n",
       "⎢                       2                                                     \n",
       "⎢                                                                             \n",
       "⎢                       2                                              2      \n",
       "⎢                   n[0] ⋅C₄₄                                      n[1] ⋅C₅₅  \n",
       "⎢                   ───────── + n[0]⋅n[1]⋅C₄₅ + √2⋅n[0]⋅n[2]⋅C₂₄ + ───────── +\n",
       "⎢                       2                                              2      \n",
       "⎢                                                                             \n",
       "⎢                                                                             \n",
       "⎢√2⋅(√2⋅C₀₅ + C₃₄)⋅n[0]⋅n[2]   √2⋅(√2⋅C₁₄ + C₃₅)⋅n[1]⋅n[2]   √2⋅(2⋅C₀₁ + C₃₃)⋅\n",
       "⎢─────────────────────────── + ─────────────────────────── + ─────────────────\n",
       "⎢             2                             2                            2    \n",
       "⎢                                                                             \n",
       "⎢                                                                             \n",
       "⎢√2⋅(√2⋅C₀₅ + C₃₄)⋅n[0]⋅n[1]   √2⋅(√2⋅C₂₃ + C₄₅)⋅n[1]⋅n[2]   √2⋅(2⋅C₀₂ + C₄₄)⋅\n",
       "⎢─────────────────────────── + ─────────────────────────── + ─────────────────\n",
       "⎢             2                             2                            2    \n",
       "⎢                                                                             \n",
       "⎢                                                                             \n",
       "⎢√2⋅(√2⋅C₁₄ + C₃₅)⋅n[0]⋅n[1]   √2⋅(√2⋅C₂₃ + C₄₅)⋅n[0]⋅n[2]   √2⋅(2⋅C₁₂ + C₅₅)⋅\n",
       "⎢─────────────────────────── + ─────────────────────────── + ─────────────────\n",
       "⎣             2                             2                            2    \n",
       "\n",
       "                        2                       ⎤\n",
       "₃                   n[2] ⋅C₄₄                   ⎥\n",
       "─ + n[1]⋅n[2]⋅C₃₄ + ─────────                   ⎥\n",
       "                        2                       ⎥\n",
       "                                                ⎥\n",
       "                        2                       ⎥\n",
       "                    n[2] ⋅C₅₅                   ⎥\n",
       " √2⋅n[1]⋅n[2]⋅C₁₅ + ─────────                   ⎥\n",
       "                        2                       ⎥\n",
       "                                                ⎥\n",
       "                                                ⎥\n",
       "                        2                       ⎥\n",
       " √2⋅n[1]⋅n[2]⋅C₂₅ + n[2] ⋅C₂₂                   ⎥\n",
       "                                                ⎥\n",
       "                                                ⎥\n",
       "                                           2    ⎥\n",
       "n[0]⋅n[1]       2           2       √2⋅n[2] ⋅C₄₅⎥\n",
       "───────── + n[0] ⋅C₀₃ + n[1] ⋅C₁₃ + ────────────⎥\n",
       "                                         2      ⎥\n",
       "                                                ⎥\n",
       "                               2                ⎥\n",
       "n[0]⋅n[2]       2       √2⋅n[1] ⋅C₃₅       2    ⎥\n",
       "───────── + n[0] ⋅C₀₄ + ──────────── + n[2] ⋅C₂₄⎥\n",
       "                             2                  ⎥\n",
       "                                                ⎥\n",
       "                   2                            ⎥\n",
       "n[1]⋅n[2]   √2⋅n[0] ⋅C₃₄       2           2    ⎥\n",
       "───────── + ──────────── + n[1] ⋅C₁₅ + n[2] ⋅C₂₅⎥\n",
       "                 2                              ⎦"
      ]
     },
     "execution_count": 30,
     "metadata": {},
     "output_type": "execute_result"
    }
   ],
   "source": [
    "sympy.simplify(A.as_mandel() * n_n.as_mandel())"
   ]
  },
  {
   "cell_type": "code",
   "execution_count": 46,
   "metadata": {},
   "outputs": [],
   "source": [
    "C = sympy.Matrix(sympy.MatrixSymbol(\"C\", 9, 9))\n",
    "C = FourthOrderTensor().from_unsym(C)\n",
    "\n",
    "def acoustic_tensor(n_n):\n",
    "    C_array = C.as_array()\n",
    "    dim = 3\n",
    "    A = sympy.zeros(dim)\n",
    "    for i in range(dim):\n",
    "        for k in range(dim):\n",
    "            for j in range(dim):\n",
    "                for l in range(dim):\n",
    "                        A[i, k] += C_array[i, j, k, l] * n_n[j, l]\n",
    "    return A\n"
   ]
  },
  {
   "cell_type": "code",
   "execution_count": 47,
   "metadata": {},
   "outputs": [
    {
     "data": {
      "text/latex": [
       "$\\displaystyle \\left[\\begin{matrix}C_{0, 0} & C_{3, 3} & C_{5, 5} & C_{0, 3} & C_{3, 0} & C_{0, 5} & C_{5, 0} & C_{3, 5} & C_{5, 3}\\\\C_{4, 4} & C_{1, 1} & C_{7, 7} & C_{4, 1} & C_{1, 4} & C_{4, 7} & C_{7, 4} & C_{1, 7} & C_{7, 1}\\\\C_{6, 6} & C_{8, 8} & C_{2, 2} & C_{6, 8} & C_{8, 6} & C_{6, 2} & C_{2, 6} & C_{8, 2} & C_{2, 8}\\\\C_{0, 4} & C_{3, 1} & C_{5, 7} & C_{0, 1} & C_{3, 4} & C_{0, 7} & C_{5, 4} & C_{3, 7} & C_{5, 1}\\\\C_{4, 0} & C_{1, 3} & C_{7, 5} & C_{4, 3} & C_{1, 0} & C_{4, 5} & C_{7, 0} & C_{1, 5} & C_{7, 3}\\\\C_{0, 6} & C_{3, 8} & C_{5, 2} & C_{0, 8} & C_{3, 6} & C_{0, 2} & C_{5, 6} & C_{3, 2} & C_{5, 8}\\\\C_{6, 0} & C_{8, 3} & C_{2, 5} & C_{6, 3} & C_{8, 0} & C_{6, 5} & C_{2, 0} & C_{8, 5} & C_{2, 3}\\\\C_{4, 6} & C_{1, 8} & C_{7, 2} & C_{4, 8} & C_{1, 6} & C_{4, 2} & C_{7, 6} & C_{1, 2} & C_{7, 8}\\\\C_{6, 4} & C_{8, 1} & C_{2, 7} & C_{6, 1} & C_{8, 4} & C_{6, 7} & C_{2, 4} & C_{8, 7} & C_{2, 1}\\end{matrix}\\right]$"
      ],
      "text/plain": [
       "⎡C₀₀  C₃₃  C₅₅  C₀₃  C₃₀  C₀₅  C₅₀  C₃₅  C₅₃⎤\n",
       "⎢                                           ⎥\n",
       "⎢C₄₄  C₁₁  C₇₇  C₄₁  C₁₄  C₄₇  C₇₄  C₁₇  C₇₁⎥\n",
       "⎢                                           ⎥\n",
       "⎢C₆₆  C₈₈  C₂₂  C₆₈  C₈₆  C₆₂  C₂₆  C₈₂  C₂₈⎥\n",
       "⎢                                           ⎥\n",
       "⎢C₀₄  C₃₁  C₅₇  C₀₁  C₃₄  C₀₇  C₅₄  C₃₇  C₅₁⎥\n",
       "⎢                                           ⎥\n",
       "⎢C₄₀  C₁₃  C₇₅  C₄₃  C₁₀  C₄₅  C₇₀  C₁₅  C₇₃⎥\n",
       "⎢                                           ⎥\n",
       "⎢C₀₆  C₃₈  C₅₂  C₀₈  C₃₆  C₀₂  C₅₆  C₃₂  C₅₈⎥\n",
       "⎢                                           ⎥\n",
       "⎢C₆₀  C₈₃  C₂₅  C₆₃  C₈₀  C₆₅  C₂₀  C₈₅  C₂₃⎥\n",
       "⎢                                           ⎥\n",
       "⎢C₄₆  C₁₈  C₇₂  C₄₈  C₁₆  C₄₂  C₇₆  C₁₂  C₇₈⎥\n",
       "⎢                                           ⎥\n",
       "⎣C₆₄  C₈₁  C₂₇  C₆₁  C₈₄  C₆₇  C₂₄  C₈₇  C₂₁⎦"
      ]
     },
     "execution_count": 47,
     "metadata": {},
     "output_type": "execute_result"
    }
   ],
   "source": [
    "A = FourthOrderTensor().from_operator(acoustic_tensor)\n",
    "A.as_unsym()"
   ]
  },
  {
   "cell_type": "code",
   "execution_count": 48,
   "metadata": {},
   "outputs": [
    {
     "data": {
      "text/latex": [
       "$\\displaystyle \\left[\\begin{matrix}{n}_{0}^{2} C_{0, 0} + {n}_{0} {n}_{1} C_{0, 3} + {n}_{0} {n}_{1} C_{3, 0} + {n}_{0} {n}_{2} C_{0, 5} + {n}_{0} {n}_{2} C_{5, 0} + {n}_{1}^{2} C_{3, 3} + {n}_{1} {n}_{2} C_{3, 5} + {n}_{1} {n}_{2} C_{5, 3} + {n}_{2}^{2} C_{5, 5}\\\\{n}_{0}^{2} C_{4, 4} + {n}_{0} {n}_{1} C_{1, 4} + {n}_{0} {n}_{1} C_{4, 1} + {n}_{0} {n}_{2} C_{4, 7} + {n}_{0} {n}_{2} C_{7, 4} + {n}_{1}^{2} C_{1, 1} + {n}_{1} {n}_{2} C_{1, 7} + {n}_{1} {n}_{2} C_{7, 1} + {n}_{2}^{2} C_{7, 7}\\\\{n}_{0}^{2} C_{6, 6} + {n}_{0} {n}_{1} C_{6, 8} + {n}_{0} {n}_{1} C_{8, 6} + {n}_{0} {n}_{2} C_{2, 6} + {n}_{0} {n}_{2} C_{6, 2} + {n}_{1}^{2} C_{8, 8} + {n}_{1} {n}_{2} C_{2, 8} + {n}_{1} {n}_{2} C_{8, 2} + {n}_{2}^{2} C_{2, 2}\\\\{n}_{0}^{2} C_{0, 4} + {n}_{0} {n}_{1} C_{0, 1} + {n}_{0} {n}_{1} C_{3, 4} + {n}_{0} {n}_{2} C_{0, 7} + {n}_{0} {n}_{2} C_{5, 4} + {n}_{1}^{2} C_{3, 1} + {n}_{1} {n}_{2} C_{3, 7} + {n}_{1} {n}_{2} C_{5, 1} + {n}_{2}^{2} C_{5, 7}\\\\{n}_{0}^{2} C_{4, 0} + {n}_{0} {n}_{1} C_{1, 0} + {n}_{0} {n}_{1} C_{4, 3} + {n}_{0} {n}_{2} C_{4, 5} + {n}_{0} {n}_{2} C_{7, 0} + {n}_{1}^{2} C_{1, 3} + {n}_{1} {n}_{2} C_{1, 5} + {n}_{1} {n}_{2} C_{7, 3} + {n}_{2}^{2} C_{7, 5}\\\\{n}_{0}^{2} C_{0, 6} + {n}_{0} {n}_{1} C_{0, 8} + {n}_{0} {n}_{1} C_{3, 6} + {n}_{0} {n}_{2} C_{0, 2} + {n}_{0} {n}_{2} C_{5, 6} + {n}_{1}^{2} C_{3, 8} + {n}_{1} {n}_{2} C_{3, 2} + {n}_{1} {n}_{2} C_{5, 8} + {n}_{2}^{2} C_{5, 2}\\\\{n}_{0}^{2} C_{6, 0} + {n}_{0} {n}_{1} C_{6, 3} + {n}_{0} {n}_{1} C_{8, 0} + {n}_{0} {n}_{2} C_{2, 0} + {n}_{0} {n}_{2} C_{6, 5} + {n}_{1}^{2} C_{8, 3} + {n}_{1} {n}_{2} C_{2, 3} + {n}_{1} {n}_{2} C_{8, 5} + {n}_{2}^{2} C_{2, 5}\\\\{n}_{0}^{2} C_{4, 6} + {n}_{0} {n}_{1} C_{1, 6} + {n}_{0} {n}_{1} C_{4, 8} + {n}_{0} {n}_{2} C_{4, 2} + {n}_{0} {n}_{2} C_{7, 6} + {n}_{1}^{2} C_{1, 8} + {n}_{1} {n}_{2} C_{1, 2} + {n}_{1} {n}_{2} C_{7, 8} + {n}_{2}^{2} C_{7, 2}\\\\{n}_{0}^{2} C_{6, 4} + {n}_{0} {n}_{1} C_{6, 1} + {n}_{0} {n}_{1} C_{8, 4} + {n}_{0} {n}_{2} C_{2, 4} + {n}_{0} {n}_{2} C_{6, 7} + {n}_{1}^{2} C_{8, 1} + {n}_{1} {n}_{2} C_{2, 1} + {n}_{1} {n}_{2} C_{8, 7} + {n}_{2}^{2} C_{2, 7}\\end{matrix}\\right]$"
      ],
      "text/plain": [
       "⎡    2                                                                        \n",
       "⎢n[0] ⋅C₀₀ + n[0]⋅n[1]⋅C₀₃ + n[0]⋅n[1]⋅C₃₀ + n[0]⋅n[2]⋅C₀₅ + n[0]⋅n[2]⋅C₅₀ + n\n",
       "⎢                                                                             \n",
       "⎢    2                                                                        \n",
       "⎢n[0] ⋅C₄₄ + n[0]⋅n[1]⋅C₁₄ + n[0]⋅n[1]⋅C₄₁ + n[0]⋅n[2]⋅C₄₇ + n[0]⋅n[2]⋅C₇₄ + n\n",
       "⎢                                                                             \n",
       "⎢    2                                                                        \n",
       "⎢n[0] ⋅C₆₆ + n[0]⋅n[1]⋅C₆₈ + n[0]⋅n[1]⋅C₈₆ + n[0]⋅n[2]⋅C₂₆ + n[0]⋅n[2]⋅C₆₂ + n\n",
       "⎢                                                                             \n",
       "⎢    2                                                                        \n",
       "⎢n[0] ⋅C₀₄ + n[0]⋅n[1]⋅C₀₁ + n[0]⋅n[1]⋅C₃₄ + n[0]⋅n[2]⋅C₀₇ + n[0]⋅n[2]⋅C₅₄ + n\n",
       "⎢                                                                             \n",
       "⎢    2                                                                        \n",
       "⎢n[0] ⋅C₄₀ + n[0]⋅n[1]⋅C₁₀ + n[0]⋅n[1]⋅C₄₃ + n[0]⋅n[2]⋅C₄₅ + n[0]⋅n[2]⋅C₇₀ + n\n",
       "⎢                                                                             \n",
       "⎢    2                                                                        \n",
       "⎢n[0] ⋅C₀₆ + n[0]⋅n[1]⋅C₀₈ + n[0]⋅n[1]⋅C₃₆ + n[0]⋅n[2]⋅C₀₂ + n[0]⋅n[2]⋅C₅₆ + n\n",
       "⎢                                                                             \n",
       "⎢    2                                                                        \n",
       "⎢n[0] ⋅C₆₀ + n[0]⋅n[1]⋅C₆₃ + n[0]⋅n[1]⋅C₈₀ + n[0]⋅n[2]⋅C₂₀ + n[0]⋅n[2]⋅C₆₅ + n\n",
       "⎢                                                                             \n",
       "⎢    2                                                                        \n",
       "⎢n[0] ⋅C₄₆ + n[0]⋅n[1]⋅C₁₆ + n[0]⋅n[1]⋅C₄₈ + n[0]⋅n[2]⋅C₄₂ + n[0]⋅n[2]⋅C₇₆ + n\n",
       "⎢                                                                             \n",
       "⎢    2                                                                        \n",
       "⎣n[0] ⋅C₆₄ + n[0]⋅n[1]⋅C₆₁ + n[0]⋅n[1]⋅C₈₄ + n[0]⋅n[2]⋅C₂₄ + n[0]⋅n[2]⋅C₆₇ + n\n",
       "\n",
       "   2                                           2    ⎤\n",
       "[1] ⋅C₃₃ + n[1]⋅n[2]⋅C₃₅ + n[1]⋅n[2]⋅C₅₃ + n[2] ⋅C₅₅⎥\n",
       "                                                    ⎥\n",
       "   2                                           2    ⎥\n",
       "[1] ⋅C₁₁ + n[1]⋅n[2]⋅C₁₇ + n[1]⋅n[2]⋅C₇₁ + n[2] ⋅C₇₇⎥\n",
       "                                                    ⎥\n",
       "   2                                           2    ⎥\n",
       "[1] ⋅C₈₈ + n[1]⋅n[2]⋅C₂₈ + n[1]⋅n[2]⋅C₈₂ + n[2] ⋅C₂₂⎥\n",
       "                                                    ⎥\n",
       "   2                                           2    ⎥\n",
       "[1] ⋅C₃₁ + n[1]⋅n[2]⋅C₃₇ + n[1]⋅n[2]⋅C₅₁ + n[2] ⋅C₅₇⎥\n",
       "                                                    ⎥\n",
       "   2                                           2    ⎥\n",
       "[1] ⋅C₁₃ + n[1]⋅n[2]⋅C₁₅ + n[1]⋅n[2]⋅C₇₃ + n[2] ⋅C₇₅⎥\n",
       "                                                    ⎥\n",
       "   2                                           2    ⎥\n",
       "[1] ⋅C₃₈ + n[1]⋅n[2]⋅C₃₂ + n[1]⋅n[2]⋅C₅₈ + n[2] ⋅C₅₂⎥\n",
       "                                                    ⎥\n",
       "   2                                           2    ⎥\n",
       "[1] ⋅C₈₃ + n[1]⋅n[2]⋅C₂₃ + n[1]⋅n[2]⋅C₈₅ + n[2] ⋅C₂₅⎥\n",
       "                                                    ⎥\n",
       "   2                                           2    ⎥\n",
       "[1] ⋅C₁₈ + n[1]⋅n[2]⋅C₁₂ + n[1]⋅n[2]⋅C₇₈ + n[2] ⋅C₇₂⎥\n",
       "                                                    ⎥\n",
       "   2                                           2    ⎥\n",
       "[1] ⋅C₈₁ + n[1]⋅n[2]⋅C₂₁ + n[1]⋅n[2]⋅C₈₇ + n[2] ⋅C₂₇⎦"
      ]
     },
     "execution_count": 48,
     "metadata": {},
     "output_type": "execute_result"
    }
   ],
   "source": [
    "sympy.simplify(A.as_unsym() * n_n.as_unsym())"
   ]
  },
  {
   "cell_type": "code",
   "execution_count": null,
   "metadata": {},
   "outputs": [],
   "source": []
  }
 ],
 "metadata": {
  "kernelspec": {
   "display_name": "base",
   "language": "python",
   "name": "python3"
  },
  "language_info": {
   "codemirror_mode": {
    "name": "ipython",
    "version": 3
   },
   "file_extension": ".py",
   "mimetype": "text/x-python",
   "name": "python",
   "nbconvert_exporter": "python",
   "pygments_lexer": "ipython3",
   "version": "3.10.11"
  },
  "orig_nbformat": 4
 },
 "nbformat": 4,
 "nbformat_minor": 2
}
