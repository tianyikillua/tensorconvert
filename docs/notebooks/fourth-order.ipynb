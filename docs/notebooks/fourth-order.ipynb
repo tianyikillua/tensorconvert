{
 "cells": [
  {
   "cell_type": "markdown",
   "metadata": {},
   "source": [
    "# Fourth-order tensors\n",
    "\n",
    "In this notebook, we will show various representations of fourth-order tensors and conversion between them.\n",
    "\n",
    "Various representation of fourth-order tensors are implemented in the `tensorconvert.FourthOrderTensor` class."
   ]
  },
  {
   "cell_type": "code",
   "execution_count": 2,
   "metadata": {},
   "outputs": [],
   "source": [
    "import sympy\n",
    "from tensorconvert import SecondOrderTensor, FourthOrderTensor\n",
    "\n",
    "sympy.init_printing(use_latex=\"mathjax\")"
   ]
  },
  {
   "cell_type": "markdown",
   "metadata": {},
   "source": [
    "## Representations\n",
    "\n",
    "By default, `FourthOrderTensor` is initialized with a generic fourth-order array `ArraySymbol`.\n",
    "\n",
    "The spatial dimension is indicated by the `dim` parameter. By default, we have `dim = 3`.\n",
    "\n",
    "The symmetry of the array object can be prescribed through the `symmetry` parameter\n",
    "\n",
    "- No symmetry `symmetry=None`\n",
    "- Minor symmetry `symmetry=\"minor\"`, which implies `a[i, j, k, l] = a[j, i, k, l] = a[i, j, l, k]`. In practice, the expressions containing `a[j, i, k, l]` and `a[i, j, l, k]` with `j > i` and `l > k` will be replaced by `a[i, j, l, k]`.\n",
    "- (Default) Major symmetry `symmetry=\"major\"`, which additionally assumes that `a[i, j, k, l] = a[k, l, i, j]`. In practice, this implies that the matrix representation will be symmetric using the upper-diagonal part.\n",
    "\n",
    "Fourth-order tensors are regarded as a linear operator $T$ in the vector space $V$ of second-order tensors\n",
    "\n",
    "$$\n",
    "    T:V\\to V.\n",
    "$$\n",
    "\n",
    "The dimension of the vector space $V$ is not to be confused with the spatial dimension. For 3-d symmetric second-order tensors, the dimension of $V$ is 6, since 6 basis vectors are required to represent them using for example Voigt or Mandel notation.\n",
    "\n",
    "After having chosen a basis for the input and the output spaces $V$ (which can be the same), the fourth-order tensor $\\mathbb{C}$ can be represented by a matrix\n",
    "\n",
    "$$\n",
    "T(\\mathbf{v}_j)=\\sum_{i=1}^n T_{ij}\\mathbf{w}_i\\quad\\implies T=\\begin{bmatrix}\n",
    "T_{11} & T_{12} & \\ldots & T_{1n} \\\\\n",
    "T_{21} & T_{22} & \\ldots & T_{2n} \\\\\n",
    "\\ldots & \\ldots & \\ldots & \\ldots \\\\\n",
    "T_{n1} & T_{n2} & \\ldots & T_{nn} \\\\\n",
    "\\end{bmatrix}.\n",
    "$$\n",
    "\n",
    "Here, $(\\mathbf{v}_1,\\mathbf{v}_2,\\ldots,\\mathbf{v}_n)$ is the basis chosen to represent input second-order tensors, while $(\\mathbf{w}_1, \\mathbf{w}_2, \\ldots, \\mathbf{w}_n)$ is used to represent output second-order tensors."
   ]
  },
  {
   "cell_type": "markdown",
   "metadata": {},
   "source": [
    "### Voigt notation\n",
    "\n",
    "Voigt notation assumes that the input is a strain-like tensor while the output is stress-like. Hence\n",
    "\n",
    "- Input basis $\\mathbf{v}$ is `SecondOrderTensor().basis_voigt_strain()`.\n",
    "- Output basis $\\mathbf{w}$ is `SecondOrderTensor().basis_voigt_stress()`."
   ]
  },
  {
   "cell_type": "code",
   "execution_count": 2,
   "metadata": {},
   "outputs": [
    {
     "data": {
      "text/latex": [
       "$\\displaystyle \\left[\\begin{matrix}{{a}_{0, 0, 0, 0}} & {{a}_{0, 0, 1, 1}} & {{a}_{0, 0, 2, 2}} & {{a}_{0, 0, 0, 1}} & {{a}_{0, 0, 0, 2}} & {{a}_{0, 0, 1, 2}}\\\\{{a}_{0, 0, 1, 1}} & {{a}_{1, 1, 1, 1}} & {{a}_{1, 1, 2, 2}} & {{a}_{1, 1, 0, 1}} & {{a}_{1, 1, 0, 2}} & {{a}_{1, 1, 1, 2}}\\\\{{a}_{0, 0, 2, 2}} & {{a}_{1, 1, 2, 2}} & {{a}_{2, 2, 2, 2}} & {{a}_{2, 2, 0, 1}} & {{a}_{2, 2, 0, 2}} & {{a}_{2, 2, 1, 2}}\\\\{{a}_{0, 0, 0, 1}} & {{a}_{1, 1, 0, 1}} & {{a}_{2, 2, 0, 1}} & {{a}_{0, 1, 0, 1}} & {{a}_{0, 1, 0, 2}} & {{a}_{0, 1, 1, 2}}\\\\{{a}_{0, 0, 0, 2}} & {{a}_{1, 1, 0, 2}} & {{a}_{2, 2, 0, 2}} & {{a}_{0, 1, 0, 2}} & {{a}_{0, 2, 0, 2}} & {{a}_{0, 2, 1, 2}}\\\\{{a}_{0, 0, 1, 2}} & {{a}_{1, 1, 1, 2}} & {{a}_{2, 2, 1, 2}} & {{a}_{0, 1, 1, 2}} & {{a}_{0, 2, 1, 2}} & {{a}_{1, 2, 1, 2}}\\end{matrix}\\right]$"
      ],
      "text/plain": [
       "⎡a[0, 0, 0, 0]  a[0, 0, 1, 1]  a[0, 0, 2, 2]  a[0, 0, 0, 1]  a[0, 0, 0, 2]  a[\n",
       "⎢                                                                             \n",
       "⎢a[0, 0, 1, 1]  a[1, 1, 1, 1]  a[1, 1, 2, 2]  a[1, 1, 0, 1]  a[1, 1, 0, 2]  a[\n",
       "⎢                                                                             \n",
       "⎢a[0, 0, 2, 2]  a[1, 1, 2, 2]  a[2, 2, 2, 2]  a[2, 2, 0, 1]  a[2, 2, 0, 2]  a[\n",
       "⎢                                                                             \n",
       "⎢a[0, 0, 0, 1]  a[1, 1, 0, 1]  a[2, 2, 0, 1]  a[0, 1, 0, 1]  a[0, 1, 0, 2]  a[\n",
       "⎢                                                                             \n",
       "⎢a[0, 0, 0, 2]  a[1, 1, 0, 2]  a[2, 2, 0, 2]  a[0, 1, 0, 2]  a[0, 2, 0, 2]  a[\n",
       "⎢                                                                             \n",
       "⎣a[0, 0, 1, 2]  a[1, 1, 1, 2]  a[2, 2, 1, 2]  a[0, 1, 1, 2]  a[0, 2, 1, 2]  a[\n",
       "\n",
       "0, 0, 1, 2]⎤\n",
       "           ⎥\n",
       "1, 1, 1, 2]⎥\n",
       "           ⎥\n",
       "2, 2, 1, 2]⎥\n",
       "           ⎥\n",
       "0, 1, 1, 2]⎥\n",
       "           ⎥\n",
       "0, 2, 1, 2]⎥\n",
       "           ⎥\n",
       "1, 2, 1, 2]⎦"
      ]
     },
     "execution_count": 2,
     "metadata": {},
     "output_type": "execute_result"
    }
   ],
   "source": [
    "FourthOrderTensor().as_voigt()"
   ]
  },
  {
   "cell_type": "markdown",
   "metadata": {},
   "source": [
    "The ordering of the shear (off-diagonal) components can also be specified by the `ordering` parameter. By default, we assume `FourthOrderTensor(ordering=\"121323\")` as for second-order tensors."
   ]
  },
  {
   "cell_type": "code",
   "execution_count": 3,
   "metadata": {},
   "outputs": [
    {
     "data": {
      "text/latex": [
       "$\\displaystyle \\left[\\begin{matrix}{{a}_{0, 0, 0, 0}} & {{a}_{0, 0, 1, 1}} & {{a}_{0, 0, 2, 2}} & {{a}_{0, 0, 0, 1}} & {{a}_{0, 0, 1, 2}} & {{a}_{0, 0, 0, 2}}\\\\{{a}_{0, 0, 1, 1}} & {{a}_{1, 1, 1, 1}} & {{a}_{1, 1, 2, 2}} & {{a}_{1, 1, 0, 1}} & {{a}_{1, 1, 1, 2}} & {{a}_{1, 1, 0, 2}}\\\\{{a}_{0, 0, 2, 2}} & {{a}_{1, 1, 2, 2}} & {{a}_{2, 2, 2, 2}} & {{a}_{2, 2, 0, 1}} & {{a}_{2, 2, 1, 2}} & {{a}_{2, 2, 0, 2}}\\\\{{a}_{0, 0, 0, 1}} & {{a}_{1, 1, 0, 1}} & {{a}_{2, 2, 0, 1}} & {{a}_{0, 1, 0, 1}} & {{a}_{0, 1, 1, 2}} & {{a}_{0, 1, 0, 2}}\\\\{{a}_{0, 0, 1, 2}} & {{a}_{1, 1, 1, 2}} & {{a}_{2, 2, 1, 2}} & {{a}_{0, 1, 1, 2}} & {{a}_{1, 2, 1, 2}} & {{a}_{1, 2, 0, 2}}\\\\{{a}_{0, 0, 0, 2}} & {{a}_{1, 1, 0, 2}} & {{a}_{2, 2, 0, 2}} & {{a}_{0, 1, 0, 2}} & {{a}_{1, 2, 0, 2}} & {{a}_{0, 2, 0, 2}}\\end{matrix}\\right]$"
      ],
      "text/plain": [
       "⎡a[0, 0, 0, 0]  a[0, 0, 1, 1]  a[0, 0, 2, 2]  a[0, 0, 0, 1]  a[0, 0, 1, 2]  a[\n",
       "⎢                                                                             \n",
       "⎢a[0, 0, 1, 1]  a[1, 1, 1, 1]  a[1, 1, 2, 2]  a[1, 1, 0, 1]  a[1, 1, 1, 2]  a[\n",
       "⎢                                                                             \n",
       "⎢a[0, 0, 2, 2]  a[1, 1, 2, 2]  a[2, 2, 2, 2]  a[2, 2, 0, 1]  a[2, 2, 1, 2]  a[\n",
       "⎢                                                                             \n",
       "⎢a[0, 0, 0, 1]  a[1, 1, 0, 1]  a[2, 2, 0, 1]  a[0, 1, 0, 1]  a[0, 1, 1, 2]  a[\n",
       "⎢                                                                             \n",
       "⎢a[0, 0, 1, 2]  a[1, 1, 1, 2]  a[2, 2, 1, 2]  a[0, 1, 1, 2]  a[1, 2, 1, 2]  a[\n",
       "⎢                                                                             \n",
       "⎣a[0, 0, 0, 2]  a[1, 1, 0, 2]  a[2, 2, 0, 2]  a[0, 1, 0, 2]  a[1, 2, 0, 2]  a[\n",
       "\n",
       "0, 0, 0, 2]⎤\n",
       "           ⎥\n",
       "1, 1, 0, 2]⎥\n",
       "           ⎥\n",
       "2, 2, 0, 2]⎥\n",
       "           ⎥\n",
       "0, 1, 0, 2]⎥\n",
       "           ⎥\n",
       "1, 2, 0, 2]⎥\n",
       "           ⎥\n",
       "0, 2, 0, 2]⎦"
      ]
     },
     "execution_count": 3,
     "metadata": {},
     "output_type": "execute_result"
    }
   ],
   "source": [
    "FourthOrderTensor(ordering=\"122313\").as_voigt()"
   ]
  },
  {
   "cell_type": "markdown",
   "metadata": {},
   "source": [
    "It can be observed that by default, the matrix representation is symmetric, due to major symmetry. With `symmetry = \"minor\"`, the output matrix is no longer symmetric."
   ]
  },
  {
   "cell_type": "code",
   "execution_count": 5,
   "metadata": {},
   "outputs": [
    {
     "data": {
      "image/png": "[encoded data removed]",
      "text/latex": [
       "$\\displaystyle \\left[\\begin{matrix}{{a}_{0, 0, 0, 0}} & {{a}_{0, 0, 1, 1}} & {{a}_{0, 0, 2, 2}} & {{a}_{0, 0, 0, 1}} & {{a}_{0, 0, 0, 2}} & {{a}_{0, 0, 1, 2}}\\\\{{a}_{1, 1, 0, 0}} & {{a}_{1, 1, 1, 1}} & {{a}_{1, 1, 2, 2}} & {{a}_{1, 1, 0, 1}} & {{a}_{1, 1, 0, 2}} & {{a}_{1, 1, 1, 2}}\\\\{{a}_{2, 2, 0, 0}} & {{a}_{2, 2, 1, 1}} & {{a}_{2, 2, 2, 2}} & {{a}_{2, 2, 0, 1}} & {{a}_{2, 2, 0, 2}} & {{a}_{2, 2, 1, 2}}\\\\{{a}_{0, 1, 0, 0}} & {{a}_{0, 1, 1, 1}} & {{a}_{0, 1, 2, 2}} & {{a}_{0, 1, 0, 1}} & {{a}_{0, 1, 0, 2}} & {{a}_{0, 1, 1, 2}}\\\\{{a}_{0, 2, 0, 0}} & {{a}_{0, 2, 1, 1}} & {{a}_{0, 2, 2, 2}} & {{a}_{0, 2, 0, 1}} & {{a}_{0, 2, 0, 2}} & {{a}_{0, 2, 1, 2}}\\\\{{a}_{1, 2, 0, 0}} & {{a}_{1, 2, 1, 1}} & {{a}_{1, 2, 2, 2}} & {{a}_{1, 2, 0, 1}} & {{a}_{1, 2, 0, 2}} & {{a}_{1, 2, 1, 2}}\\end{matrix}\\right]$"
      ],
      "text/plain": [
       "⎡a[0, 0, 0, 0]  a[0, 0, 1, 1]  a[0, 0, 2, 2]  a[0, 0, 0, 1]  a[0, 0, 0, 2]  a[\n",
       "⎢                                                                             \n",
       "⎢a[1, 1, 0, 0]  a[1, 1, 1, 1]  a[1, 1, 2, 2]  a[1, 1, 0, 1]  a[1, 1, 0, 2]  a[\n",
       "⎢                                                                             \n",
       "⎢a[2, 2, 0, 0]  a[2, 2, 1, 1]  a[2, 2, 2, 2]  a[2, 2, 0, 1]  a[2, 2, 0, 2]  a[\n",
       "⎢                                                                             \n",
       "⎢a[0, 1, 0, 0]  a[0, 1, 1, 1]  a[0, 1, 2, 2]  a[0, 1, 0, 1]  a[0, 1, 0, 2]  a[\n",
       "⎢                                                                             \n",
       "⎢a[0, 2, 0, 0]  a[0, 2, 1, 1]  a[0, 2, 2, 2]  a[0, 2, 0, 1]  a[0, 2, 0, 2]  a[\n",
       "⎢                                                                             \n",
       "⎣a[1, 2, 0, 0]  a[1, 2, 1, 1]  a[1, 2, 2, 2]  a[1, 2, 0, 1]  a[1, 2, 0, 2]  a[\n",
       "\n",
       "0, 0, 1, 2]⎤\n",
       "           ⎥\n",
       "1, 1, 1, 2]⎥\n",
       "           ⎥\n",
       "2, 2, 1, 2]⎥\n",
       "           ⎥\n",
       "0, 1, 1, 2]⎥\n",
       "           ⎥\n",
       "0, 2, 1, 2]⎥\n",
       "           ⎥\n",
       "1, 2, 1, 2]⎦"
      ]
     },
     "execution_count": 5,
     "metadata": {},
     "output_type": "execute_result"
    }
   ],
   "source": [
    "FourthOrderTensor(symmetry=\"minor\").as_voigt()"
   ]
  },
  {
   "cell_type": "markdown",
   "metadata": {},
   "source": [
    "### Mandel notation\n",
    "\n",
    "Mandel notation uses the same basis vectors to represent the input and the output second-order tensors. Hence\n",
    "\n",
    "- Input basis $\\mathbf{v}$ is `SecondOrderTensor().basis_mandel()`.\n",
    "- Output basis $\\mathbf{w}$ is `SecondOrderTensor().basis_mandel()`."
   ]
  },
  {
   "cell_type": "code",
   "execution_count": 9,
   "metadata": {},
   "outputs": [
    {
     "data": {
      "image/png": "[encoded data removed]",
      "text/latex": [
       "$\\displaystyle \\left[\\begin{matrix}{{a}_{0, 0, 0, 0}} & {{a}_{0, 0, 1, 1}} & {{a}_{0, 0, 2, 2}} & \\sqrt{2} {{a}_{0, 0, 0, 1}} & \\sqrt{2} {{a}_{0, 0, 0, 2}} & \\sqrt{2} {{a}_{0, 0, 1, 2}}\\\\{{a}_{0, 0, 1, 1}} & {{a}_{1, 1, 1, 1}} & {{a}_{1, 1, 2, 2}} & \\sqrt{2} {{a}_{1, 1, 0, 1}} & \\sqrt{2} {{a}_{1, 1, 0, 2}} & \\sqrt{2} {{a}_{1, 1, 1, 2}}\\\\{{a}_{0, 0, 2, 2}} & {{a}_{1, 1, 2, 2}} & {{a}_{2, 2, 2, 2}} & \\sqrt{2} {{a}_{2, 2, 0, 1}} & \\sqrt{2} {{a}_{2, 2, 0, 2}} & \\sqrt{2} {{a}_{2, 2, 1, 2}}\\\\\\sqrt{2} {{a}_{0, 0, 0, 1}} & \\sqrt{2} {{a}_{1, 1, 0, 1}} & \\sqrt{2} {{a}_{2, 2, 0, 1}} & 2 {{a}_{0, 1, 0, 1}} & 2 {{a}_{0, 1, 0, 2}} & 2 {{a}_{0, 1, 1, 2}}\\\\\\sqrt{2} {{a}_{0, 0, 0, 2}} & \\sqrt{2} {{a}_{1, 1, 0, 2}} & \\sqrt{2} {{a}_{2, 2, 0, 2}} & 2 {{a}_{0, 1, 0, 2}} & 2 {{a}_{0, 2, 0, 2}} & 2 {{a}_{0, 2, 1, 2}}\\\\\\sqrt{2} {{a}_{0, 0, 1, 2}} & \\sqrt{2} {{a}_{1, 1, 1, 2}} & \\sqrt{2} {{a}_{2, 2, 1, 2}} & 2 {{a}_{0, 1, 1, 2}} & 2 {{a}_{0, 2, 1, 2}} & 2 {{a}_{1, 2, 1, 2}}\\end{matrix}\\right]$"
      ],
      "text/plain": [
       "⎡ a[0, 0, 0, 0]     a[0, 0, 1, 1]     a[0, 0, 2, 2]    √2⋅a[0, 0, 0, 1]  √2⋅a[\n",
       "⎢                                                                             \n",
       "⎢ a[0, 0, 1, 1]     a[1, 1, 1, 1]     a[1, 1, 2, 2]    √2⋅a[1, 1, 0, 1]  √2⋅a[\n",
       "⎢                                                                             \n",
       "⎢ a[0, 0, 2, 2]     a[1, 1, 2, 2]     a[2, 2, 2, 2]    √2⋅a[2, 2, 0, 1]  √2⋅a[\n",
       "⎢                                                                             \n",
       "⎢√2⋅a[0, 0, 0, 1]  √2⋅a[1, 1, 0, 1]  √2⋅a[2, 2, 0, 1]  2⋅a[0, 1, 0, 1]   2⋅a[0\n",
       "⎢                                                                             \n",
       "⎢√2⋅a[0, 0, 0, 2]  √2⋅a[1, 1, 0, 2]  √2⋅a[2, 2, 0, 2]  2⋅a[0, 1, 0, 2]   2⋅a[0\n",
       "⎢                                                                             \n",
       "⎣√2⋅a[0, 0, 1, 2]  √2⋅a[1, 1, 1, 2]  √2⋅a[2, 2, 1, 2]  2⋅a[0, 1, 1, 2]   2⋅a[0\n",
       "\n",
       "0, 0, 0, 2]  √2⋅a[0, 0, 1, 2]⎤\n",
       "                             ⎥\n",
       "1, 1, 0, 2]  √2⋅a[1, 1, 1, 2]⎥\n",
       "                             ⎥\n",
       "2, 2, 0, 2]  √2⋅a[2, 2, 1, 2]⎥\n",
       "                             ⎥\n",
       ", 1, 0, 2]   2⋅a[0, 1, 1, 2] ⎥\n",
       "                             ⎥\n",
       ", 2, 0, 2]   2⋅a[0, 2, 1, 2] ⎥\n",
       "                             ⎥\n",
       ", 2, 1, 2]   2⋅a[1, 2, 1, 2] ⎦"
      ]
     },
     "execution_count": 9,
     "metadata": {},
     "output_type": "execute_result"
    }
   ],
   "source": [
    "FourthOrderTensor().as_mandel()"
   ]
  },
  {
   "cell_type": "markdown",
   "metadata": {},
   "source": [
    "The spatial dimension can be specified by the `dim` parameter."
   ]
  },
  {
   "cell_type": "code",
   "execution_count": 5,
   "metadata": {},
   "outputs": [
    {
     "data": {
      "text/latex": [
       "$\\displaystyle \\left[\\begin{matrix}{{a}_{0, 0, 0, 0}} & {{a}_{0, 0, 1, 1}} & \\sqrt{2} {{a}_{0, 0, 0, 1}}\\\\{{a}_{1, 1, 0, 0}} & {{a}_{1, 1, 1, 1}} & \\sqrt{2} {{a}_{1, 1, 0, 1}}\\\\\\sqrt{2} {{a}_{0, 1, 0, 0}} & \\sqrt{2} {{a}_{0, 1, 1, 1}} & 2 {{a}_{0, 1, 0, 1}}\\end{matrix}\\right]$"
      ],
      "text/plain": [
       "⎡ a[0, 0, 0, 0]     a[0, 0, 1, 1]    √2⋅a[0, 0, 0, 1]⎤\n",
       "⎢                                                    ⎥\n",
       "⎢ a[1, 1, 0, 0]     a[1, 1, 1, 1]    √2⋅a[1, 1, 0, 1]⎥\n",
       "⎢                                                    ⎥\n",
       "⎣√2⋅a[0, 1, 0, 0]  √2⋅a[0, 1, 1, 1]  2⋅a[0, 1, 0, 1] ⎦"
      ]
     },
     "execution_count": 5,
     "metadata": {},
     "output_type": "execute_result"
    }
   ],
   "source": [
    "FourthOrderTensor(dim=2, symmetry=\"minor\").as_mandel()"
   ]
  },
  {
   "cell_type": "markdown",
   "metadata": {},
   "source": [
    "### Unsymmetric notation\n",
    "\n",
    "For fourth-order tensors without any symmetry (which means the input and the output tensors are not symmetric), the unsymmetric notation can be used\n",
    "\n",
    "- Input basis $\\mathbf{v}$ is `SecondOrderTensor().basis_unsym()`.\n",
    "- Output basis $\\mathbf{w}$ is `SecondOrderTensor().basis_unsym()`."
   ]
  },
  {
   "cell_type": "code",
   "execution_count": 3,
   "metadata": {},
   "outputs": [
    {
     "data": {
      "image/png": "[encoded data removed]",
      "text/latex": [
       "$\\displaystyle \\left[\\begin{matrix}{{a}_{0, 0, 0, 0}} & {{a}_{0, 0, 1, 1}} & {{a}_{0, 0, 2, 2}} & {{a}_{0, 0, 0, 1}} & {{a}_{0, 0, 1, 0}} & {{a}_{0, 0, 0, 2}} & {{a}_{0, 0, 2, 0}} & {{a}_{0, 0, 1, 2}} & {{a}_{0, 0, 2, 1}}\\\\{{a}_{1, 1, 0, 0}} & {{a}_{1, 1, 1, 1}} & {{a}_{1, 1, 2, 2}} & {{a}_{1, 1, 0, 1}} & {{a}_{1, 1, 1, 0}} & {{a}_{1, 1, 0, 2}} & {{a}_{1, 1, 2, 0}} & {{a}_{1, 1, 1, 2}} & {{a}_{1, 1, 2, 1}}\\\\{{a}_{2, 2, 0, 0}} & {{a}_{2, 2, 1, 1}} & {{a}_{2, 2, 2, 2}} & {{a}_{2, 2, 0, 1}} & {{a}_{2, 2, 1, 0}} & {{a}_{2, 2, 0, 2}} & {{a}_{2, 2, 2, 0}} & {{a}_{2, 2, 1, 2}} & {{a}_{2, 2, 2, 1}}\\\\{{a}_{0, 1, 0, 0}} & {{a}_{0, 1, 1, 1}} & {{a}_{0, 1, 2, 2}} & {{a}_{0, 1, 0, 1}} & {{a}_{0, 1, 1, 0}} & {{a}_{0, 1, 0, 2}} & {{a}_{0, 1, 2, 0}} & {{a}_{0, 1, 1, 2}} & {{a}_{0, 1, 2, 1}}\\\\{{a}_{1, 0, 0, 0}} & {{a}_{1, 0, 1, 1}} & {{a}_{1, 0, 2, 2}} & {{a}_{1, 0, 0, 1}} & {{a}_{1, 0, 1, 0}} & {{a}_{1, 0, 0, 2}} & {{a}_{1, 0, 2, 0}} & {{a}_{1, 0, 1, 2}} & {{a}_{1, 0, 2, 1}}\\\\{{a}_{0, 2, 0, 0}} & {{a}_{0, 2, 1, 1}} & {{a}_{0, 2, 2, 2}} & {{a}_{0, 2, 0, 1}} & {{a}_{0, 2, 1, 0}} & {{a}_{0, 2, 0, 2}} & {{a}_{0, 2, 2, 0}} & {{a}_{0, 2, 1, 2}} & {{a}_{0, 2, 2, 1}}\\\\{{a}_{2, 0, 0, 0}} & {{a}_{2, 0, 1, 1}} & {{a}_{2, 0, 2, 2}} & {{a}_{2, 0, 0, 1}} & {{a}_{2, 0, 1, 0}} & {{a}_{2, 0, 0, 2}} & {{a}_{2, 0, 2, 0}} & {{a}_{2, 0, 1, 2}} & {{a}_{2, 0, 2, 1}}\\\\{{a}_{1, 2, 0, 0}} & {{a}_{1, 2, 1, 1}} & {{a}_{1, 2, 2, 2}} & {{a}_{1, 2, 0, 1}} & {{a}_{1, 2, 1, 0}} & {{a}_{1, 2, 0, 2}} & {{a}_{1, 2, 2, 0}} & {{a}_{1, 2, 1, 2}} & {{a}_{1, 2, 2, 1}}\\\\{{a}_{2, 1, 0, 0}} & {{a}_{2, 1, 1, 1}} & {{a}_{2, 1, 2, 2}} & {{a}_{2, 1, 0, 1}} & {{a}_{2, 1, 1, 0}} & {{a}_{2, 1, 0, 2}} & {{a}_{2, 1, 2, 0}} & {{a}_{2, 1, 1, 2}} & {{a}_{2, 1, 2, 1}}\\end{matrix}\\right]$"
      ],
      "text/plain": [
       "⎡a[0, 0, 0, 0]  a[0, 0, 1, 1]  a[0, 0, 2, 2]  a[0, 0, 0, 1]  a[0, 0, 1, 0]  a[\n",
       "⎢                                                                             \n",
       "⎢a[1, 1, 0, 0]  a[1, 1, 1, 1]  a[1, 1, 2, 2]  a[1, 1, 0, 1]  a[1, 1, 1, 0]  a[\n",
       "⎢                                                                             \n",
       "⎢a[2, 2, 0, 0]  a[2, 2, 1, 1]  a[2, 2, 2, 2]  a[2, 2, 0, 1]  a[2, 2, 1, 0]  a[\n",
       "⎢                                                                             \n",
       "⎢a[0, 1, 0, 0]  a[0, 1, 1, 1]  a[0, 1, 2, 2]  a[0, 1, 0, 1]  a[0, 1, 1, 0]  a[\n",
       "⎢                                                                             \n",
       "⎢a[1, 0, 0, 0]  a[1, 0, 1, 1]  a[1, 0, 2, 2]  a[1, 0, 0, 1]  a[1, 0, 1, 0]  a[\n",
       "⎢                                                                             \n",
       "⎢a[0, 2, 0, 0]  a[0, 2, 1, 1]  a[0, 2, 2, 2]  a[0, 2, 0, 1]  a[0, 2, 1, 0]  a[\n",
       "⎢                                                                             \n",
       "⎢a[2, 0, 0, 0]  a[2, 0, 1, 1]  a[2, 0, 2, 2]  a[2, 0, 0, 1]  a[2, 0, 1, 0]  a[\n",
       "⎢                                                                             \n",
       "⎢a[1, 2, 0, 0]  a[1, 2, 1, 1]  a[1, 2, 2, 2]  a[1, 2, 0, 1]  a[1, 2, 1, 0]  a[\n",
       "⎢                                                                             \n",
       "⎣a[2, 1, 0, 0]  a[2, 1, 1, 1]  a[2, 1, 2, 2]  a[2, 1, 0, 1]  a[2, 1, 1, 0]  a[\n",
       "\n",
       "0, 0, 0, 2]  a[0, 0, 2, 0]  a[0, 0, 1, 2]  a[0, 0, 2, 1]⎤\n",
       "                                                        ⎥\n",
       "1, 1, 0, 2]  a[1, 1, 2, 0]  a[1, 1, 1, 2]  a[1, 1, 2, 1]⎥\n",
       "                                                        ⎥\n",
       "2, 2, 0, 2]  a[2, 2, 2, 0]  a[2, 2, 1, 2]  a[2, 2, 2, 1]⎥\n",
       "                                                        ⎥\n",
       "0, 1, 0, 2]  a[0, 1, 2, 0]  a[0, 1, 1, 2]  a[0, 1, 2, 1]⎥\n",
       "                                                        ⎥\n",
       "1, 0, 0, 2]  a[1, 0, 2, 0]  a[1, 0, 1, 2]  a[1, 0, 2, 1]⎥\n",
       "                                                        ⎥\n",
       "0, 2, 0, 2]  a[0, 2, 2, 0]  a[0, 2, 1, 2]  a[0, 2, 2, 1]⎥\n",
       "                                                        ⎥\n",
       "2, 0, 0, 2]  a[2, 0, 2, 0]  a[2, 0, 1, 2]  a[2, 0, 2, 1]⎥\n",
       "                                                        ⎥\n",
       "1, 2, 0, 2]  a[1, 2, 2, 0]  a[1, 2, 1, 2]  a[1, 2, 2, 1]⎥\n",
       "                                                        ⎥\n",
       "2, 1, 0, 2]  a[2, 1, 2, 0]  a[2, 1, 1, 2]  a[2, 1, 2, 1]⎦"
      ]
     },
     "execution_count": 3,
     "metadata": {},
     "output_type": "execute_result"
    }
   ],
   "source": [
    "FourthOrderTensor(symmetry=None).as_unsym()"
   ]
  },
  {
   "cell_type": "code",
   "execution_count": 6,
   "metadata": {},
   "outputs": [
    {
     "data": {
      "text/latex": [
       "$\\displaystyle \\left[\\begin{matrix}{{a}_{0, 0, 0, 0}} & {{a}_{0, 0, 1, 1}} & {{a}_{0, 0, 0, 1}} & {{a}_{0, 0, 1, 0}}\\\\{{a}_{1, 1, 0, 0}} & {{a}_{1, 1, 1, 1}} & {{a}_{1, 1, 0, 1}} & {{a}_{1, 1, 1, 0}}\\\\{{a}_{0, 1, 0, 0}} & {{a}_{0, 1, 1, 1}} & {{a}_{0, 1, 0, 1}} & {{a}_{0, 1, 1, 0}}\\\\{{a}_{1, 0, 0, 0}} & {{a}_{1, 0, 1, 1}} & {{a}_{1, 0, 0, 1}} & {{a}_{1, 0, 1, 0}}\\end{matrix}\\right]$"
      ],
      "text/plain": [
       "⎡a[0, 0, 0, 0]  a[0, 0, 1, 1]  a[0, 0, 0, 1]  a[0, 0, 1, 0]⎤\n",
       "⎢                                                          ⎥\n",
       "⎢a[1, 1, 0, 0]  a[1, 1, 1, 1]  a[1, 1, 0, 1]  a[1, 1, 1, 0]⎥\n",
       "⎢                                                          ⎥\n",
       "⎢a[0, 1, 0, 0]  a[0, 1, 1, 1]  a[0, 1, 0, 1]  a[0, 1, 1, 0]⎥\n",
       "⎢                                                          ⎥\n",
       "⎣a[1, 0, 0, 0]  a[1, 0, 1, 1]  a[1, 0, 0, 1]  a[1, 0, 1, 0]⎦"
      ]
     },
     "execution_count": 6,
     "metadata": {},
     "output_type": "execute_result"
    }
   ],
   "source": [
    "FourthOrderTensor(dim=2, symmetry=None).as_unsym()"
   ]
  },
  {
   "cell_type": "markdown",
   "metadata": {},
   "source": [
    "### Array\n",
    "\n",
    "The underlying fourth-order array can also be shown via the `as_array` method."
   ]
  },
  {
   "cell_type": "code",
   "execution_count": 7,
   "metadata": {},
   "outputs": [
    {
     "data": {
      "text/latex": [
       "$\\displaystyle a$"
      ],
      "text/plain": [
       "a"
      ]
     },
     "execution_count": 7,
     "metadata": {},
     "output_type": "execute_result"
    }
   ],
   "source": [
    "FourthOrderTensor(dim=2).as_array()"
   ]
  },
  {
   "cell_type": "markdown",
   "metadata": {},
   "source": [
    "By default, it is a `ArraySymbol` object. Its components can be shown via the `as_explicit` method."
   ]
  },
  {
   "cell_type": "code",
   "execution_count": 8,
   "metadata": {},
   "outputs": [
    {
     "data": {
      "text/latex": [
       "$\\displaystyle \\left[\\begin{matrix}\\left[\\begin{matrix}{{a}_{0, 0, 0, 0}} & {{a}_{0, 0, 0, 1}}\\\\{{a}_{0, 0, 1, 0}} & {{a}_{0, 0, 1, 1}}\\end{matrix}\\right] & \\left[\\begin{matrix}{{a}_{0, 1, 0, 0}} & {{a}_{0, 1, 0, 1}}\\\\{{a}_{0, 1, 1, 0}} & {{a}_{0, 1, 1, 1}}\\end{matrix}\\right]\\\\\\left[\\begin{matrix}{{a}_{1, 0, 0, 0}} & {{a}_{1, 0, 0, 1}}\\\\{{a}_{1, 0, 1, 0}} & {{a}_{1, 0, 1, 1}}\\end{matrix}\\right] & \\left[\\begin{matrix}{{a}_{1, 1, 0, 0}} & {{a}_{1, 1, 0, 1}}\\\\{{a}_{1, 1, 1, 0}} & {{a}_{1, 1, 1, 1}}\\end{matrix}\\right]\\end{matrix}\\right]$"
      ],
      "text/plain": [
       "⎡⎡a[0, 0, 0, 0]  a[0, 0, 0, 1]⎤  ⎡a[0, 1, 0, 0]  a[0, 1, 0, 1]⎤⎤\n",
       "⎢⎢                            ⎥  ⎢                            ⎥⎥\n",
       "⎢⎣a[0, 0, 1, 0]  a[0, 0, 1, 1]⎦  ⎣a[0, 1, 1, 0]  a[0, 1, 1, 1]⎦⎥\n",
       "⎢                                                              ⎥\n",
       "⎢⎡a[1, 0, 0, 0]  a[1, 0, 0, 1]⎤  ⎡a[1, 1, 0, 0]  a[1, 1, 0, 1]⎤⎥\n",
       "⎢⎢                            ⎥  ⎢                            ⎥⎥\n",
       "⎣⎣a[1, 0, 1, 0]  a[1, 0, 1, 1]⎦  ⎣a[1, 1, 1, 0]  a[1, 1, 1, 1]⎦⎦"
      ]
     },
     "execution_count": 8,
     "metadata": {},
     "output_type": "execute_result"
    }
   ],
   "source": [
    "FourthOrderTensor(dim=2).as_array().as_explicit()"
   ]
  },
  {
   "cell_type": "markdown",
   "metadata": {},
   "source": [
    "## Initialization by matrix representations\n",
    "\n",
    "The default constructor of `FourthOrderTensor` uses a generic tensor object. It can also be initialized from the previous matrix representations."
   ]
  },
  {
   "cell_type": "code",
   "execution_count": 34,
   "metadata": {},
   "outputs": [
    {
     "data": {
      "text/latex": [
       "$\\displaystyle \\left[\\begin{matrix}170 & 121 & 50 & 99 & 150 & 102\\\\121 & 40 & 136 & 175 & 141 & 107\\\\50 & 136 & 148 & 118 & 114 & 123\\\\99 & 175 & 118 & 110 & 104 & 164\\\\150 & 141 & 114 & 104 & 122 & 136\\\\102 & 107 & 123 & 164 & 136 & 148\\end{matrix}\\right]$"
      ],
      "text/plain": [
       "⎡170  121  50   99   150  102⎤\n",
       "⎢                            ⎥\n",
       "⎢121  40   136  175  141  107⎥\n",
       "⎢                            ⎥\n",
       "⎢50   136  148  118  114  123⎥\n",
       "⎢                            ⎥\n",
       "⎢99   175  118  110  104  164⎥\n",
       "⎢                            ⎥\n",
       "⎢150  141  114  104  122  136⎥\n",
       "⎢                            ⎥\n",
       "⎣102  107  123  164  136  148⎦"
      ]
     },
     "execution_count": 34,
     "metadata": {},
     "output_type": "execute_result"
    }
   ],
   "source": [
    "dim = 3\n",
    "n = 6 if dim == 3 else 3  # symmetric second-order tensors\n",
    "a_mandel = sympy.randMatrix(n, n)\n",
    "a_mandel += a_mandel.T\n",
    "a_mandel  # Mandel representation of the tensor"
   ]
  },
  {
   "cell_type": "code",
   "execution_count": 35,
   "metadata": {},
   "outputs": [],
   "source": [
    "a = FourthOrderTensor(dim).from_mandel(a_mandel)  # initialize from Mandel notation"
   ]
  },
  {
   "cell_type": "code",
   "execution_count": 37,
   "metadata": {},
   "outputs": [
    {
     "data": {
      "text/latex": [
       "$\\displaystyle \\left[\\begin{matrix}170 & 121 & 50 & \\frac{99 \\sqrt{2}}{2} & 75 \\sqrt{2} & 51 \\sqrt{2}\\\\121 & 40 & 136 & \\frac{175 \\sqrt{2}}{2} & \\frac{141 \\sqrt{2}}{2} & \\frac{107 \\sqrt{2}}{2}\\\\50 & 136 & 148 & 59 \\sqrt{2} & 57 \\sqrt{2} & \\frac{123 \\sqrt{2}}{2}\\\\\\frac{99 \\sqrt{2}}{2} & \\frac{175 \\sqrt{2}}{2} & 59 \\sqrt{2} & 55 & 52 & 82\\\\75 \\sqrt{2} & \\frac{141 \\sqrt{2}}{2} & 57 \\sqrt{2} & 52 & 61 & 68\\\\51 \\sqrt{2} & \\frac{107 \\sqrt{2}}{2} & \\frac{123 \\sqrt{2}}{2} & 82 & 68 & 74\\end{matrix}\\right]$"
      ],
      "text/plain": [
       "⎡                       99⋅√2                 ⎤\n",
       "⎢ 170    121      50    ─────   75⋅√2   51⋅√2 ⎥\n",
       "⎢                         2                   ⎥\n",
       "⎢                                             ⎥\n",
       "⎢                       175⋅√2  141⋅√2  107⋅√2⎥\n",
       "⎢ 121     40     136    ──────  ──────  ──────⎥\n",
       "⎢                         2       2       2   ⎥\n",
       "⎢                                             ⎥\n",
       "⎢                                       123⋅√2⎥\n",
       "⎢ 50     136     148    59⋅√2   57⋅√2   ──────⎥\n",
       "⎢                                         2   ⎥\n",
       "⎢                                             ⎥\n",
       "⎢99⋅√2  175⋅√2                                ⎥\n",
       "⎢─────  ──────  59⋅√2     55      52      82  ⎥\n",
       "⎢  2      2                                   ⎥\n",
       "⎢                                             ⎥\n",
       "⎢       141⋅√2                                ⎥\n",
       "⎢75⋅√2  ──────  57⋅√2     52      61      68  ⎥\n",
       "⎢         2                                   ⎥\n",
       "⎢                                             ⎥\n",
       "⎢       107⋅√2  123⋅√2                        ⎥\n",
       "⎢51⋅√2  ──────  ──────    82      68      74  ⎥\n",
       "⎣         2       2                           ⎦"
      ]
     },
     "execution_count": 37,
     "metadata": {},
     "output_type": "execute_result"
    }
   ],
   "source": [
    "a.as_voigt()  # now, represent as Voigt notation"
   ]
  },
  {
   "cell_type": "markdown",
   "metadata": {},
   "source": [
    "Now, we initialize from this Voigt notation and then represent as Mandel notation. We should recover the initial matrix.\n",
    "\n",
    "Thanks to the [Fluent API](https://en.wikipedia.org/wiki/Fluent_interface#Python), `as_mandel` can be applied directly after `from_voigt`."
   ]
  },
  {
   "cell_type": "code",
   "execution_count": 38,
   "metadata": {},
   "outputs": [
    {
     "data": {
      "text/latex": [
       "$\\displaystyle \\left[\\begin{matrix}170 & 121 & 50 & 99 & 150 & 102\\\\121 & 40 & 136 & 175 & 141 & 107\\\\50 & 136 & 148 & 118 & 114 & 123\\\\99 & 175 & 118 & 110 & 104 & 164\\\\150 & 141 & 114 & 104 & 122 & 136\\\\102 & 107 & 123 & 164 & 136 & 148\\end{matrix}\\right]$"
      ],
      "text/plain": [
       "⎡170  121  50   99   150  102⎤\n",
       "⎢                            ⎥\n",
       "⎢121  40   136  175  141  107⎥\n",
       "⎢                            ⎥\n",
       "⎢50   136  148  118  114  123⎥\n",
       "⎢                            ⎥\n",
       "⎢99   175  118  110  104  164⎥\n",
       "⎢                            ⎥\n",
       "⎢150  141  114  104  122  136⎥\n",
       "⎢                            ⎥\n",
       "⎣102  107  123  164  136  148⎦"
      ]
     },
     "execution_count": 38,
     "metadata": {},
     "output_type": "execute_result"
    }
   ],
   "source": [
    "FourthOrderTensor(dim).from_voigt(a.as_voigt()).as_mandel()"
   ]
  },
  {
   "cell_type": "code",
   "execution_count": 39,
   "metadata": {},
   "outputs": [
    {
     "data": {
      "text/plain": [
       "True"
      ]
     },
     "execution_count": 39,
     "metadata": {},
     "output_type": "execute_result"
    }
   ],
   "source": [
    "FourthOrderTensor(dim).from_voigt(a.as_voigt()).as_mandel() == a_mandel"
   ]
  },
  {
   "cell_type": "markdown",
   "metadata": {},
   "source": [
    "## Initialization by an operator\n",
    "\n",
    "`FourthOrderTensor` can also be initialized from a linear operator $T:V\\to V$ defining the fourth-order tensor. A Python function operating on `sympy.Matrix` is required."
   ]
  },
  {
   "cell_type": "markdown",
   "metadata": {},
   "source": [
    "### Identity\n",
    "\n",
    "The identity map just return the input tensor as the output."
   ]
  },
  {
   "cell_type": "code",
   "execution_count": 11,
   "metadata": {},
   "outputs": [],
   "source": [
    "def identity(x):\n",
    "    return x"
   ]
  },
  {
   "cell_type": "markdown",
   "metadata": {},
   "source": [
    "Using Voigt notation, the matrix representation of the identity map is not identity!"
   ]
  },
  {
   "cell_type": "code",
   "execution_count": 12,
   "metadata": {},
   "outputs": [
    {
     "data": {
      "text/latex": [
       "$\\displaystyle \\left[\\begin{matrix}1 & 0 & 0 & 0 & 0 & 0\\\\0 & 1 & 0 & 0 & 0 & 0\\\\0 & 0 & 1 & 0 & 0 & 0\\\\0 & 0 & 0 & \\frac{1}{2} & 0 & 0\\\\0 & 0 & 0 & 0 & \\frac{1}{2} & 0\\\\0 & 0 & 0 & 0 & 0 & \\frac{1}{2}\\end{matrix}\\right]$"
      ],
      "text/plain": [
       "⎡1  0  0   0    0    0 ⎤\n",
       "⎢                      ⎥\n",
       "⎢0  1  0   0    0    0 ⎥\n",
       "⎢                      ⎥\n",
       "⎢0  0  1   0    0    0 ⎥\n",
       "⎢                      ⎥\n",
       "⎢0  0  0  1/2   0    0 ⎥\n",
       "⎢                      ⎥\n",
       "⎢0  0  0   0   1/2   0 ⎥\n",
       "⎢                      ⎥\n",
       "⎣0  0  0   0    0   1/2⎦"
      ]
     },
     "execution_count": 12,
     "metadata": {},
     "output_type": "execute_result"
    }
   ],
   "source": [
    "FourthOrderTensor().from_operator(identity).as_voigt()"
   ]
  },
  {
   "cell_type": "markdown",
   "metadata": {},
   "source": [
    "By comparison, with Mandel notation the matrix identity is well obtained."
   ]
  },
  {
   "cell_type": "code",
   "execution_count": 10,
   "metadata": {},
   "outputs": [
    {
     "data": {
      "text/latex": [
       "$\\displaystyle \\left[\\begin{matrix}1 & 0 & 0\\\\0 & 1 & 0\\\\0 & 0 & 1\\end{matrix}\\right]$"
      ],
      "text/plain": [
       "⎡1  0  0⎤\n",
       "⎢       ⎥\n",
       "⎢0  1  0⎥\n",
       "⎢       ⎥\n",
       "⎣0  0  1⎦"
      ]
     },
     "execution_count": 10,
     "metadata": {},
     "output_type": "execute_result"
    }
   ],
   "source": [
    "FourthOrderTensor(dim=2).from_operator(identity).as_mandel()"
   ]
  },
  {
   "cell_type": "markdown",
   "metadata": {},
   "source": [
    "### Deviatoric operator\n",
    "\n",
    "The deviatoric operator computes the trace-free part of a second-order tensor. The trace of the output is zero."
   ]
  },
  {
   "cell_type": "code",
   "execution_count": 13,
   "metadata": {},
   "outputs": [],
   "source": [
    "def dev(eps):\n",
    "    dim = eps.shape[0]\n",
    "    tr = sympy.trace(eps)\n",
    "    return eps - tr / dim * sympy.eye(dim)"
   ]
  },
  {
   "cell_type": "code",
   "execution_count": 14,
   "metadata": {},
   "outputs": [
    {
     "data": {
      "text/latex": [
       "$\\displaystyle \\left[\\begin{matrix}\\frac{2}{3} & - \\frac{1}{3} & - \\frac{1}{3} & 0 & 0 & 0\\\\- \\frac{1}{3} & \\frac{2}{3} & - \\frac{1}{3} & 0 & 0 & 0\\\\- \\frac{1}{3} & - \\frac{1}{3} & \\frac{2}{3} & 0 & 0 & 0\\\\0 & 0 & 0 & 1 & 0 & 0\\\\0 & 0 & 0 & 0 & 1 & 0\\\\0 & 0 & 0 & 0 & 0 & 1\\end{matrix}\\right]$"
      ],
      "text/plain": [
       "⎡2/3   -1/3  -1/3  0  0  0⎤\n",
       "⎢                         ⎥\n",
       "⎢-1/3  2/3   -1/3  0  0  0⎥\n",
       "⎢                         ⎥\n",
       "⎢-1/3  -1/3  2/3   0  0  0⎥\n",
       "⎢                         ⎥\n",
       "⎢ 0     0     0    1  0  0⎥\n",
       "⎢                         ⎥\n",
       "⎢ 0     0     0    0  1  0⎥\n",
       "⎢                         ⎥\n",
       "⎣ 0     0     0    0  0  1⎦"
      ]
     },
     "execution_count": 14,
     "metadata": {},
     "output_type": "execute_result"
    }
   ],
   "source": [
    "FourthOrderTensor().from_operator(dev).as_mandel()"
   ]
  },
  {
   "cell_type": "code",
   "execution_count": 15,
   "metadata": {},
   "outputs": [
    {
     "data": {
      "text/latex": [
       "$\\displaystyle \\left[\\begin{matrix}\\frac{1}{2} & - \\frac{1}{2} & 0\\\\- \\frac{1}{2} & \\frac{1}{2} & 0\\\\0 & 0 & \\frac{1}{2}\\end{matrix}\\right]$"
      ],
      "text/plain": [
       "⎡1/2   -1/2   0 ⎤\n",
       "⎢               ⎥\n",
       "⎢-1/2  1/2    0 ⎥\n",
       "⎢               ⎥\n",
       "⎣ 0     0    1/2⎦"
      ]
     },
     "execution_count": 15,
     "metadata": {},
     "output_type": "execute_result"
    }
   ],
   "source": [
    "FourthOrderTensor(dim=2).from_operator(dev).as_voigt()"
   ]
  },
  {
   "cell_type": "markdown",
   "metadata": {},
   "source": [
    "### Isotropic linear elasticity\n",
    "\n",
    "The fourth-order isotropic linear elastic stiffness tensor can be defined using two Lamé constants $\\lambda$ and $\\mu$\n",
    "\n",
    "$$\n",
    "\\bm{\\sigma}=\\mathbb{C}\\bm{\\varepsilon}=\\lambda\\cdot\\mathrm{tr}(\\bm{\\varepsilon})\\cdot\\mathbb{I}_d+2\\mu\\bm{\\varepsilon}\n",
    "$$"
   ]
  },
  {
   "cell_type": "code",
   "execution_count": 1,
   "metadata": {},
   "outputs": [],
   "source": [
    "def linear_elastic(eps):\n",
    "    dim = eps.shape[0]\n",
    "    lmbda, mu = sympy.symbols(\"lambda, mu\", positive=True)\n",
    "    return lmbda * sympy.trace(eps) * sympy.eye(dim) + 2 * mu * eps"
   ]
  },
  {
   "cell_type": "code",
   "execution_count": 17,
   "metadata": {},
   "outputs": [
    {
     "data": {
      "text/latex": [
       "$\\displaystyle \\left[\\begin{matrix}\\lambda + 2 \\mu & \\lambda & \\lambda & 0 & 0 & 0\\\\\\lambda & \\lambda + 2 \\mu & \\lambda & 0 & 0 & 0\\\\\\lambda & \\lambda & \\lambda + 2 \\mu & 0 & 0 & 0\\\\0 & 0 & 0 & 2 \\mu & 0 & 0\\\\0 & 0 & 0 & 0 & 2 \\mu & 0\\\\0 & 0 & 0 & 0 & 0 & 2 \\mu\\end{matrix}\\right]$"
      ],
      "text/plain": [
       "⎡λ + 2⋅μ     λ        λ      0    0    0 ⎤\n",
       "⎢                                        ⎥\n",
       "⎢   λ     λ + 2⋅μ     λ      0    0    0 ⎥\n",
       "⎢                                        ⎥\n",
       "⎢   λ        λ     λ + 2⋅μ   0    0    0 ⎥\n",
       "⎢                                        ⎥\n",
       "⎢   0        0        0     2⋅μ   0    0 ⎥\n",
       "⎢                                        ⎥\n",
       "⎢   0        0        0      0   2⋅μ   0 ⎥\n",
       "⎢                                        ⎥\n",
       "⎣   0        0        0      0    0   2⋅μ⎦"
      ]
     },
     "execution_count": 17,
     "metadata": {},
     "output_type": "execute_result"
    }
   ],
   "source": [
    "FourthOrderTensor().from_operator(linear_elastic).as_mandel()"
   ]
  },
  {
   "cell_type": "code",
   "execution_count": 20,
   "metadata": {},
   "outputs": [
    {
     "data": {
      "text/latex": [
       "$\\displaystyle \\left[\\begin{matrix}\\lambda + 2 \\mu & \\lambda & 0\\\\\\lambda & \\lambda + 2 \\mu & 0\\\\0 & 0 & \\mu\\end{matrix}\\right]$"
      ],
      "text/plain": [
       "⎡λ + 2⋅μ     λ     0⎤\n",
       "⎢                   ⎥\n",
       "⎢   λ     λ + 2⋅μ  0⎥\n",
       "⎢                   ⎥\n",
       "⎣   0        0     μ⎦"
      ]
     },
     "execution_count": 20,
     "metadata": {},
     "output_type": "execute_result"
    }
   ],
   "source": [
    "FourthOrderTensor(dim=2).from_operator(linear_elastic).as_voigt()"
   ]
  },
  {
   "cell_type": "markdown",
   "metadata": {},
   "source": [
    "We can verify that the tensor intialized from Mandel representation provided by `as_mandel` and then converted to Voigt notation is the same as that directly initialized from the operator. "
   ]
  },
  {
   "cell_type": "code",
   "execution_count": 40,
   "metadata": {},
   "outputs": [
    {
     "data": {
      "text/plain": [
       "True"
      ]
     },
     "execution_count": 40,
     "metadata": {},
     "output_type": "execute_result"
    }
   ],
   "source": [
    "C = FourthOrderTensor().from_operator(linear_elastic)\n",
    "\n",
    "FourthOrderTensor().from_mandel(C.as_mandel()).as_voigt() == C.as_voigt()"
   ]
  },
  {
   "cell_type": "markdown",
   "metadata": {},
   "source": [
    "The same applies for Voigt notation."
   ]
  },
  {
   "cell_type": "code",
   "execution_count": 41,
   "metadata": {},
   "outputs": [
    {
     "data": {
      "text/plain": [
       "True"
      ]
     },
     "execution_count": 41,
     "metadata": {},
     "output_type": "execute_result"
    }
   ],
   "source": [
    "FourthOrderTensor().from_voigt(C.as_voigt()).as_mandel() == C.as_mandel()"
   ]
  },
  {
   "cell_type": "markdown",
   "metadata": {},
   "source": [
    "Conversion between array and the Voigt / Mandel / unsymmetric notations also works."
   ]
  },
  {
   "cell_type": "code",
   "execution_count": 42,
   "metadata": {},
   "outputs": [
    {
     "data": {
      "text/plain": [
       "True"
      ]
     },
     "execution_count": 42,
     "metadata": {},
     "output_type": "execute_result"
    }
   ],
   "source": [
    "a_voigt = sympy.randMatrix(6)\n",
    "a_voigt = a_voigt + a_voigt.T\n",
    "a = FourthOrderTensor().from_voigt(a_voigt).as_array()\n",
    "FourthOrderTensor().from_array(a).as_voigt() == a_voigt"
   ]
  },
  {
   "cell_type": "code",
   "execution_count": 43,
   "metadata": {},
   "outputs": [
    {
     "data": {
      "text/plain": [
       "True"
      ]
     },
     "execution_count": 43,
     "metadata": {},
     "output_type": "execute_result"
    }
   ],
   "source": [
    "a_mandel = sympy.randMatrix(6)\n",
    "a_mandel = a_mandel + a_mandel.T\n",
    "a = FourthOrderTensor().from_mandel(a_mandel).as_array()\n",
    "FourthOrderTensor().from_array(a).as_mandel() == a_mandel"
   ]
  },
  {
   "cell_type": "code",
   "execution_count": 44,
   "metadata": {},
   "outputs": [
    {
     "data": {
      "text/plain": [
       "True"
      ]
     },
     "execution_count": 44,
     "metadata": {},
     "output_type": "execute_result"
    }
   ],
   "source": [
    "a_unsym = sympy.randMatrix(9)\n",
    "a = FourthOrderTensor(symmetry=None).from_unsym(a_unsym).as_array()\n",
    "FourthOrderTensor(symmetry=None).from_array(a).as_unsym() == a_unsym"
   ]
  },
  {
   "cell_type": "markdown",
   "metadata": {},
   "source": [
    "### Change of basis for second-order tensors\n",
    "\n",
    "A change of basis in $\\mathbb{R}^d$ ($d$ is the spatial dimension `dim`) can be represented by an unsymmetric matrix $\\mathbf{R}$ whose columns contain the components of the new basis vectors in the old ones. For a second-order tensor $\\sigma$ written as matrices, its representation in the new basis will be given by\n",
    "\n",
    "$$\n",
    "\\bm{\\sigma}'=\\mathbf{R}^\\mathsf{T}\\bm{\\sigma}\\mathbf{R}.\n",
    "$$\n",
    "\n",
    "The change of basis $\\bm{\\sigma}\\mapsto\\bm{\\sigma}'$ can be regarded as a fourth-order tensor operating on second-order ones."
   ]
  },
  {
   "cell_type": "code",
   "execution_count": 24,
   "metadata": {},
   "outputs": [],
   "source": [
    "def rotation(x):\n",
    "    r = sympy.MatrixSymbol(\"R\", x.shape[0], x.shape[0])  # generic unsymmetric matrix\n",
    "    return r.T * x * r"
   ]
  },
  {
   "cell_type": "markdown",
   "metadata": {},
   "source": [
    "For symmetric second-order tensors, Mandel notation can be used."
   ]
  },
  {
   "cell_type": "code",
   "execution_count": 23,
   "metadata": {},
   "outputs": [
    {
     "data": {
      "text/latex": [
       "$\\displaystyle \\left[\\begin{matrix}R_{0, 0}^{2} & R_{1, 0}^{2} & R_{2, 0}^{2} & \\sqrt{2} R_{0, 0} R_{1, 0} & \\sqrt{2} R_{0, 0} R_{2, 0} & \\sqrt{2} R_{1, 0} R_{2, 0}\\\\R_{0, 1}^{2} & R_{1, 1}^{2} & R_{2, 1}^{2} & \\sqrt{2} R_{0, 1} R_{1, 1} & \\sqrt{2} R_{0, 1} R_{2, 1} & \\sqrt{2} R_{1, 1} R_{2, 1}\\\\R_{0, 2}^{2} & R_{1, 2}^{2} & R_{2, 2}^{2} & \\sqrt{2} R_{0, 2} R_{1, 2} & \\sqrt{2} R_{0, 2} R_{2, 2} & \\sqrt{2} R_{1, 2} R_{2, 2}\\\\\\sqrt{2} R_{0, 0} R_{0, 1} & \\sqrt{2} R_{1, 0} R_{1, 1} & \\sqrt{2} R_{2, 0} R_{2, 1} & R_{0, 0} R_{1, 1} + R_{0, 1} R_{1, 0} & R_{0, 0} R_{2, 1} + R_{0, 1} R_{2, 0} & R_{1, 0} R_{2, 1} + R_{1, 1} R_{2, 0}\\\\\\sqrt{2} R_{0, 0} R_{0, 2} & \\sqrt{2} R_{1, 0} R_{1, 2} & \\sqrt{2} R_{2, 0} R_{2, 2} & R_{0, 0} R_{1, 2} + R_{0, 2} R_{1, 0} & R_{0, 0} R_{2, 2} + R_{0, 2} R_{2, 0} & R_{1, 0} R_{2, 2} + R_{1, 2} R_{2, 0}\\\\\\sqrt{2} R_{0, 1} R_{0, 2} & \\sqrt{2} R_{1, 1} R_{1, 2} & \\sqrt{2} R_{2, 1} R_{2, 2} & R_{0, 1} R_{1, 2} + R_{0, 2} R_{1, 1} & R_{0, 1} R_{2, 2} + R_{0, 2} R_{2, 1} & R_{1, 1} R_{2, 2} + R_{1, 2} R_{2, 1}\\end{matrix}\\right]$"
      ],
      "text/plain": [
       "⎡      2           2           2                                              \n",
       "⎢   R₀₀         R₁₀         R₂₀         √2⋅R₀₀⋅R₁₀         √2⋅R₀₀⋅R₂₀         \n",
       "⎢                                                                             \n",
       "⎢      2           2           2                                              \n",
       "⎢   R₀₁         R₁₁         R₂₁         √2⋅R₀₁⋅R₁₁         √2⋅R₀₁⋅R₂₁         \n",
       "⎢                                                                             \n",
       "⎢      2           2           2                                              \n",
       "⎢   R₀₂         R₁₂         R₂₂         √2⋅R₀₂⋅R₁₂         √2⋅R₀₂⋅R₂₂         \n",
       "⎢                                                                             \n",
       "⎢√2⋅R₀₀⋅R₀₁  √2⋅R₁₀⋅R₁₁  √2⋅R₂₀⋅R₂₁  R₀₀⋅R₁₁ + R₀₁⋅R₁₀  R₀₀⋅R₂₁ + R₀₁⋅R₂₀  R₁₀\n",
       "⎢                                                                             \n",
       "⎢√2⋅R₀₀⋅R₀₂  √2⋅R₁₀⋅R₁₂  √2⋅R₂₀⋅R₂₂  R₀₀⋅R₁₂ + R₀₂⋅R₁₀  R₀₀⋅R₂₂ + R₀₂⋅R₂₀  R₁₀\n",
       "⎢                                                                             \n",
       "⎣√2⋅R₀₁⋅R₀₂  √2⋅R₁₁⋅R₁₂  √2⋅R₂₁⋅R₂₂  R₀₁⋅R₁₂ + R₀₂⋅R₁₁  R₀₁⋅R₂₂ + R₀₂⋅R₂₁  R₁₁\n",
       "\n",
       "              ⎤\n",
       "√2⋅R₁₀⋅R₂₀    ⎥\n",
       "              ⎥\n",
       "              ⎥\n",
       "√2⋅R₁₁⋅R₂₁    ⎥\n",
       "              ⎥\n",
       "              ⎥\n",
       "√2⋅R₁₂⋅R₂₂    ⎥\n",
       "              ⎥\n",
       "⋅R₂₁ + R₁₁⋅R₂₀⎥\n",
       "              ⎥\n",
       "⋅R₂₂ + R₁₂⋅R₂₀⎥\n",
       "              ⎥\n",
       "⋅R₂₂ + R₁₂⋅R₂₁⎦"
      ]
     },
     "execution_count": 23,
     "metadata": {},
     "output_type": "execute_result"
    }
   ],
   "source": [
    "FourthOrderTensor().from_operator(rotation).as_mandel()"
   ]
  },
  {
   "cell_type": "markdown",
   "metadata": {},
   "source": [
    "For unsymmetric second-order tensors, the unsymmetric representation can be used."
   ]
  },
  {
   "cell_type": "code",
   "execution_count": 30,
   "metadata": {},
   "outputs": [
    {
     "data": {
      "text/latex": [
       "$\\displaystyle \\left[\\begin{matrix}R_{0, 0}^{2} & R_{1, 0}^{2} & R_{2, 0}^{2} & R_{0, 0} R_{1, 0} & R_{0, 0} R_{1, 0} & R_{0, 0} R_{2, 0} & R_{0, 0} R_{2, 0} & R_{1, 0} R_{2, 0} & R_{1, 0} R_{2, 0}\\\\R_{0, 1}^{2} & R_{1, 1}^{2} & R_{2, 1}^{2} & R_{0, 1} R_{1, 1} & R_{0, 1} R_{1, 1} & R_{0, 1} R_{2, 1} & R_{0, 1} R_{2, 1} & R_{1, 1} R_{2, 1} & R_{1, 1} R_{2, 1}\\\\R_{0, 2}^{2} & R_{1, 2}^{2} & R_{2, 2}^{2} & R_{0, 2} R_{1, 2} & R_{0, 2} R_{1, 2} & R_{0, 2} R_{2, 2} & R_{0, 2} R_{2, 2} & R_{1, 2} R_{2, 2} & R_{1, 2} R_{2, 2}\\\\R_{0, 0} R_{0, 1} & R_{1, 0} R_{1, 1} & R_{2, 0} R_{2, 1} & R_{0, 0} R_{1, 1} & R_{0, 1} R_{1, 0} & R_{0, 0} R_{2, 1} & R_{0, 1} R_{2, 0} & R_{1, 0} R_{2, 1} & R_{1, 1} R_{2, 0}\\\\R_{0, 0} R_{0, 1} & R_{1, 0} R_{1, 1} & R_{2, 0} R_{2, 1} & R_{0, 1} R_{1, 0} & R_{0, 0} R_{1, 1} & R_{0, 1} R_{2, 0} & R_{0, 0} R_{2, 1} & R_{1, 1} R_{2, 0} & R_{1, 0} R_{2, 1}\\\\R_{0, 0} R_{0, 2} & R_{1, 0} R_{1, 2} & R_{2, 0} R_{2, 2} & R_{0, 0} R_{1, 2} & R_{0, 2} R_{1, 0} & R_{0, 0} R_{2, 2} & R_{0, 2} R_{2, 0} & R_{1, 0} R_{2, 2} & R_{1, 2} R_{2, 0}\\\\R_{0, 0} R_{0, 2} & R_{1, 0} R_{1, 2} & R_{2, 0} R_{2, 2} & R_{0, 2} R_{1, 0} & R_{0, 0} R_{1, 2} & R_{0, 2} R_{2, 0} & R_{0, 0} R_{2, 2} & R_{1, 2} R_{2, 0} & R_{1, 0} R_{2, 2}\\\\R_{0, 1} R_{0, 2} & R_{1, 1} R_{1, 2} & R_{2, 1} R_{2, 2} & R_{0, 1} R_{1, 2} & R_{0, 2} R_{1, 1} & R_{0, 1} R_{2, 2} & R_{0, 2} R_{2, 1} & R_{1, 1} R_{2, 2} & R_{1, 2} R_{2, 1}\\\\R_{0, 1} R_{0, 2} & R_{1, 1} R_{1, 2} & R_{2, 1} R_{2, 2} & R_{0, 2} R_{1, 1} & R_{0, 1} R_{1, 2} & R_{0, 2} R_{2, 1} & R_{0, 1} R_{2, 2} & R_{1, 2} R_{2, 1} & R_{1, 1} R_{2, 2}\\end{matrix}\\right]$"
      ],
      "text/plain": [
       "⎡    2        2        2                                                      \n",
       "⎢ R₀₀      R₁₀      R₂₀     R₀₀⋅R₁₀  R₀₀⋅R₁₀  R₀₀⋅R₂₀  R₀₀⋅R₂₀  R₁₀⋅R₂₀  R₁₀⋅R\n",
       "⎢                                                                             \n",
       "⎢    2        2        2                                                      \n",
       "⎢ R₀₁      R₁₁      R₂₁     R₀₁⋅R₁₁  R₀₁⋅R₁₁  R₀₁⋅R₂₁  R₀₁⋅R₂₁  R₁₁⋅R₂₁  R₁₁⋅R\n",
       "⎢                                                                             \n",
       "⎢    2        2        2                                                      \n",
       "⎢ R₀₂      R₁₂      R₂₂     R₀₂⋅R₁₂  R₀₂⋅R₁₂  R₀₂⋅R₂₂  R₀₂⋅R₂₂  R₁₂⋅R₂₂  R₁₂⋅R\n",
       "⎢                                                                             \n",
       "⎢R₀₀⋅R₀₁  R₁₀⋅R₁₁  R₂₀⋅R₂₁  R₀₀⋅R₁₁  R₀₁⋅R₁₀  R₀₀⋅R₂₁  R₀₁⋅R₂₀  R₁₀⋅R₂₁  R₁₁⋅R\n",
       "⎢                                                                             \n",
       "⎢R₀₀⋅R₀₁  R₁₀⋅R₁₁  R₂₀⋅R₂₁  R₀₁⋅R₁₀  R₀₀⋅R₁₁  R₀₁⋅R₂₀  R₀₀⋅R₂₁  R₁₁⋅R₂₀  R₁₀⋅R\n",
       "⎢                                                                             \n",
       "⎢R₀₀⋅R₀₂  R₁₀⋅R₁₂  R₂₀⋅R₂₂  R₀₀⋅R₁₂  R₀₂⋅R₁₀  R₀₀⋅R₂₂  R₀₂⋅R₂₀  R₁₀⋅R₂₂  R₁₂⋅R\n",
       "⎢                                                                             \n",
       "⎢R₀₀⋅R₀₂  R₁₀⋅R₁₂  R₂₀⋅R₂₂  R₀₂⋅R₁₀  R₀₀⋅R₁₂  R₀₂⋅R₂₀  R₀₀⋅R₂₂  R₁₂⋅R₂₀  R₁₀⋅R\n",
       "⎢                                                                             \n",
       "⎢R₀₁⋅R₀₂  R₁₁⋅R₁₂  R₂₁⋅R₂₂  R₀₁⋅R₁₂  R₀₂⋅R₁₁  R₀₁⋅R₂₂  R₀₂⋅R₂₁  R₁₁⋅R₂₂  R₁₂⋅R\n",
       "⎢                                                                             \n",
       "⎣R₀₁⋅R₀₂  R₁₁⋅R₁₂  R₂₁⋅R₂₂  R₀₂⋅R₁₁  R₀₁⋅R₁₂  R₀₂⋅R₂₁  R₀₁⋅R₂₂  R₁₂⋅R₂₁  R₁₁⋅R\n",
       "\n",
       "  ⎤\n",
       "₂₀⎥\n",
       "  ⎥\n",
       "  ⎥\n",
       "₂₁⎥\n",
       "  ⎥\n",
       "  ⎥\n",
       "₂₂⎥\n",
       "  ⎥\n",
       "₂₀⎥\n",
       "  ⎥\n",
       "₂₁⎥\n",
       "  ⎥\n",
       "₂₀⎥\n",
       "  ⎥\n",
       "₂₂⎥\n",
       "  ⎥\n",
       "₂₁⎥\n",
       "  ⎥\n",
       "₂₂⎦"
      ]
     },
     "execution_count": 30,
     "metadata": {},
     "output_type": "execute_result"
    }
   ],
   "source": [
    "FourthOrderTensor().from_operator(rotation).as_unsym()"
   ]
  },
  {
   "cell_type": "markdown",
   "metadata": {},
   "source": [
    "In 2-d, the rotation matrix can also be directly expressed by the `theta` variable."
   ]
  },
  {
   "cell_type": "code",
   "execution_count": 32,
   "metadata": {},
   "outputs": [
    {
     "data": {
      "text/latex": [
       "$\\displaystyle \\left[\\begin{matrix}\\cos^{2}{\\left(\\theta \\right)} & \\sin^{2}{\\left(\\theta \\right)} & \\sqrt{2} \\sin{\\left(\\theta \\right)} \\cos{\\left(\\theta \\right)}\\\\\\sin^{2}{\\left(\\theta \\right)} & \\cos^{2}{\\left(\\theta \\right)} & - \\sqrt{2} \\sin{\\left(\\theta \\right)} \\cos{\\left(\\theta \\right)}\\\\- \\sqrt{2} \\sin{\\left(\\theta \\right)} \\cos{\\left(\\theta \\right)} & \\sqrt{2} \\sin{\\left(\\theta \\right)} \\cos{\\left(\\theta \\right)} & 2 \\cos^{2}{\\left(\\theta \\right)} - 1\\end{matrix}\\right]$"
      ],
      "text/plain": [
       "⎡        2                 2                           ⎤\n",
       "⎢     cos (θ)           sin (θ)       √2⋅sin(θ)⋅cos(θ) ⎥\n",
       "⎢                                                      ⎥\n",
       "⎢        2                 2                           ⎥\n",
       "⎢     sin (θ)           cos (θ)       -√2⋅sin(θ)⋅cos(θ)⎥\n",
       "⎢                                                      ⎥\n",
       "⎢                                            2         ⎥\n",
       "⎣-√2⋅sin(θ)⋅cos(θ)  √2⋅sin(θ)⋅cos(θ)    2⋅cos (θ) - 1  ⎦"
      ]
     },
     "execution_count": 32,
     "metadata": {},
     "output_type": "execute_result"
    }
   ],
   "source": [
    "def rotation(x):\n",
    "    assert x.shape[0] == 2\n",
    "    theta = sympy.symbols(\"theta\")\n",
    "    sin = sympy.sin(theta)\n",
    "    cos = sympy.cos(theta)\n",
    "    r = sympy.Matrix([[cos, -sin], [sin, cos]])\n",
    "    return r.T * x * r\n",
    "\n",
    "\n",
    "sympy.expand_trig(FourthOrderTensor(dim=2).from_operator(rotation).as_mandel())"
   ]
  },
  {
   "cell_type": "markdown",
   "metadata": {},
   "source": [
    "### Acoustic tensor\n",
    "\n",
    "Given a unit vector $\\mathbf{n}$ in $\\mathbb{R}^d$ and the fourth-order stiffness tensor $\\mathbb{C}$, the following second-order acoustic tensor $\\mathbf{A}$ can be defined\n",
    "\n",
    "$$\n",
    "A_{ik}=\\sum_{j=1}^d\\sum_{l=1}^d n_j\\cdot C_{ijkl}\\cdot n_l.\n",
    "$$\n",
    "\n",
    "This acoustic tensor can also be regarded as the output of a fourth-order tensor $\\mathbb{A}$ operating on the second-order tensor $\\mathbf{n}\\otimes\\mathbf{n}$.\n",
    "\n",
    "$$\n",
    "\\mathbb{A}:\\mathbf{n}\\otimes\\mathbf{n}\\mapsto \\mathbf{A},\\quad A_{ik}=\\sum_{j=1}^d\\sum_{l=1}^d C_{ijkl}\\cdot n_jn_l.\n",
    "$$"
   ]
  },
  {
   "cell_type": "markdown",
   "metadata": {},
   "source": [
    "Assume that the stiffness tensor has major symmetry (for instance, under linear elasticity). It can thus be represented by Mandel notation."
   ]
  },
  {
   "cell_type": "code",
   "execution_count": 47,
   "metadata": {},
   "outputs": [
    {
     "data": {
      "text/latex": [
       "$\\displaystyle \\left[\\begin{matrix}C_{0, 0} & C_{0, 1} & C_{0, 2} & C_{0, 3} & C_{0, 4} & C_{0, 5}\\\\C_{0, 1} & C_{1, 1} & C_{1, 2} & C_{1, 3} & C_{1, 4} & C_{1, 5}\\\\C_{0, 2} & C_{1, 2} & C_{2, 2} & C_{2, 3} & C_{2, 4} & C_{2, 5}\\\\C_{0, 3} & C_{1, 3} & C_{2, 3} & C_{3, 3} & C_{3, 4} & C_{3, 5}\\\\C_{0, 4} & C_{1, 4} & C_{2, 4} & C_{3, 4} & C_{4, 4} & C_{4, 5}\\\\C_{0, 5} & C_{1, 5} & C_{2, 5} & C_{3, 5} & C_{4, 5} & C_{5, 5}\\end{matrix}\\right]$"
      ],
      "text/plain": [
       "⎡C₀₀  C₀₁  C₀₂  C₀₃  C₀₄  C₀₅⎤\n",
       "⎢                            ⎥\n",
       "⎢C₀₁  C₁₁  C₁₂  C₁₃  C₁₄  C₁₅⎥\n",
       "⎢                            ⎥\n",
       "⎢C₀₂  C₁₂  C₂₂  C₂₃  C₂₄  C₂₅⎥\n",
       "⎢                            ⎥\n",
       "⎢C₀₃  C₁₃  C₂₃  C₃₃  C₃₄  C₃₅⎥\n",
       "⎢                            ⎥\n",
       "⎢C₀₄  C₁₄  C₂₄  C₃₄  C₄₄  C₄₅⎥\n",
       "⎢                            ⎥\n",
       "⎣C₀₅  C₁₅  C₂₅  C₃₅  C₄₅  C₅₅⎦"
      ]
     },
     "execution_count": 47,
     "metadata": {},
     "output_type": "execute_result"
    }
   ],
   "source": [
    "C = sympy.Matrix(sympy.MatrixSymbol(\"C\", 6, 6))\n",
    "for i in range(C.shape[0]):\n",
    "    for j in range(i):\n",
    "        C[i, j] = C[j, i]\n",
    "C = FourthOrderTensor().from_mandel(C)\n",
    "C.as_mandel()"
   ]
  },
  {
   "cell_type": "markdown",
   "metadata": {},
   "source": [
    "The fourth-order tensor $\\mathbb{A}$ can be defined as follows."
   ]
  },
  {
   "cell_type": "code",
   "execution_count": 48,
   "metadata": {},
   "outputs": [],
   "source": [
    "def acoustic_tensor(n_n):\n",
    "    C_array = C.as_array()\n",
    "    dim = 3\n",
    "    A = sympy.zeros(dim)\n",
    "    for i in range(dim):\n",
    "        for k in range(dim):\n",
    "            for j in range(dim):\n",
    "                for l in range(dim):\n",
    "                    A[i, k] += C_array[i, j, k, l] * n_n[j, l]\n",
    "    return A"
   ]
  },
  {
   "cell_type": "markdown",
   "metadata": {},
   "source": [
    "Its Mandel representation can be computed easily via `as_mandel`."
   ]
  },
  {
   "cell_type": "code",
   "execution_count": 50,
   "metadata": {},
   "outputs": [
    {
     "data": {
      "text/latex": [
       "$\\displaystyle \\left[\\begin{matrix}C_{0, 0} & \\frac{C_{3, 3}}{2} & \\frac{C_{4, 4}}{2} & C_{0, 3} & C_{0, 4} & \\frac{\\sqrt{2} C_{3, 4}}{2}\\\\\\frac{C_{3, 3}}{2} & C_{1, 1} & \\frac{C_{5, 5}}{2} & C_{1, 3} & \\frac{\\sqrt{2} C_{3, 5}}{2} & C_{1, 5}\\\\\\frac{C_{4, 4}}{2} & \\frac{C_{5, 5}}{2} & C_{2, 2} & \\frac{\\sqrt{2} C_{4, 5}}{2} & C_{2, 4} & C_{2, 5}\\\\C_{0, 3} & C_{1, 3} & \\frac{\\sqrt{2} C_{4, 5}}{2} & C_{0, 1} + \\frac{C_{3, 3}}{2} & \\frac{\\sqrt{2} C_{0, 5}}{2} + \\frac{C_{3, 4}}{2} & \\frac{\\sqrt{2} C_{1, 4}}{2} + \\frac{C_{3, 5}}{2}\\\\C_{0, 4} & \\frac{\\sqrt{2} C_{3, 5}}{2} & C_{2, 4} & \\frac{\\sqrt{2} C_{0, 5}}{2} + \\frac{C_{3, 4}}{2} & C_{0, 2} + \\frac{C_{4, 4}}{2} & \\frac{\\sqrt{2} C_{2, 3}}{2} + \\frac{C_{4, 5}}{2}\\\\\\frac{\\sqrt{2} C_{3, 4}}{2} & C_{1, 5} & C_{2, 5} & \\frac{\\sqrt{2} C_{1, 4}}{2} + \\frac{C_{3, 5}}{2} & \\frac{\\sqrt{2} C_{2, 3}}{2} + \\frac{C_{4, 5}}{2} & C_{1, 2} + \\frac{C_{5, 5}}{2}\\end{matrix}\\right]$"
      ],
      "text/plain": [
       "⎡         C₃₃     C₄₄                                   √2⋅C₃₄   ⎤\n",
       "⎢ C₀₀     ───     ───        C₀₃           C₀₄          ──────   ⎥\n",
       "⎢          2       2                                      2      ⎥\n",
       "⎢                                                                ⎥\n",
       "⎢ C₃₃             C₅₅                     √2⋅C₃₅                 ⎥\n",
       "⎢ ───     C₁₁     ───        C₁₃          ──────         C₁₅     ⎥\n",
       "⎢  2               2                        2                    ⎥\n",
       "⎢                                                                ⎥\n",
       "⎢ C₄₄     C₅₅               √2⋅C₄₅                               ⎥\n",
       "⎢ ───     ───     C₂₂       ──────         C₂₄           C₂₅     ⎥\n",
       "⎢  2       2                  2                                  ⎥\n",
       "⎢                                                                ⎥\n",
       "⎢                √2⋅C₄₅         C₃₃    √2⋅C₀₅   C₃₄  √2⋅C₁₄   C₃₅⎥\n",
       "⎢ C₀₃     C₁₃    ──────   C₀₁ + ───    ────── + ───  ────── + ───⎥\n",
       "⎢                  2             2       2       2     2       2 ⎥\n",
       "⎢                                                                ⎥\n",
       "⎢        √2⋅C₃₅          √2⋅C₀₅   C₃₄         C₄₄    √2⋅C₂₃   C₄₅⎥\n",
       "⎢ C₀₄    ──────   C₂₄    ────── + ───   C₀₂ + ───    ────── + ───⎥\n",
       "⎢          2               2       2           2       2       2 ⎥\n",
       "⎢                                                                ⎥\n",
       "⎢√2⋅C₃₄                  √2⋅C₁₄   C₃₅  √2⋅C₂₃   C₄₅         C₅₅  ⎥\n",
       "⎢──────   C₁₅     C₂₅    ────── + ───  ────── + ───   C₁₂ + ───  ⎥\n",
       "⎣  2                       2       2     2       2           2   ⎦"
      ]
     },
     "execution_count": 50,
     "metadata": {},
     "output_type": "execute_result"
    }
   ],
   "source": [
    "A = FourthOrderTensor().from_operator(acoustic_tensor)\n",
    "A.as_mandel()"
   ]
  },
  {
   "cell_type": "markdown",
   "metadata": {},
   "source": [
    "To compute the actual acoustic tensor, we need to define the second-order tensor $\\mathbf{n}\\otimes\\mathbf{n}$ as the outer product of $\\mathbf{n}$."
   ]
  },
  {
   "cell_type": "code",
   "execution_count": 7,
   "metadata": {},
   "outputs": [
    {
     "data": {
      "text/latex": [
       "$\\displaystyle \\left[\\begin{matrix}{n}_{0}^{2}\\\\{n}_{1}^{2}\\\\{n}_{2}^{2}\\\\\\sqrt{2} {n}_{0} {n}_{1}\\\\\\sqrt{2} {n}_{0} {n}_{2}\\\\\\sqrt{2} {n}_{1} {n}_{2}\\end{matrix}\\right]$"
      ],
      "text/plain": [
       "⎡       2    ⎤\n",
       "⎢   n[0]     ⎥\n",
       "⎢            ⎥\n",
       "⎢       2    ⎥\n",
       "⎢   n[1]     ⎥\n",
       "⎢            ⎥\n",
       "⎢       2    ⎥\n",
       "⎢   n[2]     ⎥\n",
       "⎢            ⎥\n",
       "⎢√2⋅n[0]⋅n[1]⎥\n",
       "⎢            ⎥\n",
       "⎢√2⋅n[0]⋅n[2]⎥\n",
       "⎢            ⎥\n",
       "⎣√2⋅n[1]⋅n[2]⎦"
      ]
     },
     "execution_count": 7,
     "metadata": {},
     "output_type": "execute_result"
    }
   ],
   "source": [
    "n = sympy.IndexedBase(\"n\")\n",
    "n = sympy.Matrix([n[i] for i in range(3)])\n",
    "n_n = n * n.T\n",
    "n_n = SecondOrderTensor().from_array(n_n)\n",
    "n_n.as_mandel()"
   ]
  },
  {
   "cell_type": "markdown",
   "metadata": {},
   "source": [
    "The acoustic tensor can be obtained by performing matrix-vector multiplication between the Mandel representation of $\\mathbb{A}$ and that of $\\mathbf{n}\\otimes\\mathbf{n}$."
   ]
  },
  {
   "cell_type": "code",
   "execution_count": 52,
   "metadata": {},
   "outputs": [
    {
     "data": {
      "text/latex": [
       "$\\displaystyle \\left[\\begin{matrix}{n}_{0}^{2} C_{0, 0} + \\sqrt{2} {n}_{0} {n}_{1} C_{0, 3} + \\sqrt{2} {n}_{0} {n}_{2} C_{0, 4} + \\frac{{n}_{1}^{2} C_{3, 3}}{2} + {n}_{1} {n}_{2} C_{3, 4} + \\frac{{n}_{2}^{2} C_{4, 4}}{2}\\\\\\frac{{n}_{0}^{2} C_{3, 3}}{2} + \\sqrt{2} {n}_{0} {n}_{1} C_{1, 3} + {n}_{0} {n}_{2} C_{3, 5} + {n}_{1}^{2} C_{1, 1} + \\sqrt{2} {n}_{1} {n}_{2} C_{1, 5} + \\frac{{n}_{2}^{2} C_{5, 5}}{2}\\\\\\frac{{n}_{0}^{2} C_{4, 4}}{2} + {n}_{0} {n}_{1} C_{4, 5} + \\sqrt{2} {n}_{0} {n}_{2} C_{2, 4} + \\frac{{n}_{1}^{2} C_{5, 5}}{2} + \\sqrt{2} {n}_{1} {n}_{2} C_{2, 5} + {n}_{2}^{2} C_{2, 2}\\\\\\frac{\\sqrt{2} \\left(\\sqrt{2} C_{0, 5} + C_{3, 4}\\right) {n}_{0} {n}_{2}}{2} + \\frac{\\sqrt{2} \\left(\\sqrt{2} C_{1, 4} + C_{3, 5}\\right) {n}_{1} {n}_{2}}{2} + \\frac{\\sqrt{2} \\cdot \\left(2 C_{0, 1} + C_{3, 3}\\right) {n}_{0} {n}_{1}}{2} + {n}_{0}^{2} C_{0, 3} + {n}_{1}^{2} C_{1, 3} + \\frac{\\sqrt{2} {n}_{2}^{2} C_{4, 5}}{2}\\\\\\frac{\\sqrt{2} \\left(\\sqrt{2} C_{0, 5} + C_{3, 4}\\right) {n}_{0} {n}_{1}}{2} + \\frac{\\sqrt{2} \\left(\\sqrt{2} C_{2, 3} + C_{4, 5}\\right) {n}_{1} {n}_{2}}{2} + \\frac{\\sqrt{2} \\cdot \\left(2 C_{0, 2} + C_{4, 4}\\right) {n}_{0} {n}_{2}}{2} + {n}_{0}^{2} C_{0, 4} + \\frac{\\sqrt{2} {n}_{1}^{2} C_{3, 5}}{2} + {n}_{2}^{2} C_{2, 4}\\\\\\frac{\\sqrt{2} \\left(\\sqrt{2} C_{1, 4} + C_{3, 5}\\right) {n}_{0} {n}_{1}}{2} + \\frac{\\sqrt{2} \\left(\\sqrt{2} C_{2, 3} + C_{4, 5}\\right) {n}_{0} {n}_{2}}{2} + \\frac{\\sqrt{2} \\cdot \\left(2 C_{1, 2} + C_{5, 5}\\right) {n}_{1} {n}_{2}}{2} + \\frac{\\sqrt{2} {n}_{0}^{2} C_{3, 4}}{2} + {n}_{1}^{2} C_{1, 5} + {n}_{2}^{2} C_{2, 5}\\end{matrix}\\right]$"
      ],
      "text/plain": [
       "⎡                                                                         2   \n",
       "⎢                       2                                             n[1] ⋅C₃\n",
       "⎢                   n[0] ⋅C₀₀ + √2⋅n[0]⋅n[1]⋅C₀₃ + √2⋅n[0]⋅n[2]⋅C₀₄ + ────────\n",
       "⎢                                                                         2   \n",
       "⎢                                                                             \n",
       "⎢                       2                                                     \n",
       "⎢                   n[0] ⋅C₃₃                                          2      \n",
       "⎢                   ───────── + √2⋅n[0]⋅n[1]⋅C₁₃ + n[0]⋅n[2]⋅C₃₅ + n[1] ⋅C₁₁ +\n",
       "⎢                       2                                                     \n",
       "⎢                                                                             \n",
       "⎢                       2                                              2      \n",
       "⎢                   n[0] ⋅C₄₄                                      n[1] ⋅C₅₅  \n",
       "⎢                   ───────── + n[0]⋅n[1]⋅C₄₅ + √2⋅n[0]⋅n[2]⋅C₂₄ + ───────── +\n",
       "⎢                       2                                              2      \n",
       "⎢                                                                             \n",
       "⎢                                                                             \n",
       "⎢√2⋅(√2⋅C₀₅ + C₃₄)⋅n[0]⋅n[2]   √2⋅(√2⋅C₁₄ + C₃₅)⋅n[1]⋅n[2]   √2⋅(2⋅C₀₁ + C₃₃)⋅\n",
       "⎢─────────────────────────── + ─────────────────────────── + ─────────────────\n",
       "⎢             2                             2                            2    \n",
       "⎢                                                                             \n",
       "⎢                                                                             \n",
       "⎢√2⋅(√2⋅C₀₅ + C₃₄)⋅n[0]⋅n[1]   √2⋅(√2⋅C₂₃ + C₄₅)⋅n[1]⋅n[2]   √2⋅(2⋅C₀₂ + C₄₄)⋅\n",
       "⎢─────────────────────────── + ─────────────────────────── + ─────────────────\n",
       "⎢             2                             2                            2    \n",
       "⎢                                                                             \n",
       "⎢                                                                             \n",
       "⎢√2⋅(√2⋅C₁₄ + C₃₅)⋅n[0]⋅n[1]   √2⋅(√2⋅C₂₃ + C₄₅)⋅n[0]⋅n[2]   √2⋅(2⋅C₁₂ + C₅₅)⋅\n",
       "⎢─────────────────────────── + ─────────────────────────── + ─────────────────\n",
       "⎣             2                             2                            2    \n",
       "\n",
       "                        2                       ⎤\n",
       "₃                   n[2] ⋅C₄₄                   ⎥\n",
       "─ + n[1]⋅n[2]⋅C₃₄ + ─────────                   ⎥\n",
       "                        2                       ⎥\n",
       "                                                ⎥\n",
       "                        2                       ⎥\n",
       "                    n[2] ⋅C₅₅                   ⎥\n",
       " √2⋅n[1]⋅n[2]⋅C₁₅ + ─────────                   ⎥\n",
       "                        2                       ⎥\n",
       "                                                ⎥\n",
       "                                                ⎥\n",
       "                        2                       ⎥\n",
       " √2⋅n[1]⋅n[2]⋅C₂₅ + n[2] ⋅C₂₂                   ⎥\n",
       "                                                ⎥\n",
       "                                                ⎥\n",
       "                                           2    ⎥\n",
       "n[0]⋅n[1]       2           2       √2⋅n[2] ⋅C₄₅⎥\n",
       "───────── + n[0] ⋅C₀₃ + n[1] ⋅C₁₃ + ────────────⎥\n",
       "                                         2      ⎥\n",
       "                                                ⎥\n",
       "                               2                ⎥\n",
       "n[0]⋅n[2]       2       √2⋅n[1] ⋅C₃₅       2    ⎥\n",
       "───────── + n[0] ⋅C₀₄ + ──────────── + n[2] ⋅C₂₄⎥\n",
       "                             2                  ⎥\n",
       "                                                ⎥\n",
       "                   2                            ⎥\n",
       "n[1]⋅n[2]   √2⋅n[0] ⋅C₃₄       2           2    ⎥\n",
       "───────── + ──────────── + n[1] ⋅C₁₅ + n[2] ⋅C₂₅⎥\n",
       "                 2                              ⎦"
      ]
     },
     "execution_count": 52,
     "metadata": {},
     "output_type": "execute_result"
    }
   ],
   "source": [
    "sympy.simplify(A.as_mandel() * n_n.as_mandel())"
   ]
  },
  {
   "cell_type": "markdown",
   "metadata": {},
   "source": [
    "In the isotropic case, the previous `linear_elastic` operator can be used."
   ]
  },
  {
   "cell_type": "code",
   "execution_count": 4,
   "metadata": {},
   "outputs": [],
   "source": [
    "def acoustic_tensor_isotropic(n_n):\n",
    "    C_array = FourthOrderTensor().from_operator(linear_elastic).as_array()\n",
    "    dim = 3\n",
    "    A = sympy.zeros(dim)\n",
    "    for i in range(dim):\n",
    "        for k in range(dim):\n",
    "            for j in range(dim):\n",
    "                for l in range(dim):\n",
    "                    A[i, k] += C_array[i, j, k, l] * n_n[j, l]\n",
    "    return A"
   ]
  },
  {
   "cell_type": "code",
   "execution_count": 5,
   "metadata": {},
   "outputs": [
    {
     "data": {
      "text/latex": [
       "$\\displaystyle \\left[\\begin{matrix}\\lambda + 2 \\mu & \\mu & \\mu & 0 & 0 & 0\\\\\\mu & \\lambda + 2 \\mu & \\mu & 0 & 0 & 0\\\\\\mu & \\mu & \\lambda + 2 \\mu & 0 & 0 & 0\\\\0 & 0 & 0 & \\lambda + \\mu & 0 & 0\\\\0 & 0 & 0 & 0 & \\lambda + \\mu & 0\\\\0 & 0 & 0 & 0 & 0 & \\lambda + \\mu\\end{matrix}\\right]$"
      ],
      "text/plain": [
       "⎡λ + 2⋅μ     μ        μ       0      0      0  ⎤\n",
       "⎢                                              ⎥\n",
       "⎢   μ     λ + 2⋅μ     μ       0      0      0  ⎥\n",
       "⎢                                              ⎥\n",
       "⎢   μ        μ     λ + 2⋅μ    0      0      0  ⎥\n",
       "⎢                                              ⎥\n",
       "⎢   0        0        0     λ + μ    0      0  ⎥\n",
       "⎢                                              ⎥\n",
       "⎢   0        0        0       0    λ + μ    0  ⎥\n",
       "⎢                                              ⎥\n",
       "⎣   0        0        0       0      0    λ + μ⎦"
      ]
     },
     "execution_count": 5,
     "metadata": {},
     "output_type": "execute_result"
    }
   ],
   "source": [
    "A = FourthOrderTensor().from_operator(acoustic_tensor_isotropic)\n",
    "A.as_mandel()"
   ]
  },
  {
   "cell_type": "code",
   "execution_count": 8,
   "metadata": {},
   "outputs": [
    {
     "data": {
      "text/latex": [
       "$\\displaystyle \\left[\\begin{matrix}\\mu {n}_{1}^{2} + \\mu {n}_{2}^{2} + \\left(\\lambda + 2 \\mu\\right) {n}_{0}^{2}\\\\\\mu {n}_{0}^{2} + \\mu {n}_{2}^{2} + \\left(\\lambda + 2 \\mu\\right) {n}_{1}^{2}\\\\\\mu {n}_{0}^{2} + \\mu {n}_{1}^{2} + \\left(\\lambda + 2 \\mu\\right) {n}_{2}^{2}\\\\\\sqrt{2} \\left(\\lambda + \\mu\\right) {n}_{0} {n}_{1}\\\\\\sqrt{2} \\left(\\lambda + \\mu\\right) {n}_{0} {n}_{2}\\\\\\sqrt{2} \\left(\\lambda + \\mu\\right) {n}_{1} {n}_{2}\\end{matrix}\\right]$"
      ],
      "text/plain": [
       "⎡      2         2                 2⎤\n",
       "⎢μ⋅n[1]  + μ⋅n[2]  + (λ + 2⋅μ)⋅n[0] ⎥\n",
       "⎢                                   ⎥\n",
       "⎢      2         2                 2⎥\n",
       "⎢μ⋅n[0]  + μ⋅n[2]  + (λ + 2⋅μ)⋅n[1] ⎥\n",
       "⎢                                   ⎥\n",
       "⎢      2         2                 2⎥\n",
       "⎢μ⋅n[0]  + μ⋅n[1]  + (λ + 2⋅μ)⋅n[2] ⎥\n",
       "⎢                                   ⎥\n",
       "⎢       √2⋅(λ + μ)⋅n[0]⋅n[1]        ⎥\n",
       "⎢                                   ⎥\n",
       "⎢       √2⋅(λ + μ)⋅n[0]⋅n[2]        ⎥\n",
       "⎢                                   ⎥\n",
       "⎣       √2⋅(λ + μ)⋅n[1]⋅n[2]        ⎦"
      ]
     },
     "execution_count": 8,
     "metadata": {},
     "output_type": "execute_result"
    }
   ],
   "source": [
    "sympy.simplify(A.as_mandel() * n_n.as_mandel())"
   ]
  },
  {
   "cell_type": "markdown",
   "metadata": {},
   "source": [
    "The same procedure can be repeated for unsymmetric stiffness tensors, for instance for finite-strain applications."
   ]
  },
  {
   "cell_type": "code",
   "execution_count": 46,
   "metadata": {},
   "outputs": [],
   "source": [
    "C = sympy.Matrix(sympy.MatrixSymbol(\"C\", 9, 9))\n",
    "C = FourthOrderTensor().from_unsym(C)\n",
    "\n",
    "\n",
    "def acoustic_tensor(n_n):\n",
    "    C_array = C.as_array()\n",
    "    dim = 3\n",
    "    A = sympy.zeros(dim)\n",
    "    for i in range(dim):\n",
    "        for k in range(dim):\n",
    "            for j in range(dim):\n",
    "                for l in range(dim):\n",
    "                    A[i, k] += C_array[i, j, k, l] * n_n[j, l]\n",
    "    return A"
   ]
  },
  {
   "cell_type": "code",
   "execution_count": 47,
   "metadata": {},
   "outputs": [
    {
     "data": {
      "text/latex": [
       "$\\displaystyle \\left[\\begin{matrix}C_{0, 0} & C_{3, 3} & C_{5, 5} & C_{0, 3} & C_{3, 0} & C_{0, 5} & C_{5, 0} & C_{3, 5} & C_{5, 3}\\\\C_{4, 4} & C_{1, 1} & C_{7, 7} & C_{4, 1} & C_{1, 4} & C_{4, 7} & C_{7, 4} & C_{1, 7} & C_{7, 1}\\\\C_{6, 6} & C_{8, 8} & C_{2, 2} & C_{6, 8} & C_{8, 6} & C_{6, 2} & C_{2, 6} & C_{8, 2} & C_{2, 8}\\\\C_{0, 4} & C_{3, 1} & C_{5, 7} & C_{0, 1} & C_{3, 4} & C_{0, 7} & C_{5, 4} & C_{3, 7} & C_{5, 1}\\\\C_{4, 0} & C_{1, 3} & C_{7, 5} & C_{4, 3} & C_{1, 0} & C_{4, 5} & C_{7, 0} & C_{1, 5} & C_{7, 3}\\\\C_{0, 6} & C_{3, 8} & C_{5, 2} & C_{0, 8} & C_{3, 6} & C_{0, 2} & C_{5, 6} & C_{3, 2} & C_{5, 8}\\\\C_{6, 0} & C_{8, 3} & C_{2, 5} & C_{6, 3} & C_{8, 0} & C_{6, 5} & C_{2, 0} & C_{8, 5} & C_{2, 3}\\\\C_{4, 6} & C_{1, 8} & C_{7, 2} & C_{4, 8} & C_{1, 6} & C_{4, 2} & C_{7, 6} & C_{1, 2} & C_{7, 8}\\\\C_{6, 4} & C_{8, 1} & C_{2, 7} & C_{6, 1} & C_{8, 4} & C_{6, 7} & C_{2, 4} & C_{8, 7} & C_{2, 1}\\end{matrix}\\right]$"
      ],
      "text/plain": [
       "⎡C₀₀  C₃₃  C₅₅  C₀₃  C₃₀  C₀₅  C₅₀  C₃₅  C₅₃⎤\n",
       "⎢                                           ⎥\n",
       "⎢C₄₄  C₁₁  C₇₇  C₄₁  C₁₄  C₄₇  C₇₄  C₁₇  C₇₁⎥\n",
       "⎢                                           ⎥\n",
       "⎢C₆₆  C₈₈  C₂₂  C₆₈  C₈₆  C₆₂  C₂₆  C₈₂  C₂₈⎥\n",
       "⎢                                           ⎥\n",
       "⎢C₀₄  C₃₁  C₅₇  C₀₁  C₃₄  C₀₇  C₅₄  C₃₇  C₅₁⎥\n",
       "⎢                                           ⎥\n",
       "⎢C₄₀  C₁₃  C₇₅  C₄₃  C₁₀  C₄₅  C₇₀  C₁₅  C₇₃⎥\n",
       "⎢                                           ⎥\n",
       "⎢C₀₆  C₃₈  C₅₂  C₀₈  C₃₆  C₀₂  C₅₆  C₃₂  C₅₈⎥\n",
       "⎢                                           ⎥\n",
       "⎢C₆₀  C₈₃  C₂₅  C₆₃  C₈₀  C₆₅  C₂₀  C₈₅  C₂₃⎥\n",
       "⎢                                           ⎥\n",
       "⎢C₄₆  C₁₈  C₇₂  C₄₈  C₁₆  C₄₂  C₇₆  C₁₂  C₇₈⎥\n",
       "⎢                                           ⎥\n",
       "⎣C₆₄  C₈₁  C₂₇  C₆₁  C₈₄  C₆₇  C₂₄  C₈₇  C₂₁⎦"
      ]
     },
     "execution_count": 47,
     "metadata": {},
     "output_type": "execute_result"
    }
   ],
   "source": [
    "A = FourthOrderTensor().from_operator(acoustic_tensor)\n",
    "A.as_unsym()"
   ]
  },
  {
   "cell_type": "code",
   "execution_count": 48,
   "metadata": {},
   "outputs": [
    {
     "data": {
      "text/latex": [
       "$\\displaystyle \\left[\\begin{matrix}{n}_{0}^{2} C_{0, 0} + {n}_{0} {n}_{1} C_{0, 3} + {n}_{0} {n}_{1} C_{3, 0} + {n}_{0} {n}_{2} C_{0, 5} + {n}_{0} {n}_{2} C_{5, 0} + {n}_{1}^{2} C_{3, 3} + {n}_{1} {n}_{2} C_{3, 5} + {n}_{1} {n}_{2} C_{5, 3} + {n}_{2}^{2} C_{5, 5}\\\\{n}_{0}^{2} C_{4, 4} + {n}_{0} {n}_{1} C_{1, 4} + {n}_{0} {n}_{1} C_{4, 1} + {n}_{0} {n}_{2} C_{4, 7} + {n}_{0} {n}_{2} C_{7, 4} + {n}_{1}^{2} C_{1, 1} + {n}_{1} {n}_{2} C_{1, 7} + {n}_{1} {n}_{2} C_{7, 1} + {n}_{2}^{2} C_{7, 7}\\\\{n}_{0}^{2} C_{6, 6} + {n}_{0} {n}_{1} C_{6, 8} + {n}_{0} {n}_{1} C_{8, 6} + {n}_{0} {n}_{2} C_{2, 6} + {n}_{0} {n}_{2} C_{6, 2} + {n}_{1}^{2} C_{8, 8} + {n}_{1} {n}_{2} C_{2, 8} + {n}_{1} {n}_{2} C_{8, 2} + {n}_{2}^{2} C_{2, 2}\\\\{n}_{0}^{2} C_{0, 4} + {n}_{0} {n}_{1} C_{0, 1} + {n}_{0} {n}_{1} C_{3, 4} + {n}_{0} {n}_{2} C_{0, 7} + {n}_{0} {n}_{2} C_{5, 4} + {n}_{1}^{2} C_{3, 1} + {n}_{1} {n}_{2} C_{3, 7} + {n}_{1} {n}_{2} C_{5, 1} + {n}_{2}^{2} C_{5, 7}\\\\{n}_{0}^{2} C_{4, 0} + {n}_{0} {n}_{1} C_{1, 0} + {n}_{0} {n}_{1} C_{4, 3} + {n}_{0} {n}_{2} C_{4, 5} + {n}_{0} {n}_{2} C_{7, 0} + {n}_{1}^{2} C_{1, 3} + {n}_{1} {n}_{2} C_{1, 5} + {n}_{1} {n}_{2} C_{7, 3} + {n}_{2}^{2} C_{7, 5}\\\\{n}_{0}^{2} C_{0, 6} + {n}_{0} {n}_{1} C_{0, 8} + {n}_{0} {n}_{1} C_{3, 6} + {n}_{0} {n}_{2} C_{0, 2} + {n}_{0} {n}_{2} C_{5, 6} + {n}_{1}^{2} C_{3, 8} + {n}_{1} {n}_{2} C_{3, 2} + {n}_{1} {n}_{2} C_{5, 8} + {n}_{2}^{2} C_{5, 2}\\\\{n}_{0}^{2} C_{6, 0} + {n}_{0} {n}_{1} C_{6, 3} + {n}_{0} {n}_{1} C_{8, 0} + {n}_{0} {n}_{2} C_{2, 0} + {n}_{0} {n}_{2} C_{6, 5} + {n}_{1}^{2} C_{8, 3} + {n}_{1} {n}_{2} C_{2, 3} + {n}_{1} {n}_{2} C_{8, 5} + {n}_{2}^{2} C_{2, 5}\\\\{n}_{0}^{2} C_{4, 6} + {n}_{0} {n}_{1} C_{1, 6} + {n}_{0} {n}_{1} C_{4, 8} + {n}_{0} {n}_{2} C_{4, 2} + {n}_{0} {n}_{2} C_{7, 6} + {n}_{1}^{2} C_{1, 8} + {n}_{1} {n}_{2} C_{1, 2} + {n}_{1} {n}_{2} C_{7, 8} + {n}_{2}^{2} C_{7, 2}\\\\{n}_{0}^{2} C_{6, 4} + {n}_{0} {n}_{1} C_{6, 1} + {n}_{0} {n}_{1} C_{8, 4} + {n}_{0} {n}_{2} C_{2, 4} + {n}_{0} {n}_{2} C_{6, 7} + {n}_{1}^{2} C_{8, 1} + {n}_{1} {n}_{2} C_{2, 1} + {n}_{1} {n}_{2} C_{8, 7} + {n}_{2}^{2} C_{2, 7}\\end{matrix}\\right]$"
      ],
      "text/plain": [
       "⎡    2                                                                        \n",
       "⎢n[0] ⋅C₀₀ + n[0]⋅n[1]⋅C₀₃ + n[0]⋅n[1]⋅C₃₀ + n[0]⋅n[2]⋅C₀₅ + n[0]⋅n[2]⋅C₅₀ + n\n",
       "⎢                                                                             \n",
       "⎢    2                                                                        \n",
       "⎢n[0] ⋅C₄₄ + n[0]⋅n[1]⋅C₁₄ + n[0]⋅n[1]⋅C₄₁ + n[0]⋅n[2]⋅C₄₇ + n[0]⋅n[2]⋅C₇₄ + n\n",
       "⎢                                                                             \n",
       "⎢    2                                                                        \n",
       "⎢n[0] ⋅C₆₆ + n[0]⋅n[1]⋅C₆₈ + n[0]⋅n[1]⋅C₈₆ + n[0]⋅n[2]⋅C₂₆ + n[0]⋅n[2]⋅C₆₂ + n\n",
       "⎢                                                                             \n",
       "⎢    2                                                                        \n",
       "⎢n[0] ⋅C₀₄ + n[0]⋅n[1]⋅C₀₁ + n[0]⋅n[1]⋅C₃₄ + n[0]⋅n[2]⋅C₀₇ + n[0]⋅n[2]⋅C₅₄ + n\n",
       "⎢                                                                             \n",
       "⎢    2                                                                        \n",
       "⎢n[0] ⋅C₄₀ + n[0]⋅n[1]⋅C₁₀ + n[0]⋅n[1]⋅C₄₃ + n[0]⋅n[2]⋅C₄₅ + n[0]⋅n[2]⋅C₇₀ + n\n",
       "⎢                                                                             \n",
       "⎢    2                                                                        \n",
       "⎢n[0] ⋅C₀₆ + n[0]⋅n[1]⋅C₀₈ + n[0]⋅n[1]⋅C₃₆ + n[0]⋅n[2]⋅C₀₂ + n[0]⋅n[2]⋅C₅₆ + n\n",
       "⎢                                                                             \n",
       "⎢    2                                                                        \n",
       "⎢n[0] ⋅C₆₀ + n[0]⋅n[1]⋅C₆₃ + n[0]⋅n[1]⋅C₈₀ + n[0]⋅n[2]⋅C₂₀ + n[0]⋅n[2]⋅C₆₅ + n\n",
       "⎢                                                                             \n",
       "⎢    2                                                                        \n",
       "⎢n[0] ⋅C₄₆ + n[0]⋅n[1]⋅C₁₆ + n[0]⋅n[1]⋅C₄₈ + n[0]⋅n[2]⋅C₄₂ + n[0]⋅n[2]⋅C₇₆ + n\n",
       "⎢                                                                             \n",
       "⎢    2                                                                        \n",
       "⎣n[0] ⋅C₆₄ + n[0]⋅n[1]⋅C₆₁ + n[0]⋅n[1]⋅C₈₄ + n[0]⋅n[2]⋅C₂₄ + n[0]⋅n[2]⋅C₆₇ + n\n",
       "\n",
       "   2                                           2    ⎤\n",
       "[1] ⋅C₃₃ + n[1]⋅n[2]⋅C₃₅ + n[1]⋅n[2]⋅C₅₃ + n[2] ⋅C₅₅⎥\n",
       "                                                    ⎥\n",
       "   2                                           2    ⎥\n",
       "[1] ⋅C₁₁ + n[1]⋅n[2]⋅C₁₇ + n[1]⋅n[2]⋅C₇₁ + n[2] ⋅C₇₇⎥\n",
       "                                                    ⎥\n",
       "   2                                           2    ⎥\n",
       "[1] ⋅C₈₈ + n[1]⋅n[2]⋅C₂₈ + n[1]⋅n[2]⋅C₈₂ + n[2] ⋅C₂₂⎥\n",
       "                                                    ⎥\n",
       "   2                                           2    ⎥\n",
       "[1] ⋅C₃₁ + n[1]⋅n[2]⋅C₃₇ + n[1]⋅n[2]⋅C₅₁ + n[2] ⋅C₅₇⎥\n",
       "                                                    ⎥\n",
       "   2                                           2    ⎥\n",
       "[1] ⋅C₁₃ + n[1]⋅n[2]⋅C₁₅ + n[1]⋅n[2]⋅C₇₃ + n[2] ⋅C₇₅⎥\n",
       "                                                    ⎥\n",
       "   2                                           2    ⎥\n",
       "[1] ⋅C₃₈ + n[1]⋅n[2]⋅C₃₂ + n[1]⋅n[2]⋅C₅₈ + n[2] ⋅C₅₂⎥\n",
       "                                                    ⎥\n",
       "   2                                           2    ⎥\n",
       "[1] ⋅C₈₃ + n[1]⋅n[2]⋅C₂₃ + n[1]⋅n[2]⋅C₈₅ + n[2] ⋅C₂₅⎥\n",
       "                                                    ⎥\n",
       "   2                                           2    ⎥\n",
       "[1] ⋅C₁₈ + n[1]⋅n[2]⋅C₁₂ + n[1]⋅n[2]⋅C₇₈ + n[2] ⋅C₇₂⎥\n",
       "                                                    ⎥\n",
       "   2                                           2    ⎥\n",
       "[1] ⋅C₈₁ + n[1]⋅n[2]⋅C₂₁ + n[1]⋅n[2]⋅C₈₇ + n[2] ⋅C₂₇⎦"
      ]
     },
     "execution_count": 48,
     "metadata": {},
     "output_type": "execute_result"
    }
   ],
   "source": [
    "sympy.simplify(A.as_unsym() * n_n.as_unsym())"
   ]
  }
 ],
 "metadata": {
  "kernelspec": {
   "display_name": "base",
   "language": "python",
   "name": "python3"
  },
  "language_info": {
   "codemirror_mode": {
    "name": "ipython",
    "version": 3
   },
   "file_extension": ".py",
   "mimetype": "text/x-python",
   "name": "python",
   "nbconvert_exporter": "python",
   "pygments_lexer": "ipython3",
   "version": "3.10.11"
  },
  "orig_nbformat": 4
 },
 "nbformat": 4,
 "nbformat_minor": 2
}
