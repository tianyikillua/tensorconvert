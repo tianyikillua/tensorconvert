{
 "cells": [
  {
   "cell_type": "code",
   "execution_count": 1,
   "metadata": {},
   "outputs": [],
   "source": [
    "import sympy\n",
    "from tensorconvertor import SecondOrderTensor\n",
    "\n",
    "sympy.init_printing(use_latex=True)"
   ]
  },
  {
   "cell_type": "markdown",
   "metadata": {},
   "source": [
    "# Representation of second-order tensors\n",
    "\n",
    "In this notebook we will illustrate various representations of second-order tensors and conversion between them."
   ]
  },
  {
   "cell_type": "code",
   "execution_count": 3,
   "metadata": {},
   "outputs": [
    {
     "data": {
      "image/png": "[encoded data removed]",
      "text/latex": [
       "$\\displaystyle \\left[\\begin{array}{ccc}a_{0, 0} & a_{0, 1} & a_{0, 2}\\\\a_{1, 0} & a_{1, 1} & a_{1, 2}\\\\a_{2, 0} & a_{2, 1} & a_{2, 2}\\end{array}\\right]$"
      ],
      "text/plain": [
       "⎡a₀₀  a₀₁  a₀₂⎤\n",
       "⎢             ⎥\n",
       "⎢a₁₀  a₁₁  a₁₂⎥\n",
       "⎢             ⎥\n",
       "⎣a₂₀  a₂₁  a₂₂⎦"
      ]
     },
     "execution_count": 3,
     "metadata": {},
     "output_type": "execute_result"
    }
   ],
   "source": [
    "SecondOrderTensor().as_array()"
   ]
  },
  {
   "cell_type": "code",
   "execution_count": 4,
   "metadata": {},
   "outputs": [
    {
     "data": {
      "image/png": "[encoded data removed]",
      "text/latex": [
       "$\\displaystyle \\left[\\begin{matrix}a_{0, 0}\\\\a_{1, 1}\\\\a_{2, 2}\\\\2 a_{0, 1}\\\\2 a_{0, 2}\\\\2 a_{1, 2}\\end{matrix}\\right]$"
      ],
      "text/plain": [
       "⎡ a₀₀ ⎤\n",
       "⎢     ⎥\n",
       "⎢ a₁₁ ⎥\n",
       "⎢     ⎥\n",
       "⎢ a₂₂ ⎥\n",
       "⎢     ⎥\n",
       "⎢2⋅a₀₁⎥\n",
       "⎢     ⎥\n",
       "⎢2⋅a₀₂⎥\n",
       "⎢     ⎥\n",
       "⎣2⋅a₁₂⎦"
      ]
     },
     "execution_count": 4,
     "metadata": {},
     "output_type": "execute_result"
    }
   ],
   "source": [
    "SecondOrderTensor().as_voigt_strain()"
   ]
  },
  {
   "cell_type": "code",
   "execution_count": 5,
   "metadata": {},
   "outputs": [
    {
     "data": {
      "image/png": "[encoded data removed]",
      "text/latex": [
       "$\\displaystyle \\left[\\begin{matrix}a_{0, 0}\\\\a_{1, 1}\\\\a_{2, 2}\\\\a_{0, 1}\\\\a_{0, 2}\\\\a_{1, 2}\\end{matrix}\\right]$"
      ],
      "text/plain": [
       "⎡a₀₀⎤\n",
       "⎢   ⎥\n",
       "⎢a₁₁⎥\n",
       "⎢   ⎥\n",
       "⎢a₂₂⎥\n",
       "⎢   ⎥\n",
       "⎢a₀₁⎥\n",
       "⎢   ⎥\n",
       "⎢a₀₂⎥\n",
       "⎢   ⎥\n",
       "⎣a₁₂⎦"
      ]
     },
     "execution_count": 5,
     "metadata": {},
     "output_type": "execute_result"
    }
   ],
   "source": [
    "SecondOrderTensor().as_voigt_stress()"
   ]
  },
  {
   "cell_type": "code",
   "execution_count": 6,
   "metadata": {},
   "outputs": [
    {
     "data": {
      "image/png": "[encoded data removed]",
      "text/latex": [
       "$\\displaystyle \\left[\\begin{matrix}a_{0, 0}\\\\a_{1, 1}\\\\a_{2, 2}\\\\\\sqrt{2} a_{0, 1}\\\\\\sqrt{2} a_{0, 2}\\\\\\sqrt{2} a_{1, 2}\\end{matrix}\\right]$"
      ],
      "text/plain": [
       "⎡ a₀₀  ⎤\n",
       "⎢      ⎥\n",
       "⎢ a₁₁  ⎥\n",
       "⎢      ⎥\n",
       "⎢ a₂₂  ⎥\n",
       "⎢      ⎥\n",
       "⎢√2⋅a₀₁⎥\n",
       "⎢      ⎥\n",
       "⎢√2⋅a₀₂⎥\n",
       "⎢      ⎥\n",
       "⎣√2⋅a₁₂⎦"
      ]
     },
     "execution_count": 6,
     "metadata": {},
     "output_type": "execute_result"
    }
   ],
   "source": [
    "SecondOrderTensor().as_mandel()"
   ]
  },
  {
   "cell_type": "code",
   "execution_count": 10,
   "metadata": {},
   "outputs": [
    {
     "data": {
      "image/png": "[encoded data removed]",
      "text/latex": [
       "$\\displaystyle \\left[\\begin{matrix}a_{0, 0}\\\\a_{1, 1}\\\\a_{2, 2}\\\\a_{0, 1}\\\\a_{1, 0}\\\\a_{0, 2}\\\\a_{2, 0}\\\\a_{1, 2}\\\\a_{2, 1}\\end{matrix}\\right]$"
      ],
      "text/plain": [
       "⎡a₀₀⎤\n",
       "⎢   ⎥\n",
       "⎢a₁₁⎥\n",
       "⎢   ⎥\n",
       "⎢a₂₂⎥\n",
       "⎢   ⎥\n",
       "⎢a₀₁⎥\n",
       "⎢   ⎥\n",
       "⎢a₁₀⎥\n",
       "⎢   ⎥\n",
       "⎢a₀₂⎥\n",
       "⎢   ⎥\n",
       "⎢a₂₀⎥\n",
       "⎢   ⎥\n",
       "⎢a₁₂⎥\n",
       "⎢   ⎥\n",
       "⎣a₂₁⎦"
      ]
     },
     "execution_count": 10,
     "metadata": {},
     "output_type": "execute_result"
    }
   ],
   "source": [
    "SecondOrderTensor().as_unsym()"
   ]
  },
  {
   "cell_type": "code",
   "execution_count": 7,
   "metadata": {},
   "outputs": [
    {
     "data": {
      "image/png": "[encoded data removed]",
      "text/latex": [
       "$\\displaystyle \\left[ \\left[\\begin{matrix}1 & 0 & 0\\\\0 & 0 & 0\\\\0 & 0 & 0\\end{matrix}\\right], \\  \\left[\\begin{matrix}0 & 0 & 0\\\\0 & 1 & 0\\\\0 & 0 & 0\\end{matrix}\\right], \\  \\left[\\begin{matrix}0 & 0 & 0\\\\0 & 0 & 0\\\\0 & 0 & 1\\end{matrix}\\right], \\  \\left[\\begin{matrix}0 & \\frac{\\sqrt{2}}{2} & 0\\\\\\frac{\\sqrt{2}}{2} & 0 & 0\\\\0 & 0 & 0\\end{matrix}\\right], \\  \\left[\\begin{matrix}0 & 0 & \\frac{\\sqrt{2}}{2}\\\\0 & 0 & 0\\\\\\frac{\\sqrt{2}}{2} & 0 & 0\\end{matrix}\\right], \\  \\left[\\begin{matrix}0 & 0 & 0\\\\0 & 0 & \\frac{\\sqrt{2}}{2}\\\\0 & \\frac{\\sqrt{2}}{2} & 0\\end{matrix}\\right]\\right]$"
      ],
      "text/plain": [
       "⎡                                 ⎡    √2   ⎤  ⎡       √2⎤  ⎡0  0   0 ⎤⎤\n",
       "⎢                                 ⎢0   ──  0⎥  ⎢0   0  ──⎥  ⎢         ⎥⎥\n",
       "⎢⎡1  0  0⎤  ⎡0  0  0⎤  ⎡0  0  0⎤  ⎢    2    ⎥  ⎢       2 ⎥  ⎢       √2⎥⎥\n",
       "⎢⎢       ⎥  ⎢       ⎥  ⎢       ⎥  ⎢         ⎥  ⎢         ⎥  ⎢0  0   ──⎥⎥\n",
       "⎢⎢0  0  0⎥, ⎢0  1  0⎥, ⎢0  0  0⎥, ⎢√2       ⎥, ⎢0   0  0 ⎥, ⎢       2 ⎥⎥\n",
       "⎢⎢       ⎥  ⎢       ⎥  ⎢       ⎥  ⎢──  0   0⎥  ⎢         ⎥  ⎢         ⎥⎥\n",
       "⎢⎣0  0  0⎦  ⎣0  0  0⎦  ⎣0  0  1⎦  ⎢2        ⎥  ⎢√2       ⎥  ⎢   √2    ⎥⎥\n",
       "⎢                                 ⎢         ⎥  ⎢──  0  0 ⎥  ⎢0  ──  0 ⎥⎥\n",
       "⎣                                 ⎣0   0   0⎦  ⎣2        ⎦  ⎣   2     ⎦⎦"
      ]
     },
     "execution_count": 7,
     "metadata": {},
     "output_type": "execute_result"
    }
   ],
   "source": [
    "SecondOrderTensor().basis_mandel()"
   ]
  },
  {
   "cell_type": "code",
   "execution_count": 3,
   "metadata": {},
   "outputs": [
    {
     "data": {
      "image/png": "[encoded data removed]",
      "text/latex": [
       "$\\displaystyle \\left[ \\left[\\begin{matrix}1 & 0 & 0\\\\0 & 0 & 0\\\\0 & 0 & 0\\end{matrix}\\right], \\  \\left[\\begin{matrix}0 & 0 & 0\\\\0 & 1 & 0\\\\0 & 0 & 0\\end{matrix}\\right], \\  \\left[\\begin{matrix}0 & 0 & 0\\\\0 & 0 & 0\\\\0 & 0 & 1\\end{matrix}\\right], \\  \\left[\\begin{matrix}0 & \\frac{1}{2} & 0\\\\\\frac{1}{2} & 0 & 0\\\\0 & 0 & 0\\end{matrix}\\right], \\  \\left[\\begin{matrix}0 & 0 & \\frac{1}{2}\\\\0 & 0 & 0\\\\\\frac{1}{2} & 0 & 0\\end{matrix}\\right], \\  \\left[\\begin{matrix}0 & 0 & 0\\\\0 & 0 & \\frac{1}{2}\\\\0 & \\frac{1}{2} & 0\\end{matrix}\\right]\\right]$"
      ],
      "text/plain": [
       "⎡⎡1  0  0⎤  ⎡0  0  0⎤  ⎡0  0  0⎤  ⎡ 0   1/2  0⎤  ⎡ 0   0  1/2⎤  ⎡0   0    0 ⎤⎤\n",
       "⎢⎢       ⎥  ⎢       ⎥  ⎢       ⎥  ⎢           ⎥  ⎢           ⎥  ⎢           ⎥⎥\n",
       "⎢⎢0  0  0⎥, ⎢0  1  0⎥, ⎢0  0  0⎥, ⎢1/2   0   0⎥, ⎢ 0   0   0 ⎥, ⎢0   0   1/2⎥⎥\n",
       "⎢⎢       ⎥  ⎢       ⎥  ⎢       ⎥  ⎢           ⎥  ⎢           ⎥  ⎢           ⎥⎥\n",
       "⎣⎣0  0  0⎦  ⎣0  0  0⎦  ⎣0  0  1⎦  ⎣ 0    0   0⎦  ⎣1/2  0   0 ⎦  ⎣0  1/2   0 ⎦⎦"
      ]
     },
     "execution_count": 3,
     "metadata": {},
     "output_type": "execute_result"
    }
   ],
   "source": [
    "SecondOrderTensor().basis_voigt_strain()"
   ]
  },
  {
   "cell_type": "code",
   "execution_count": 4,
   "metadata": {},
   "outputs": [
    {
     "data": {
      "image/png": "[encoded data removed]",
      "text/latex": [
       "$\\displaystyle \\left[ \\left[\\begin{matrix}1 & 0 & 0\\\\0 & 0 & 0\\\\0 & 0 & 0\\end{matrix}\\right], \\  \\left[\\begin{matrix}0 & 0 & 0\\\\0 & 1 & 0\\\\0 & 0 & 0\\end{matrix}\\right], \\  \\left[\\begin{matrix}0 & 0 & 0\\\\0 & 0 & 0\\\\0 & 0 & 1\\end{matrix}\\right], \\  \\left[\\begin{matrix}0 & 1 & 0\\\\1 & 0 & 0\\\\0 & 0 & 0\\end{matrix}\\right], \\  \\left[\\begin{matrix}0 & 0 & 1\\\\0 & 0 & 0\\\\1 & 0 & 0\\end{matrix}\\right], \\  \\left[\\begin{matrix}0 & 0 & 0\\\\0 & 0 & 1\\\\0 & 1 & 0\\end{matrix}\\right]\\right]$"
      ],
      "text/plain": [
       "⎡⎡1  0  0⎤  ⎡0  0  0⎤  ⎡0  0  0⎤  ⎡0  1  0⎤  ⎡0  0  1⎤  ⎡0  0  0⎤⎤\n",
       "⎢⎢       ⎥  ⎢       ⎥  ⎢       ⎥  ⎢       ⎥  ⎢       ⎥  ⎢       ⎥⎥\n",
       "⎢⎢0  0  0⎥, ⎢0  1  0⎥, ⎢0  0  0⎥, ⎢1  0  0⎥, ⎢0  0  0⎥, ⎢0  0  1⎥⎥\n",
       "⎢⎢       ⎥  ⎢       ⎥  ⎢       ⎥  ⎢       ⎥  ⎢       ⎥  ⎢       ⎥⎥\n",
       "⎣⎣0  0  0⎦  ⎣0  0  0⎦  ⎣0  0  1⎦  ⎣0  0  0⎦  ⎣1  0  0⎦  ⎣0  1  0⎦⎦"
      ]
     },
     "execution_count": 4,
     "metadata": {},
     "output_type": "execute_result"
    }
   ],
   "source": [
    "SecondOrderTensor().basis_voigt_stress()"
   ]
  },
  {
   "cell_type": "code",
   "execution_count": 9,
   "metadata": {},
   "outputs": [
    {
     "data": {
      "image/png": "[encoded data removed]",
      "text/latex": [
       "$\\displaystyle \\left[ \\left[\\begin{matrix}1 & 0 & 0\\\\0 & 0 & 0\\\\0 & 0 & 0\\end{matrix}\\right], \\  \\left[\\begin{matrix}0 & 0 & 0\\\\0 & 1 & 0\\\\0 & 0 & 0\\end{matrix}\\right], \\  \\left[\\begin{matrix}0 & 0 & 0\\\\0 & 0 & 0\\\\0 & 0 & 1\\end{matrix}\\right], \\  \\left[\\begin{matrix}0 & 1 & 0\\\\0 & 0 & 0\\\\0 & 0 & 0\\end{matrix}\\right], \\  \\left[\\begin{matrix}0 & 0 & 0\\\\1 & 0 & 0\\\\0 & 0 & 0\\end{matrix}\\right], \\  \\left[\\begin{matrix}0 & 0 & 1\\\\0 & 0 & 0\\\\0 & 0 & 0\\end{matrix}\\right], \\  \\left[\\begin{matrix}0 & 0 & 0\\\\0 & 0 & 0\\\\1 & 0 & 0\\end{matrix}\\right], \\  \\left[\\begin{matrix}0 & 0 & 0\\\\0 & 0 & 1\\\\0 & 0 & 0\\end{matrix}\\right], \\  \\left[\\begin{matrix}0 & 0 & 0\\\\0 & 0 & 0\\\\0 & 1 & 0\\end{matrix}\\right]\\right]$"
      ],
      "text/plain": [
       "⎡⎡1  0  0⎤  ⎡0  0  0⎤  ⎡0  0  0⎤  ⎡0  1  0⎤  ⎡0  0  0⎤  ⎡0  0  1⎤  ⎡0  0  0⎤  \n",
       "⎢⎢       ⎥  ⎢       ⎥  ⎢       ⎥  ⎢       ⎥  ⎢       ⎥  ⎢       ⎥  ⎢       ⎥  \n",
       "⎢⎢0  0  0⎥, ⎢0  1  0⎥, ⎢0  0  0⎥, ⎢0  0  0⎥, ⎢1  0  0⎥, ⎢0  0  0⎥, ⎢0  0  0⎥, \n",
       "⎢⎢       ⎥  ⎢       ⎥  ⎢       ⎥  ⎢       ⎥  ⎢       ⎥  ⎢       ⎥  ⎢       ⎥  \n",
       "⎣⎣0  0  0⎦  ⎣0  0  0⎦  ⎣0  0  1⎦  ⎣0  0  0⎦  ⎣0  0  0⎦  ⎣0  0  0⎦  ⎣1  0  0⎦  \n",
       "\n",
       "⎡0  0  0⎤  ⎡0  0  0⎤⎤\n",
       "⎢       ⎥  ⎢       ⎥⎥\n",
       "⎢0  0  1⎥, ⎢0  0  0⎥⎥\n",
       "⎢       ⎥  ⎢       ⎥⎥\n",
       "⎣0  0  0⎦  ⎣0  1  0⎦⎦"
      ]
     },
     "execution_count": 9,
     "metadata": {},
     "output_type": "execute_result"
    }
   ],
   "source": [
    "SecondOrderTensor().basis_unsym()"
   ]
  },
  {
   "cell_type": "code",
   "execution_count": 8,
   "metadata": {},
   "outputs": [
    {
     "data": {
      "image/png": "[encoded data removed]",
      "text/latex": [
       "$\\displaystyle \\left[ \\left[\\begin{matrix}1 & 0\\\\0 & 0\\end{matrix}\\right], \\  \\left[\\begin{matrix}0 & 0\\\\0 & 1\\end{matrix}\\right], \\  \\left[\\begin{matrix}0 & \\frac{\\sqrt{2}}{2}\\\\\\frac{\\sqrt{2}}{2} & 0\\end{matrix}\\right]\\right]$"
      ],
      "text/plain": [
       "⎡                ⎡    √2⎤⎤\n",
       "⎢                ⎢0   ──⎥⎥\n",
       "⎢⎡1  0⎤  ⎡0  0⎤  ⎢    2 ⎥⎥\n",
       "⎢⎢    ⎥, ⎢    ⎥, ⎢      ⎥⎥\n",
       "⎢⎣0  0⎦  ⎣0  1⎦  ⎢√2    ⎥⎥\n",
       "⎢                ⎢──  0 ⎥⎥\n",
       "⎣                ⎣2     ⎦⎦"
      ]
     },
     "execution_count": 8,
     "metadata": {},
     "output_type": "execute_result"
    }
   ],
   "source": [
    "SecondOrderTensor(dim=2).basis_mandel()"
   ]
  },
  {
   "cell_type": "code",
   "execution_count": 11,
   "metadata": {},
   "outputs": [
    {
     "data": {
      "image/png": "[encoded data removed]",
      "text/latex": [
       "$\\displaystyle \\left[ \\left[\\begin{matrix}1 & 0\\\\0 & 0\\end{matrix}\\right], \\  \\left[\\begin{matrix}0 & 0\\\\0 & 1\\end{matrix}\\right], \\  \\left[\\begin{matrix}0 & 1\\\\0 & 0\\end{matrix}\\right], \\  \\left[\\begin{matrix}0 & 0\\\\1 & 0\\end{matrix}\\right]\\right]$"
      ],
      "text/plain": [
       "⎡⎡1  0⎤  ⎡0  0⎤  ⎡0  1⎤  ⎡0  0⎤⎤\n",
       "⎢⎢    ⎥, ⎢    ⎥, ⎢    ⎥, ⎢    ⎥⎥\n",
       "⎣⎣0  0⎦  ⎣0  1⎦  ⎣0  0⎦  ⎣1  0⎦⎦"
      ]
     },
     "execution_count": 11,
     "metadata": {},
     "output_type": "execute_result"
    }
   ],
   "source": [
    "SecondOrderTensor(dim=2).basis_unsym()"
   ]
  }
 ],
 "metadata": {
  "kernelspec": {
   "display_name": "base",
   "language": "python",
   "name": "python3"
  },
  "language_info": {
   "codemirror_mode": {
    "name": "ipython",
    "version": 3
   },
   "file_extension": ".py",
   "mimetype": "text/x-python",
   "name": "python",
   "nbconvert_exporter": "python",
   "pygments_lexer": "ipython3",
   "version": "3.10.11"
  },
  "orig_nbformat": 4
 },
 "nbformat": 4,
 "nbformat_minor": 2
}
